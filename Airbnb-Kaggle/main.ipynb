{
  "nbformat": 4,
  "nbformat_minor": 0,
  "metadata": {
    "colab": {
      "name": "Airbnb.ipynb",
      "provenance": [],
      "collapsed_sections": [],
      "toc_visible": true
    },
    "kernelspec": {
      "name": "python3",
      "display_name": "Python 3"
    },
    "language_info": {
      "name": "python"
    }
  },
  "cells": [
    {
      "cell_type": "code",
      "metadata": {
        "id": "UK1IKEa4pD7D"
      },
      "source": [
        "import numpy as np \n",
        "import pandas as pd \n",
        "import torch\n",
        "import torch.nn as nn\n",
        "from torch.utils.data import Dataset, DataLoader, random_split\n",
        "from sklearn.preprocessing import OneHotEncoder, LabelEncoder, MinMaxScaler\n",
        "from sklearn.metrics import classification_report\n",
        "from tqdm.notebook import tqdm\n",
        "from collections import Counter"
      ],
      "execution_count": null,
      "outputs": []
    },
    {
      "cell_type": "code",
      "metadata": {
        "id": "prKcNsGNpOdX"
      },
      "source": [
        "folder_path = '/content/drive/MyDrive/python_data/kaggle/airbnb/data/'\n",
        "files = ['age_gender_bkts.csv', 'countries.csv', 'sessions.csv', 'test_users.csv', 'train_users_2.csv']"
      ],
      "execution_count": null,
      "outputs": []
    },
    {
      "cell_type": "code",
      "metadata": {
        "id": "DbVFU3rGpdfu"
      },
      "source": [
        "train_df = pd.read_csv(folder_path+files[4])\n",
        "test_df = pd.read_csv(folder_path+files[3])\n",
        "sessions = pd.read_csv(folder_path+files[2])\n",
        "countries = pd.read_csv(folder_path+files[1])\n",
        "age_gender = pd.read_csv(folder_path+files[0])"
      ],
      "execution_count": null,
      "outputs": []
    },
    {
      "cell_type": "code",
      "metadata": {
        "colab": {
          "base_uri": "https://localhost:8080/",
          "height": 357
        },
        "id": "x2Gh7AEcjugL",
        "outputId": "fb492a1a-6142-4369-e34e-5a1607848901"
      },
      "source": [
        "countries"
      ],
      "execution_count": null,
      "outputs": [
        {
          "output_type": "execute_result",
          "data": {
            "text/html": [
              "<div>\n",
              "<style scoped>\n",
              "    .dataframe tbody tr th:only-of-type {\n",
              "        vertical-align: middle;\n",
              "    }\n",
              "\n",
              "    .dataframe tbody tr th {\n",
              "        vertical-align: top;\n",
              "    }\n",
              "\n",
              "    .dataframe thead th {\n",
              "        text-align: right;\n",
              "    }\n",
              "</style>\n",
              "<table border=\"1\" class=\"dataframe\">\n",
              "  <thead>\n",
              "    <tr style=\"text-align: right;\">\n",
              "      <th></th>\n",
              "      <th>country_destination</th>\n",
              "      <th>lat_destination</th>\n",
              "      <th>lng_destination</th>\n",
              "      <th>distance_km</th>\n",
              "      <th>destination_km2</th>\n",
              "      <th>destination_language</th>\n",
              "      <th>language_levenshtein_distance</th>\n",
              "    </tr>\n",
              "  </thead>\n",
              "  <tbody>\n",
              "    <tr>\n",
              "      <th>0</th>\n",
              "      <td>AU</td>\n",
              "      <td>-26.853388</td>\n",
              "      <td>133.275160</td>\n",
              "      <td>15297.7440</td>\n",
              "      <td>7741220.0</td>\n",
              "      <td>eng</td>\n",
              "      <td>0.00</td>\n",
              "    </tr>\n",
              "    <tr>\n",
              "      <th>1</th>\n",
              "      <td>CA</td>\n",
              "      <td>62.393303</td>\n",
              "      <td>-96.818146</td>\n",
              "      <td>2828.1333</td>\n",
              "      <td>9984670.0</td>\n",
              "      <td>eng</td>\n",
              "      <td>0.00</td>\n",
              "    </tr>\n",
              "    <tr>\n",
              "      <th>2</th>\n",
              "      <td>DE</td>\n",
              "      <td>51.165707</td>\n",
              "      <td>10.452764</td>\n",
              "      <td>7879.5680</td>\n",
              "      <td>357022.0</td>\n",
              "      <td>deu</td>\n",
              "      <td>72.61</td>\n",
              "    </tr>\n",
              "    <tr>\n",
              "      <th>3</th>\n",
              "      <td>ES</td>\n",
              "      <td>39.896027</td>\n",
              "      <td>-2.487694</td>\n",
              "      <td>7730.7240</td>\n",
              "      <td>505370.0</td>\n",
              "      <td>spa</td>\n",
              "      <td>92.25</td>\n",
              "    </tr>\n",
              "    <tr>\n",
              "      <th>4</th>\n",
              "      <td>FR</td>\n",
              "      <td>46.232193</td>\n",
              "      <td>2.209667</td>\n",
              "      <td>7682.9450</td>\n",
              "      <td>643801.0</td>\n",
              "      <td>fra</td>\n",
              "      <td>92.06</td>\n",
              "    </tr>\n",
              "    <tr>\n",
              "      <th>5</th>\n",
              "      <td>GB</td>\n",
              "      <td>54.633220</td>\n",
              "      <td>-3.432277</td>\n",
              "      <td>6883.6590</td>\n",
              "      <td>243610.0</td>\n",
              "      <td>eng</td>\n",
              "      <td>0.00</td>\n",
              "    </tr>\n",
              "    <tr>\n",
              "      <th>6</th>\n",
              "      <td>IT</td>\n",
              "      <td>41.873990</td>\n",
              "      <td>12.564167</td>\n",
              "      <td>8636.6310</td>\n",
              "      <td>301340.0</td>\n",
              "      <td>ita</td>\n",
              "      <td>89.40</td>\n",
              "    </tr>\n",
              "    <tr>\n",
              "      <th>7</th>\n",
              "      <td>NL</td>\n",
              "      <td>52.133057</td>\n",
              "      <td>5.295250</td>\n",
              "      <td>7524.3203</td>\n",
              "      <td>41543.0</td>\n",
              "      <td>nld</td>\n",
              "      <td>63.22</td>\n",
              "    </tr>\n",
              "    <tr>\n",
              "      <th>8</th>\n",
              "      <td>PT</td>\n",
              "      <td>39.553444</td>\n",
              "      <td>-7.839319</td>\n",
              "      <td>7355.2534</td>\n",
              "      <td>92090.0</td>\n",
              "      <td>por</td>\n",
              "      <td>95.45</td>\n",
              "    </tr>\n",
              "    <tr>\n",
              "      <th>9</th>\n",
              "      <td>US</td>\n",
              "      <td>36.966427</td>\n",
              "      <td>-95.844030</td>\n",
              "      <td>0.0000</td>\n",
              "      <td>9826675.0</td>\n",
              "      <td>eng</td>\n",
              "      <td>0.00</td>\n",
              "    </tr>\n",
              "  </tbody>\n",
              "</table>\n",
              "</div>"
            ],
            "text/plain": [
              "  country_destination  ...  language_levenshtein_distance\n",
              "0                  AU  ...                           0.00\n",
              "1                  CA  ...                           0.00\n",
              "2                  DE  ...                          72.61\n",
              "3                  ES  ...                          92.25\n",
              "4                  FR  ...                          92.06\n",
              "5                  GB  ...                           0.00\n",
              "6                  IT  ...                          89.40\n",
              "7                  NL  ...                          63.22\n",
              "8                  PT  ...                          95.45\n",
              "9                  US  ...                           0.00\n",
              "\n",
              "[10 rows x 7 columns]"
            ]
          },
          "metadata": {
            "tags": []
          },
          "execution_count": 5
        }
      ]
    },
    {
      "cell_type": "code",
      "metadata": {
        "id": "4x5Z490RP-jO"
      },
      "source": [
        "device = 'cuda' if torch.cuda.is_available() else \"cpu\""
      ],
      "execution_count": null,
      "outputs": []
    },
    {
      "cell_type": "markdown",
      "metadata": {
        "id": "yHg1Ic2ns1fL"
      },
      "source": [
        "# EDA"
      ]
    },
    {
      "cell_type": "code",
      "metadata": {
        "colab": {
          "base_uri": "https://localhost:8080/",
          "height": 178
        },
        "id": "mB6G7UYLqL4N",
        "outputId": "925ad006-fbe1-4c38-efd6-648cc8015aa1"
      },
      "source": [
        "train_df.head(3)"
      ],
      "execution_count": null,
      "outputs": [
        {
          "output_type": "execute_result",
          "data": {
            "text/html": [
              "<div>\n",
              "<style scoped>\n",
              "    .dataframe tbody tr th:only-of-type {\n",
              "        vertical-align: middle;\n",
              "    }\n",
              "\n",
              "    .dataframe tbody tr th {\n",
              "        vertical-align: top;\n",
              "    }\n",
              "\n",
              "    .dataframe thead th {\n",
              "        text-align: right;\n",
              "    }\n",
              "</style>\n",
              "<table border=\"1\" class=\"dataframe\">\n",
              "  <thead>\n",
              "    <tr style=\"text-align: right;\">\n",
              "      <th></th>\n",
              "      <th>id</th>\n",
              "      <th>date_account_created</th>\n",
              "      <th>timestamp_first_active</th>\n",
              "      <th>date_first_booking</th>\n",
              "      <th>gender</th>\n",
              "      <th>age</th>\n",
              "      <th>signup_method</th>\n",
              "      <th>signup_flow</th>\n",
              "      <th>language</th>\n",
              "      <th>affiliate_channel</th>\n",
              "      <th>affiliate_provider</th>\n",
              "      <th>first_affiliate_tracked</th>\n",
              "      <th>signup_app</th>\n",
              "      <th>first_device_type</th>\n",
              "      <th>first_browser</th>\n",
              "      <th>country_destination</th>\n",
              "    </tr>\n",
              "  </thead>\n",
              "  <tbody>\n",
              "    <tr>\n",
              "      <th>0</th>\n",
              "      <td>gxn3p5htnn</td>\n",
              "      <td>2010-06-28</td>\n",
              "      <td>20090319043255</td>\n",
              "      <td>NaN</td>\n",
              "      <td>-unknown-</td>\n",
              "      <td>NaN</td>\n",
              "      <td>facebook</td>\n",
              "      <td>0</td>\n",
              "      <td>en</td>\n",
              "      <td>direct</td>\n",
              "      <td>direct</td>\n",
              "      <td>untracked</td>\n",
              "      <td>Web</td>\n",
              "      <td>Mac Desktop</td>\n",
              "      <td>Chrome</td>\n",
              "      <td>NDF</td>\n",
              "    </tr>\n",
              "    <tr>\n",
              "      <th>1</th>\n",
              "      <td>820tgsjxq7</td>\n",
              "      <td>2011-05-25</td>\n",
              "      <td>20090523174809</td>\n",
              "      <td>NaN</td>\n",
              "      <td>MALE</td>\n",
              "      <td>38.0</td>\n",
              "      <td>facebook</td>\n",
              "      <td>0</td>\n",
              "      <td>en</td>\n",
              "      <td>seo</td>\n",
              "      <td>google</td>\n",
              "      <td>untracked</td>\n",
              "      <td>Web</td>\n",
              "      <td>Mac Desktop</td>\n",
              "      <td>Chrome</td>\n",
              "      <td>NDF</td>\n",
              "    </tr>\n",
              "    <tr>\n",
              "      <th>2</th>\n",
              "      <td>4ft3gnwmtx</td>\n",
              "      <td>2010-09-28</td>\n",
              "      <td>20090609231247</td>\n",
              "      <td>2010-08-02</td>\n",
              "      <td>FEMALE</td>\n",
              "      <td>56.0</td>\n",
              "      <td>basic</td>\n",
              "      <td>3</td>\n",
              "      <td>en</td>\n",
              "      <td>direct</td>\n",
              "      <td>direct</td>\n",
              "      <td>untracked</td>\n",
              "      <td>Web</td>\n",
              "      <td>Windows Desktop</td>\n",
              "      <td>IE</td>\n",
              "      <td>US</td>\n",
              "    </tr>\n",
              "  </tbody>\n",
              "</table>\n",
              "</div>"
            ],
            "text/plain": [
              "           id date_account_created  ...  first_browser country_destination\n",
              "0  gxn3p5htnn           2010-06-28  ...         Chrome                 NDF\n",
              "1  820tgsjxq7           2011-05-25  ...         Chrome                 NDF\n",
              "2  4ft3gnwmtx           2010-09-28  ...             IE                  US\n",
              "\n",
              "[3 rows x 16 columns]"
            ]
          },
          "metadata": {
            "tags": []
          },
          "execution_count": 153
        }
      ]
    },
    {
      "cell_type": "markdown",
      "metadata": {
        "id": "GtYxJ_YibiA0"
      },
      "source": [
        "## Session"
      ]
    },
    {
      "cell_type": "code",
      "metadata": {
        "colab": {
          "base_uri": "https://localhost:8080/",
          "height": 142
        },
        "id": "Wu6zDw64cTWO",
        "outputId": "f7b8d2b7-b405-4992-f775-06097dc0359a"
      },
      "source": [
        "sessions.head(3)"
      ],
      "execution_count": null,
      "outputs": [
        {
          "output_type": "execute_result",
          "data": {
            "text/html": [
              "<div>\n",
              "<style scoped>\n",
              "    .dataframe tbody tr th:only-of-type {\n",
              "        vertical-align: middle;\n",
              "    }\n",
              "\n",
              "    .dataframe tbody tr th {\n",
              "        vertical-align: top;\n",
              "    }\n",
              "\n",
              "    .dataframe thead th {\n",
              "        text-align: right;\n",
              "    }\n",
              "</style>\n",
              "<table border=\"1\" class=\"dataframe\">\n",
              "  <thead>\n",
              "    <tr style=\"text-align: right;\">\n",
              "      <th></th>\n",
              "      <th>user_id</th>\n",
              "      <th>action</th>\n",
              "      <th>action_type</th>\n",
              "      <th>action_detail</th>\n",
              "      <th>device_type</th>\n",
              "      <th>secs_elapsed</th>\n",
              "    </tr>\n",
              "  </thead>\n",
              "  <tbody>\n",
              "    <tr>\n",
              "      <th>0</th>\n",
              "      <td>d1mm9tcy42</td>\n",
              "      <td>lookup</td>\n",
              "      <td>NaN</td>\n",
              "      <td>NaN</td>\n",
              "      <td>Windows Desktop</td>\n",
              "      <td>319.0</td>\n",
              "    </tr>\n",
              "    <tr>\n",
              "      <th>1</th>\n",
              "      <td>d1mm9tcy42</td>\n",
              "      <td>search_results</td>\n",
              "      <td>click</td>\n",
              "      <td>view_search_results</td>\n",
              "      <td>Windows Desktop</td>\n",
              "      <td>67753.0</td>\n",
              "    </tr>\n",
              "    <tr>\n",
              "      <th>2</th>\n",
              "      <td>d1mm9tcy42</td>\n",
              "      <td>lookup</td>\n",
              "      <td>NaN</td>\n",
              "      <td>NaN</td>\n",
              "      <td>Windows Desktop</td>\n",
              "      <td>301.0</td>\n",
              "    </tr>\n",
              "  </tbody>\n",
              "</table>\n",
              "</div>"
            ],
            "text/plain": [
              "      user_id          action  ...      device_type secs_elapsed\n",
              "0  d1mm9tcy42          lookup  ...  Windows Desktop        319.0\n",
              "1  d1mm9tcy42  search_results  ...  Windows Desktop      67753.0\n",
              "2  d1mm9tcy42          lookup  ...  Windows Desktop        301.0\n",
              "\n",
              "[3 rows x 6 columns]"
            ]
          },
          "metadata": {
            "tags": []
          },
          "execution_count": 154
        }
      ]
    },
    {
      "cell_type": "markdown",
      "metadata": {
        "id": "PgbeuPgvcaP3"
      },
      "source": [
        "## Country"
      ]
    },
    {
      "cell_type": "code",
      "metadata": {
        "id": "EeN6dYUyccI1"
      },
      "source": [
        "# countries"
      ],
      "execution_count": null,
      "outputs": []
    },
    {
      "cell_type": "code",
      "metadata": {
        "id": "TV45QNfq5e-v"
      },
      "source": [
        "# age_gender"
      ],
      "execution_count": null,
      "outputs": []
    },
    {
      "cell_type": "markdown",
      "metadata": {
        "id": "i86V_MCytXb4"
      },
      "source": [
        "## 確認target 是否有data imbalance問題\n",
        "1. 6成NDF，3成US\n",
        "2. Evaluation metrics：NDCG\n",
        "3. data imbalance 問題"
      ]
    },
    {
      "cell_type": "code",
      "metadata": {
        "colab": {
          "base_uri": "https://localhost:8080/"
        },
        "id": "Rc8KaubGs3Za",
        "outputId": "5e255c92-a7f6-4d3e-89b5-3413dc09a795"
      },
      "source": [
        "print('目的地占比 %')\n",
        "(train_df.iloc[:, -1].value_counts()/len(train_df))*100"
      ],
      "execution_count": null,
      "outputs": [
        {
          "output_type": "stream",
          "text": [
            "目的地占比 %\n"
          ],
          "name": "stdout"
        },
        {
          "output_type": "execute_result",
          "data": {
            "text/plain": [
              "NDF      58.347349\n",
              "US       29.222632\n",
              "other     4.728954\n",
              "FR        2.353233\n",
              "IT        1.328174\n",
              "GB        1.088774\n",
              "ES        1.053638\n",
              "CA        0.669006\n",
              "DE        0.497070\n",
              "NL        0.356991\n",
              "AU        0.252517\n",
              "PT        0.101663\n",
              "Name: country_destination, dtype: float64"
            ]
          },
          "metadata": {
            "tags": []
          },
          "execution_count": 157
        }
      ]
    },
    {
      "cell_type": "code",
      "metadata": {
        "id": "u1S7_LvbOzKt"
      },
      "source": [
        "import matplotlib.pyplot as plt\n",
        "plt.hist()"
      ],
      "execution_count": null,
      "outputs": []
    },
    {
      "cell_type": "markdown",
      "metadata": {
        "id": "aFXh6vRFnW8X"
      },
      "source": [
        "# Session"
      ]
    },
    {
      "cell_type": "code",
      "metadata": {
        "colab": {
          "base_uri": "https://localhost:8080/"
        },
        "id": "-FW6gZyE5aKS",
        "outputId": "c5e2449a-9a00-4c8b-ad2c-bdfb36e3d76a"
      },
      "source": [
        "sessions.info()"
      ],
      "execution_count": null,
      "outputs": [
        {
          "output_type": "stream",
          "text": [
            "<class 'pandas.core.frame.DataFrame'>\n",
            "RangeIndex: 10567737 entries, 0 to 10567736\n",
            "Data columns (total 6 columns):\n",
            " #   Column         Dtype  \n",
            "---  ------         -----  \n",
            " 0   user_id        object \n",
            " 1   action         object \n",
            " 2   action_type    object \n",
            " 3   action_detail  object \n",
            " 4   device_type    object \n",
            " 5   secs_elapsed   float64\n",
            "dtypes: float64(1), object(5)\n",
            "memory usage: 483.8+ MB\n"
          ],
          "name": "stdout"
        }
      ]
    },
    {
      "cell_type": "code",
      "metadata": {
        "colab": {
          "base_uri": "https://localhost:8080/",
          "height": 159
        },
        "id": "jKFHTRxAs5A0",
        "outputId": "c63f0769-753a-4095-f455-6c04d85800ad"
      },
      "source": [
        "print(len(sessions))\n",
        "sessions.fillna(value= {'action_type': 'NaN', 'action_detail': 'NaN', 'secs_elapsed': 0}, inplace= True)\n",
        "sessions.head(3)"
      ],
      "execution_count": null,
      "outputs": [
        {
          "output_type": "stream",
          "text": [
            "10567737\n"
          ],
          "name": "stdout"
        },
        {
          "output_type": "execute_result",
          "data": {
            "text/html": [
              "<div>\n",
              "<style scoped>\n",
              "    .dataframe tbody tr th:only-of-type {\n",
              "        vertical-align: middle;\n",
              "    }\n",
              "\n",
              "    .dataframe tbody tr th {\n",
              "        vertical-align: top;\n",
              "    }\n",
              "\n",
              "    .dataframe thead th {\n",
              "        text-align: right;\n",
              "    }\n",
              "</style>\n",
              "<table border=\"1\" class=\"dataframe\">\n",
              "  <thead>\n",
              "    <tr style=\"text-align: right;\">\n",
              "      <th></th>\n",
              "      <th>user_id</th>\n",
              "      <th>action</th>\n",
              "      <th>action_type</th>\n",
              "      <th>action_detail</th>\n",
              "      <th>device_type</th>\n",
              "      <th>secs_elapsed</th>\n",
              "    </tr>\n",
              "  </thead>\n",
              "  <tbody>\n",
              "    <tr>\n",
              "      <th>0</th>\n",
              "      <td>d1mm9tcy42</td>\n",
              "      <td>lookup</td>\n",
              "      <td>NaN</td>\n",
              "      <td>NaN</td>\n",
              "      <td>Windows Desktop</td>\n",
              "      <td>319.0</td>\n",
              "    </tr>\n",
              "    <tr>\n",
              "      <th>1</th>\n",
              "      <td>d1mm9tcy42</td>\n",
              "      <td>search_results</td>\n",
              "      <td>click</td>\n",
              "      <td>view_search_results</td>\n",
              "      <td>Windows Desktop</td>\n",
              "      <td>67753.0</td>\n",
              "    </tr>\n",
              "    <tr>\n",
              "      <th>2</th>\n",
              "      <td>d1mm9tcy42</td>\n",
              "      <td>lookup</td>\n",
              "      <td>NaN</td>\n",
              "      <td>NaN</td>\n",
              "      <td>Windows Desktop</td>\n",
              "      <td>301.0</td>\n",
              "    </tr>\n",
              "  </tbody>\n",
              "</table>\n",
              "</div>"
            ],
            "text/plain": [
              "      user_id          action  ...      device_type secs_elapsed\n",
              "0  d1mm9tcy42          lookup  ...  Windows Desktop        319.0\n",
              "1  d1mm9tcy42  search_results  ...  Windows Desktop      67753.0\n",
              "2  d1mm9tcy42          lookup  ...  Windows Desktop        301.0\n",
              "\n",
              "[3 rows x 6 columns]"
            ]
          },
          "metadata": {
            "tags": []
          },
          "execution_count": 159
        }
      ]
    },
    {
      "cell_type": "code",
      "metadata": {
        "id": "Py73yHRVezrs"
      },
      "source": [
        "# new_session = pd.merge(sessions, train_df, left_on='user_id', right_on= 'id')[['user_id', 'action', 'action_type', 'action_detail', 'device_type', 'secs_elapsed', 'country_destination']]"
      ],
      "execution_count": null,
      "outputs": []
    },
    {
      "cell_type": "code",
      "metadata": {
        "colab": {
          "base_uri": "https://localhost:8080/"
        },
        "id": "451xQHDOfjUN",
        "outputId": "5adad070-3013-4d50-efe7-ac2c9b0f3fdc"
      },
      "source": [
        "# new_session.groupby(['action_detail'])['country_destination'].value_counts()\n",
        "# pd.get_dummies(sessions)\n",
        "print(train_df['id'].nunique())\n",
        "print(sessions['user_id'].nunique())\n",
        "print(sessions['action'].nunique())\n",
        "print(sessions['action_type'].nunique())\n",
        "print(sessions['action_detail'].nunique())"
      ],
      "execution_count": null,
      "outputs": [
        {
          "output_type": "stream",
          "text": [
            "213451\n",
            "135483\n",
            "359\n",
            "11\n",
            "156\n"
          ],
          "name": "stdout"
        }
      ]
    },
    {
      "cell_type": "code",
      "metadata": {
        "id": "__8TwCZEtU_Q"
      },
      "source": [
        "# sessions['action_detail'].apply(lambda x: x.split('_')[0])\n",
        "# clean_session = sessions[['user_id', 'action_detail']].dropna().drop_duplicates()\n",
        "# user_action_feature = pd.get_dummies(clean_session, columns= ['action_detail']).groupby(['user_id']).max()"
      ],
      "execution_count": null,
      "outputs": []
    },
    {
      "cell_type": "code",
      "metadata": {
        "id": "PgvIBSXNkb5d"
      },
      "source": [
        "session_feature = sessions.groupby(['user_id']).agg(action_detail_count= ('action_detail', 'count'),\n",
        "                          action_detail_mode= ('action_detail', lambda x: Counter(x).most_common(1)[0][0]),\n",
        "                          secs_mean= ('secs_elapsed', 'mean'), \n",
        "                          secs_std= ('secs_elapsed', 'std')).fillna(0)"
      ],
      "execution_count": null,
      "outputs": []
    },
    {
      "cell_type": "code",
      "metadata": {
        "id": "S9wkrRagndjY"
      },
      "source": [
        "scaler = MinMaxScaler()\n",
        "normalized_data = scaler.fit_transform(session_feature[['action_detail_count', 'secs_mean', 'secs_std']])"
      ],
      "execution_count": null,
      "outputs": []
    },
    {
      "cell_type": "code",
      "metadata": {
        "id": "_u4IOM4JoGey"
      },
      "source": [
        "session_feature['action_detail_count'] = normalized_data[:, 0]\n",
        "session_feature['secs_mean'] = normalized_data[:, 1]\n",
        "session_feature['secs_std'] = normalized_data[:, 2]"
      ],
      "execution_count": null,
      "outputs": []
    },
    {
      "cell_type": "markdown",
      "metadata": {
        "id": "ush6KLqQ4yeI"
      },
      "source": [
        "### 需要補missing value & normalize"
      ]
    },
    {
      "cell_type": "code",
      "metadata": {
        "colab": {
          "base_uri": "https://localhost:8080/"
        },
        "id": "igikWBaN4SBe",
        "outputId": "3e919e32-9824-4811-9333-7d02a213dbfe"
      },
      "source": [
        "session_feature.info()"
      ],
      "execution_count": null,
      "outputs": [
        {
          "output_type": "stream",
          "text": [
            "<class 'pandas.core.frame.DataFrame'>\n",
            "Index: 135483 entries, 00023iyk9l to zzzlylp57e\n",
            "Data columns (total 4 columns):\n",
            " #   Column               Non-Null Count   Dtype  \n",
            "---  ------               --------------   -----  \n",
            " 0   action_detail_count  135483 non-null  float64\n",
            " 1   action_detail_mode   135483 non-null  object \n",
            " 2   secs_mean            135483 non-null  float64\n",
            " 3   secs_std             135483 non-null  float64\n",
            "dtypes: float64(3), object(1)\n",
            "memory usage: 5.2+ MB\n"
          ],
          "name": "stdout"
        }
      ]
    },
    {
      "cell_type": "code",
      "metadata": {
        "colab": {
          "base_uri": "https://localhost:8080/",
          "height": 172
        },
        "id": "rRHFeE1wZMrC",
        "outputId": "10303eaa-6327-45ec-cd8d-b1de53fc29d8"
      },
      "source": [
        "session_feature.head(3)"
      ],
      "execution_count": null,
      "outputs": [
        {
          "output_type": "execute_result",
          "data": {
            "text/html": [
              "<div>\n",
              "<style scoped>\n",
              "    .dataframe tbody tr th:only-of-type {\n",
              "        vertical-align: middle;\n",
              "    }\n",
              "\n",
              "    .dataframe tbody tr th {\n",
              "        vertical-align: top;\n",
              "    }\n",
              "\n",
              "    .dataframe thead th {\n",
              "        text-align: right;\n",
              "    }\n",
              "</style>\n",
              "<table border=\"1\" class=\"dataframe\">\n",
              "  <thead>\n",
              "    <tr style=\"text-align: right;\">\n",
              "      <th></th>\n",
              "      <th>action_detail_count</th>\n",
              "      <th>action_detail_mode</th>\n",
              "      <th>secs_mean</th>\n",
              "      <th>secs_std</th>\n",
              "    </tr>\n",
              "    <tr>\n",
              "      <th>user_id</th>\n",
              "      <th></th>\n",
              "      <th></th>\n",
              "      <th></th>\n",
              "      <th></th>\n",
              "    </tr>\n",
              "  </thead>\n",
              "  <tbody>\n",
              "    <tr>\n",
              "      <th>00023iyk9l</th>\n",
              "      <td>0.014333</td>\n",
              "      <td>p3</td>\n",
              "      <td>0.023297</td>\n",
              "      <td>0.073260</td>\n",
              "    </tr>\n",
              "    <tr>\n",
              "      <th>0010k6l0om</th>\n",
              "      <td>0.022786</td>\n",
              "      <td>NaN</td>\n",
              "      <td>0.009996</td>\n",
              "      <td>0.018169</td>\n",
              "    </tr>\n",
              "    <tr>\n",
              "      <th>001wyh0pz8</th>\n",
              "      <td>0.032709</td>\n",
              "      <td>view_search_results</td>\n",
              "      <td>0.003376</td>\n",
              "      <td>0.005259</td>\n",
              "    </tr>\n",
              "  </tbody>\n",
              "</table>\n",
              "</div>"
            ],
            "text/plain": [
              "            action_detail_count   action_detail_mode  secs_mean  secs_std\n",
              "user_id                                                                  \n",
              "00023iyk9l             0.014333                   p3   0.023297  0.073260\n",
              "0010k6l0om             0.022786                  NaN   0.009996  0.018169\n",
              "001wyh0pz8             0.032709  view_search_results   0.003376  0.005259"
            ]
          },
          "metadata": {
            "tags": []
          },
          "execution_count": 167
        }
      ]
    },
    {
      "cell_type": "code",
      "metadata": {
        "id": "4Xz14GrFj3Y3"
      },
      "source": [
        "# new_session.groupby(['action_detail'])['country_destination'].apply(lambda x: x.value_counts().head(3)).tail(20)"
      ],
      "execution_count": null,
      "outputs": []
    },
    {
      "cell_type": "markdown",
      "metadata": {
        "id": "pDMknDzatSCu"
      },
      "source": [
        "## date_first_booking 缺值 -> NDF, 沒缺 -> 沒有NDF"
      ]
    },
    {
      "cell_type": "code",
      "metadata": {
        "colab": {
          "base_uri": "https://localhost:8080/"
        },
        "id": "SllQigV-s8U4",
        "outputId": "5b4aa4b3-fb4a-4922-c125-bb6066c8c37e"
      },
      "source": [
        "train_df[train_df['date_first_booking'].isnull()]['country_destination'].value_counts()"
      ],
      "execution_count": null,
      "outputs": [
        {
          "output_type": "execute_result",
          "data": {
            "text/plain": [
              "NDF    124543\n",
              "Name: country_destination, dtype: int64"
            ]
          },
          "metadata": {
            "tags": []
          },
          "execution_count": 169
        }
      ]
    },
    {
      "cell_type": "markdown",
      "metadata": {
        "id": "NxWOlaCWzmg2"
      },
      "source": [
        "## Age 補值？"
      ]
    },
    {
      "cell_type": "code",
      "metadata": {
        "colab": {
          "base_uri": "https://localhost:8080/"
        },
        "id": "VAlROwdlzlvf",
        "outputId": "c2bd3f20-655c-4644-ab02-27e684a44dbc"
      },
      "source": [
        "print(round(len(train_df[train_df['age'].isnull()])*100/len(train_df), 2), '% of train data do not have age value')"
      ],
      "execution_count": null,
      "outputs": [
        {
          "output_type": "stream",
          "text": [
            "41.22 % of train data do not have age value\n"
          ],
          "name": "stdout"
        }
      ]
    },
    {
      "cell_type": "code",
      "metadata": {
        "id": "nmJpTatV0O0s"
      },
      "source": [
        "# train_df.info()"
      ],
      "execution_count": null,
      "outputs": []
    },
    {
      "cell_type": "markdown",
      "metadata": {
        "id": "2HJl5PgjugDp"
      },
      "source": [
        "## Test data"
      ]
    },
    {
      "cell_type": "code",
      "metadata": {
        "colab": {
          "base_uri": "https://localhost:8080/",
          "height": 195
        },
        "id": "UHyLRmocuidP",
        "outputId": "e17dd769-e561-4062-ec49-734604e5252a"
      },
      "source": [
        "test_df.head(3)"
      ],
      "execution_count": null,
      "outputs": [
        {
          "output_type": "execute_result",
          "data": {
            "text/html": [
              "<div>\n",
              "<style scoped>\n",
              "    .dataframe tbody tr th:only-of-type {\n",
              "        vertical-align: middle;\n",
              "    }\n",
              "\n",
              "    .dataframe tbody tr th {\n",
              "        vertical-align: top;\n",
              "    }\n",
              "\n",
              "    .dataframe thead th {\n",
              "        text-align: right;\n",
              "    }\n",
              "</style>\n",
              "<table border=\"1\" class=\"dataframe\">\n",
              "  <thead>\n",
              "    <tr style=\"text-align: right;\">\n",
              "      <th></th>\n",
              "      <th>id</th>\n",
              "      <th>date_account_created</th>\n",
              "      <th>timestamp_first_active</th>\n",
              "      <th>date_first_booking</th>\n",
              "      <th>gender</th>\n",
              "      <th>age</th>\n",
              "      <th>signup_method</th>\n",
              "      <th>signup_flow</th>\n",
              "      <th>language</th>\n",
              "      <th>affiliate_channel</th>\n",
              "      <th>affiliate_provider</th>\n",
              "      <th>first_affiliate_tracked</th>\n",
              "      <th>signup_app</th>\n",
              "      <th>first_device_type</th>\n",
              "      <th>first_browser</th>\n",
              "    </tr>\n",
              "  </thead>\n",
              "  <tbody>\n",
              "    <tr>\n",
              "      <th>0</th>\n",
              "      <td>5uwns89zht</td>\n",
              "      <td>2014-07-01</td>\n",
              "      <td>20140701000006</td>\n",
              "      <td>NaN</td>\n",
              "      <td>FEMALE</td>\n",
              "      <td>35.0</td>\n",
              "      <td>facebook</td>\n",
              "      <td>0</td>\n",
              "      <td>en</td>\n",
              "      <td>direct</td>\n",
              "      <td>direct</td>\n",
              "      <td>untracked</td>\n",
              "      <td>Moweb</td>\n",
              "      <td>iPhone</td>\n",
              "      <td>Mobile Safari</td>\n",
              "    </tr>\n",
              "    <tr>\n",
              "      <th>1</th>\n",
              "      <td>jtl0dijy2j</td>\n",
              "      <td>2014-07-01</td>\n",
              "      <td>20140701000051</td>\n",
              "      <td>NaN</td>\n",
              "      <td>-unknown-</td>\n",
              "      <td>NaN</td>\n",
              "      <td>basic</td>\n",
              "      <td>0</td>\n",
              "      <td>en</td>\n",
              "      <td>direct</td>\n",
              "      <td>direct</td>\n",
              "      <td>untracked</td>\n",
              "      <td>Moweb</td>\n",
              "      <td>iPhone</td>\n",
              "      <td>Mobile Safari</td>\n",
              "    </tr>\n",
              "    <tr>\n",
              "      <th>2</th>\n",
              "      <td>xx0ulgorjt</td>\n",
              "      <td>2014-07-01</td>\n",
              "      <td>20140701000148</td>\n",
              "      <td>NaN</td>\n",
              "      <td>-unknown-</td>\n",
              "      <td>NaN</td>\n",
              "      <td>basic</td>\n",
              "      <td>0</td>\n",
              "      <td>en</td>\n",
              "      <td>direct</td>\n",
              "      <td>direct</td>\n",
              "      <td>linked</td>\n",
              "      <td>Web</td>\n",
              "      <td>Windows Desktop</td>\n",
              "      <td>Chrome</td>\n",
              "    </tr>\n",
              "  </tbody>\n",
              "</table>\n",
              "</div>"
            ],
            "text/plain": [
              "           id date_account_created  ...  first_device_type  first_browser\n",
              "0  5uwns89zht           2014-07-01  ...             iPhone  Mobile Safari\n",
              "1  jtl0dijy2j           2014-07-01  ...             iPhone  Mobile Safari\n",
              "2  xx0ulgorjt           2014-07-01  ...    Windows Desktop         Chrome\n",
              "\n",
              "[3 rows x 15 columns]"
            ]
          },
          "metadata": {
            "tags": []
          },
          "execution_count": 172
        }
      ]
    },
    {
      "cell_type": "code",
      "metadata": {
        "id": "0aAwZfqk3Naf"
      },
      "source": [
        "# test_df.info()"
      ],
      "execution_count": null,
      "outputs": []
    },
    {
      "cell_type": "code",
      "metadata": {
        "colab": {
          "base_uri": "https://localhost:8080/"
        },
        "id": "irpyKpvatPeL",
        "outputId": "daa979cc-7aef-4404-8944-b50bb6695dc1"
      },
      "source": [
        "test_df['date_first_booking'].value_counts()"
      ],
      "execution_count": null,
      "outputs": [
        {
          "output_type": "execute_result",
          "data": {
            "text/plain": [
              "Series([], Name: date_first_booking, dtype: int64)"
            ]
          },
          "metadata": {
            "tags": []
          },
          "execution_count": 174
        }
      ]
    },
    {
      "cell_type": "code",
      "metadata": {
        "colab": {
          "base_uri": "https://localhost:8080/"
        },
        "id": "DsKtDZPDtf38",
        "outputId": "0a225493-3f10-40d5-ae88-8a6b002affd8"
      },
      "source": [
        "print(round(len(test_df[test_df['age'].isnull()])*100/len(test_df), 2), '% of the test data do not have age')"
      ],
      "execution_count": null,
      "outputs": [
        {
          "output_type": "stream",
          "text": [
            "46.5 % of the test data do not have age\n"
          ],
          "name": "stdout"
        }
      ]
    },
    {
      "cell_type": "markdown",
      "metadata": {
        "id": "mh-0B6iw3EG_"
      },
      "source": [
        "# Preprocessing"
      ]
    },
    {
      "cell_type": "code",
      "metadata": {
        "colab": {
          "base_uri": "https://localhost:8080/",
          "height": 178
        },
        "id": "MJPdxpWG7kd0",
        "outputId": "44d727ae-4c5a-40cf-b13d-522fe9c45e1d"
      },
      "source": [
        "train_df.head(3)"
      ],
      "execution_count": null,
      "outputs": [
        {
          "output_type": "execute_result",
          "data": {
            "text/html": [
              "<div>\n",
              "<style scoped>\n",
              "    .dataframe tbody tr th:only-of-type {\n",
              "        vertical-align: middle;\n",
              "    }\n",
              "\n",
              "    .dataframe tbody tr th {\n",
              "        vertical-align: top;\n",
              "    }\n",
              "\n",
              "    .dataframe thead th {\n",
              "        text-align: right;\n",
              "    }\n",
              "</style>\n",
              "<table border=\"1\" class=\"dataframe\">\n",
              "  <thead>\n",
              "    <tr style=\"text-align: right;\">\n",
              "      <th></th>\n",
              "      <th>id</th>\n",
              "      <th>date_account_created</th>\n",
              "      <th>timestamp_first_active</th>\n",
              "      <th>date_first_booking</th>\n",
              "      <th>gender</th>\n",
              "      <th>age</th>\n",
              "      <th>signup_method</th>\n",
              "      <th>signup_flow</th>\n",
              "      <th>language</th>\n",
              "      <th>affiliate_channel</th>\n",
              "      <th>affiliate_provider</th>\n",
              "      <th>first_affiliate_tracked</th>\n",
              "      <th>signup_app</th>\n",
              "      <th>first_device_type</th>\n",
              "      <th>first_browser</th>\n",
              "      <th>country_destination</th>\n",
              "    </tr>\n",
              "  </thead>\n",
              "  <tbody>\n",
              "    <tr>\n",
              "      <th>0</th>\n",
              "      <td>gxn3p5htnn</td>\n",
              "      <td>2010-06-28</td>\n",
              "      <td>20090319043255</td>\n",
              "      <td>NaN</td>\n",
              "      <td>-unknown-</td>\n",
              "      <td>NaN</td>\n",
              "      <td>facebook</td>\n",
              "      <td>0</td>\n",
              "      <td>en</td>\n",
              "      <td>direct</td>\n",
              "      <td>direct</td>\n",
              "      <td>untracked</td>\n",
              "      <td>Web</td>\n",
              "      <td>Mac Desktop</td>\n",
              "      <td>Chrome</td>\n",
              "      <td>NDF</td>\n",
              "    </tr>\n",
              "    <tr>\n",
              "      <th>1</th>\n",
              "      <td>820tgsjxq7</td>\n",
              "      <td>2011-05-25</td>\n",
              "      <td>20090523174809</td>\n",
              "      <td>NaN</td>\n",
              "      <td>MALE</td>\n",
              "      <td>38.0</td>\n",
              "      <td>facebook</td>\n",
              "      <td>0</td>\n",
              "      <td>en</td>\n",
              "      <td>seo</td>\n",
              "      <td>google</td>\n",
              "      <td>untracked</td>\n",
              "      <td>Web</td>\n",
              "      <td>Mac Desktop</td>\n",
              "      <td>Chrome</td>\n",
              "      <td>NDF</td>\n",
              "    </tr>\n",
              "    <tr>\n",
              "      <th>2</th>\n",
              "      <td>4ft3gnwmtx</td>\n",
              "      <td>2010-09-28</td>\n",
              "      <td>20090609231247</td>\n",
              "      <td>2010-08-02</td>\n",
              "      <td>FEMALE</td>\n",
              "      <td>56.0</td>\n",
              "      <td>basic</td>\n",
              "      <td>3</td>\n",
              "      <td>en</td>\n",
              "      <td>direct</td>\n",
              "      <td>direct</td>\n",
              "      <td>untracked</td>\n",
              "      <td>Web</td>\n",
              "      <td>Windows Desktop</td>\n",
              "      <td>IE</td>\n",
              "      <td>US</td>\n",
              "    </tr>\n",
              "  </tbody>\n",
              "</table>\n",
              "</div>"
            ],
            "text/plain": [
              "           id date_account_created  ...  first_browser country_destination\n",
              "0  gxn3p5htnn           2010-06-28  ...         Chrome                 NDF\n",
              "1  820tgsjxq7           2011-05-25  ...         Chrome                 NDF\n",
              "2  4ft3gnwmtx           2010-09-28  ...             IE                  US\n",
              "\n",
              "[3 rows x 16 columns]"
            ]
          },
          "metadata": {
            "tags": []
          },
          "execution_count": 176
        }
      ]
    },
    {
      "cell_type": "code",
      "metadata": {
        "id": "MTuOzxjPX_tX"
      },
      "source": [
        "def get_data(train, test):\n",
        "  train['eval'] = 'train'\n",
        "  test['eval'] = 'test'\n",
        "\n",
        "  train_y = train['country_destination']\n",
        "  train.drop(columns= ['country_destination'], axis=0, inplace=True)\n",
        "\n",
        "  df = pd.concat([train, test], axis= 0)\n",
        "  df['year_account_created'] = df['date_account_created'].apply(lambda x: x.split('-')[0])\n",
        "  df['month_account_created'] = df['date_account_created'].apply(lambda x: x.split('-')[1])\n",
        "  unwanted_cols = ['date_first_booking', 'date_account_created', 'timestamp_first_active', 'age']\n",
        "  df.drop(columns= unwanted_cols, axis=0, inplace= True)\n",
        "  df = pd.merge(df, session_feature, left_on= 'id', right_on='user_id', how= 'left').fillna(value= {'first_affiliate_tracked': 'NaN',\n",
        "                                                      'action_detail_mode': 'NaN', \n",
        "                                                      'action_detail_count': 0,\n",
        "                                                      'secs_mean': 0,\n",
        "                                                      'secs_std': 0}) # first_affilaited_tracked missing | some user no sessions data\n",
        "  print(df.info())\n",
        "\n",
        "  cat_cols = [\n",
        "        'year_account_created',\n",
        "        'month_account_created',\n",
        "        'gender', \n",
        "        'signup_method', \n",
        "        'signup_flow', \n",
        "        'language', \n",
        "        'affiliate_channel', \n",
        "        'affiliate_provider', \n",
        "        'first_affiliate_tracked', \n",
        "        'signup_app', \n",
        "        'first_device_type', \n",
        "        'first_browser',\n",
        "        'action_detail_mode']\n",
        "\n",
        "  # enc = LabelEncoder()\n",
        "  dense_df = df.drop(columns= cat_cols, axis= 0) # including (id, eval) column\n",
        "  cat_df = df[cat_cols].apply(LabelEncoder().fit_transform)\n",
        "  df = pd.concat([dense_df, cat_df], axis= 1)\n",
        "\n",
        "  \n",
        "\n",
        "  print(cat_df.head(3))\n",
        "  print(dense_df.head(3))\n",
        "  # print(df)\n",
        "\n",
        "  '''train data'''\n",
        "  train_X = df[df['eval']=='train']\n",
        "  train_id = train_X['id']\n",
        "  train_X = train_X.drop(columns= ['id', 'eval'], axis= 0)\n",
        "  train_cat, train_dense = train_X[cat_cols].to_numpy(), train_X.drop(columns= cat_cols).to_numpy()\n",
        "  \n",
        "  '''test data'''\n",
        "  test_X = df[df['eval']=='test']\n",
        "  y_id = test_df['id']\n",
        "  test_X = test_X.drop(columns= ['id', 'eval'], axis= 0)\n",
        "  test_cat, test_dense = test_X[cat_cols].to_numpy(), test_X.drop(columns= cat_cols).to_numpy()\n",
        "\n",
        "  cat_fields = [cat_df[col].max()+1 for col in cat_df.columns]\n",
        "  num_contns = train_dense.shape[1]\n",
        "\n",
        "  return train_cat, train_dense, train_y, test_cat, test_dense, train_id, y_id, cat_fields, num_contns"
      ],
      "execution_count": null,
      "outputs": []
    },
    {
      "cell_type": "code",
      "metadata": {
        "id": "vWG8zLD8_73c"
      },
      "source": [
        "train_df = train_df[train_df['country_destination']!='NDF']"
      ],
      "execution_count": null,
      "outputs": []
    },
    {
      "cell_type": "code",
      "metadata": {
        "colab": {
          "base_uri": "https://localhost:8080/"
        },
        "id": "dqbxpQ960Xdj",
        "outputId": "23b23dde-04ec-4e6c-a2c1-57f8137a53b0"
      },
      "source": [
        "train_cat, train_dense, train_y, test_cat, test_dense, train_id, y_id, cat_fields, num_contns= get_data(train= train_df, test= test_df)\n",
        "print(cat_fields)\n",
        "print(num_contns)"
      ],
      "execution_count": null,
      "outputs": [
        {
          "output_type": "stream",
          "text": [
            "<class 'pandas.core.frame.DataFrame'>\n",
            "Int64Index: 151004 entries, 0 to 151003\n",
            "Data columns (total 18 columns):\n",
            " #   Column                   Non-Null Count   Dtype  \n",
            "---  ------                   --------------   -----  \n",
            " 0   id                       151004 non-null  object \n",
            " 1   gender                   151004 non-null  object \n",
            " 2   signup_method            151004 non-null  object \n",
            " 3   signup_flow              151004 non-null  int64  \n",
            " 4   language                 151004 non-null  object \n",
            " 5   affiliate_channel        151004 non-null  object \n",
            " 6   affiliate_provider       151004 non-null  object \n",
            " 7   first_affiliate_tracked  151004 non-null  object \n",
            " 8   signup_app               151004 non-null  object \n",
            " 9   first_device_type        151004 non-null  object \n",
            " 10  first_browser            151004 non-null  object \n",
            " 11  eval                     151004 non-null  object \n",
            " 12  year_account_created     151004 non-null  object \n",
            " 13  month_account_created    151004 non-null  object \n",
            " 14  action_detail_count      151004 non-null  float64\n",
            " 15  action_detail_mode       151004 non-null  object \n",
            " 16  secs_mean                151004 non-null  float64\n",
            " 17  secs_std                 151004 non-null  float64\n",
            "dtypes: float64(3), int64(1), object(14)\n",
            "memory usage: 21.9+ MB\n",
            "None\n",
            "   year_account_created  ...  action_detail_mode\n",
            "0                     0  ...                   1\n",
            "1                     1  ...                   1\n",
            "2                     0  ...                   1\n",
            "\n",
            "[3 rows x 13 columns]\n",
            "           id   eval  action_detail_count  secs_mean  secs_std\n",
            "0  4ft3gnwmtx  train                  0.0        0.0       0.0\n",
            "1  bjjt8pjhuk  train                  0.0        0.0       0.0\n",
            "2  87mebub9p4  train                  0.0        0.0       0.0\n",
            "[5, 12, 4, 4, 17, 25, 8, 17, 8, 4, 9, 44, 92]\n",
            "3\n"
          ],
          "name": "stdout"
        }
      ]
    },
    {
      "cell_type": "code",
      "metadata": {
        "colab": {
          "base_uri": "https://localhost:8080/"
        },
        "id": "CTgpTTK9RApa",
        "outputId": "6d787032-959b-4e8e-ec60-c0a11a1fbb01"
      },
      "source": [
        "print(train_cat.shape)\n",
        "print(train_dense.shape)\n",
        "print(train_y.shape)\n",
        "print(test_cat.shape)"
      ],
      "execution_count": null,
      "outputs": [
        {
          "output_type": "stream",
          "text": [
            "(88908, 13)\n",
            "(88908, 3)\n",
            "(88908,)\n",
            "(62096, 13)\n"
          ],
          "name": "stdout"
        }
      ]
    },
    {
      "cell_type": "code",
      "metadata": {
        "id": "On6qNrGC1G_O"
      },
      "source": [
        "enc = LabelEncoder()\n",
        "enc_fitted = enc.fit(train_y)\n",
        "train_y = enc_fitted.transform(train_y)"
      ],
      "execution_count": null,
      "outputs": []
    },
    {
      "cell_type": "code",
      "metadata": {
        "colab": {
          "base_uri": "https://localhost:8080/"
        },
        "id": "a-28bY4LBV08",
        "outputId": "f5ac08a5-4c12-4f6c-c853-46f596d1db5f"
      },
      "source": [
        "set(train_y)"
      ],
      "execution_count": null,
      "outputs": [
        {
          "output_type": "execute_result",
          "data": {
            "text/plain": [
              "{0, 1, 2, 3, 4, 5, 6, 7, 8, 9, 10}"
            ]
          },
          "metadata": {
            "tags": []
          },
          "execution_count": 182
        }
      ]
    },
    {
      "cell_type": "code",
      "metadata": {
        "id": "rqCt60yeH12G",
        "colab": {
          "base_uri": "https://localhost:8080/"
        },
        "outputId": "933ca4d8-fef0-430e-c3a2-58f83d239df1"
      },
      "source": [
        "target_names= enc.inverse_transform(list(set(train_y)))\n",
        "print(target_names)"
      ],
      "execution_count": null,
      "outputs": [
        {
          "output_type": "stream",
          "text": [
            "['AU' 'CA' 'DE' 'ES' 'FR' 'GB' 'IT' 'NL' 'PT' 'US' 'other']\n"
          ],
          "name": "stdout"
        }
      ]
    },
    {
      "cell_type": "markdown",
      "metadata": {
        "id": "0JJaXl_mN7V2"
      },
      "source": [
        "# Custom Dataset"
      ]
    },
    {
      "cell_type": "code",
      "metadata": {
        "id": "szWdzkBIN0HK"
      },
      "source": [
        "class custom_dataset(Dataset):\n",
        "  def __init__(self, X_cat, X_dense, y= None, if_y= True):\n",
        "    self.X_cat = torch.tensor(X_cat, dtype= torch.long)\n",
        "    self.X_dense = torch.tensor(X_dense, dtype= torch.float)\n",
        "    self.if_y= if_y\n",
        "    if if_y:\n",
        "      self.y = torch.tensor(y, dtype= torch.long)\n",
        "  \n",
        "  def __len__(self):\n",
        "    return len(self.X_cat)\n",
        "  \n",
        "  def __getitem__(self, idx):\n",
        "    if self.if_y:\n",
        "      return self.X_cat[idx], self.X_dense[idx], self.y[idx]\n",
        "    else:\n",
        "      return self.X_cat[idx], self.X_dense[idx]"
      ],
      "execution_count": null,
      "outputs": []
    },
    {
      "cell_type": "markdown",
      "metadata": {
        "id": "0jhHlZ2-cL2t"
      },
      "source": [
        ""
      ]
    },
    {
      "cell_type": "markdown",
      "metadata": {
        "id": "jWuFd83_wf5w"
      },
      "source": [
        "# Model, metric：NDCG\n",
        "\n",
        "* predict multiclass with probability(n_class = 1+n_countries)\n",
        "* loss function: cross entropy"
      ]
    },
    {
      "cell_type": "code",
      "metadata": {
        "id": "e3SYyXX9w7ua"
      },
      "source": [
        "class DeepFM(nn.Module):\n",
        "  def __init__(self, cat_fields, num_contns, k, hidden_dims, dropout, n_class, sparse= True):\n",
        "    super(DeepFM, self).__init__()\n",
        "    self.cat_fields = cat_fields\n",
        "    self.num_contns = num_contns \n",
        "    self.num_cat = len(cat_fields)\n",
        "    self.k = k \n",
        "    self.hidden_dims = hidden_dims\n",
        "    self.dropout= nn.Dropout(p=dropout)\n",
        "\n",
        "    \"\"\"Linear\"\"\"\n",
        "    # if num_contns != 0:\n",
        "    self.fm_1st_dense = nn.Linear(num_contns, 1)\n",
        "    self.fm_1st_cat = nn.ModuleList([nn.Embedding(voc_size, 1, sparse= sparse) for voc_size in cat_fields])\n",
        "\n",
        "    \"\"\"embedding\"\"\"\n",
        "    self.embedding_layer = nn.ModuleList([nn.Embedding(voc_size, k, sparse= sparse) for voc_size in cat_fields])\n",
        "    \n",
        "    \"\"\"DNN\"\"\"\n",
        "    layers = []\n",
        "    input_dim = k * len(cat_fields) + num_contns\n",
        "    # self.fc_3rd_dense = nn.Linear(num_contns, input_dim) #將contns轉成input_dim過dnn\n",
        "\n",
        "    for hidden_dim in hidden_dims:\n",
        "      layers.append(nn.Linear(input_dim, hidden_dim))\n",
        "      layers.append(nn.BatchNorm1d(hidden_dim))\n",
        "      layers.append(nn.ReLU())\n",
        "      layers.append(self.dropout)\n",
        "      input_dim = hidden_dim\n",
        "    \n",
        "    layers.append(nn.Linear(hidden_dims[-1], n_class))\n",
        "    self.dnn = nn.Sequential(*layers)\n",
        "    \n",
        "\n",
        "  def Dense_Embedding(self, X_cat):\n",
        "    # (batch_size, num_cat)\n",
        "    cat2dense = [embed(X_cat[:, i].unsqueeze(dim= 1)) for i, embed in enumerate(self.embedding_layer)] # [batch_size, k]\n",
        "    cat2dense = torch.cat(cat2dense, dim= 1) #[batch_size, num_cat, k]\n",
        "    return cat2dense\n",
        "\n",
        "  \n",
        "  def FM(self, X): # [batch_size, num_cat, k]\n",
        "    sum_of_square = torch.sum(X, dim= 1)**2 #[n, k]\n",
        "    square_of_sum = torch.sum(X**2, dim= 1)\n",
        "    ix = sum_of_square - square_of_sum \n",
        "    FM_out = 0.5 * torch.sum(ix, dim= 1, keepdim= True) # [n, 1] \n",
        "    return FM_out\n",
        "  \n",
        "  def forward(self, X_cat, X_dense):\n",
        "\n",
        "    '''1st'''\n",
        "    X_cat_1st = [embed(X_cat[:, i].unsqueeze(dim= 1)) for i, embed in enumerate(self.fm_1st_cat)] # [batch_size, 1]\n",
        "    X_cat_1st = torch.cat(X_cat_1st, dim= 1) # [batch_size, num_cat, 1]\n",
        "    X_cat_1st = torch.sum(X_cat_1st, dim= 1, keepdim= False)\n",
        "    X_dense_1st = self.fm_1st_dense(X_dense)\n",
        "    y_1st = X_cat_1st + X_dense_1st\n",
        "\n",
        "    '''2nd'''\n",
        "    X_cat2dense = self.Dense_Embedding(X_cat) # [batch_size, num_cat, k]\n",
        "    FM_y = self.FM(X_cat2dense)\n",
        "\n",
        "    '''3rd'''\n",
        "    X_cat_flatten = torch.flatten(X_cat2dense, start_dim= 1, end_dim= 2) # [batch_size, num_cat*k]\n",
        "    # X_dense_flatten = self.fc_3rd_dense(X_dense)\n",
        "    X_flatten = torch.cat([X_cat_flatten, X_dense], dim= 1)\n",
        "    DNN_y = self.dnn(X_flatten) # [batch_size, num_cat*k]\n",
        "\n",
        "    y = y_1st + FM_y + DNN_y\n",
        "\n",
        "    # return nn.Sigmoid()(y) # BCELoss\n",
        "    return y # nn.BCEWithLogitsLoss(pos_weight=9)"
      ],
      "execution_count": null,
      "outputs": []
    },
    {
      "cell_type": "markdown",
      "metadata": {
        "id": "UOKLISulR0GB"
      },
      "source": [
        "# Training"
      ]
    },
    {
      "cell_type": "markdown",
      "metadata": {
        "id": "foQyPAmpR7CY"
      },
      "source": [
        "## 參數"
      ]
    },
    {
      "cell_type": "code",
      "metadata": {
        "id": "eDMSqgFdVD4y",
        "colab": {
          "base_uri": "https://localhost:8080/",
          "height": 53
        },
        "outputId": "2a067b72-37f3-4b55-fd1b-c8b6acc434b7"
      },
      "source": [
        "'''\n",
        "1. session的field number\n",
        "2. user資訊的field number：train_df_drop為去掉不必要資訊後(包括id, destination)的df\n",
        "3. series.nunique()算出該field的unique數\n",
        "'''"
      ],
      "execution_count": null,
      "outputs": [
        {
          "output_type": "execute_result",
          "data": {
            "application/vnd.google.colaboratory.intrinsic+json": {
              "type": "string"
            },
            "text/plain": [
              "'\\n1. session的field number\\n2. user資訊的field number：train_df_drop為去掉不必要資訊後(包括id, destination)的df\\n3. series.nunique()算出該field的unique數\\n'"
            ]
          },
          "metadata": {
            "tags": []
          },
          "execution_count": 186
        }
      ]
    },
    {
      "cell_type": "code",
      "metadata": {
        "id": "_8tSjyQqR6JX"
      },
      "source": [
        "batch_size= 256\n",
        "lr = 1e-3\n",
        "n_epoch = 10\n",
        "k = 5\n",
        "p = 0.2\n",
        "hidden_dims = [64, 64, 64]\n",
        "n_class = len(set(train_y))\n",
        "sparse = False \n",
        "threshold = 0.5"
      ],
      "execution_count": null,
      "outputs": []
    },
    {
      "cell_type": "code",
      "metadata": {
        "id": "lQwnl89kCyBH",
        "colab": {
          "base_uri": "https://localhost:8080/"
        },
        "outputId": "56d3e5a2-ca73-4fa6-e011-d8f3b2df06df"
      },
      "source": [
        "weight_dict = {idx: 1/count*83 for idx, count in Counter(train_y).items()}\n",
        "weight = [weight_dict[idx] for idx in range(len(set(train_y)))]\n",
        "weight = [1, 1, 1, 1, 1, 1, 1, 1/24, 1, 1, 1/12, 1/2]\n",
        "weight = [1, 1, 1, 1, 1, 1, 1, 1, 1, 1/12, 1/2]\n",
        "print(target_names)"
      ],
      "execution_count": null,
      "outputs": [
        {
          "output_type": "stream",
          "text": [
            "['AU' 'CA' 'DE' 'ES' 'FR' 'GB' 'IT' 'NL' 'PT' 'US' 'other']\n"
          ],
          "name": "stdout"
        }
      ]
    },
    {
      "cell_type": "code",
      "metadata": {
        "id": "dCDOwu4nBFW3"
      },
      "source": [
        "# Counter(train_y).items()"
      ],
      "execution_count": null,
      "outputs": []
    },
    {
      "cell_type": "code",
      "metadata": {
        "id": "OTrcIIe6SC1Y"
      },
      "source": [
        "data_dataset = custom_dataset(train_cat, train_dense, train_y)\n",
        "train_size= int(0.8*len(data_dataset))\n",
        "val_size= len(data_dataset)- train_size\n",
        "\n",
        "train_dataset, val_dataset= random_split(data_dataset, [train_size, val_size], generator=torch.Generator().manual_seed(42))\n",
        "test_dataset= custom_dataset(test_cat, test_dense, if_y= False)\n",
        "\n",
        "train_loader = DataLoader(train_dataset, batch_size= batch_size, shuffle= True, num_workers=2)\n",
        "val_loader = DataLoader(val_dataset, batch_size= batch_size, shuffle= False, num_workers=2)\n",
        "test_loader= DataLoader(test_dataset, batch_size= batch_size, shuffle= False, num_workers=2)"
      ],
      "execution_count": null,
      "outputs": []
    },
    {
      "cell_type": "code",
      "metadata": {
        "id": "m3GxXcuOTcIp"
      },
      "source": [
        "model = DeepFM(cat_fields= cat_fields, num_contns= num_contns, k= k, hidden_dims= hidden_dims, dropout= p, n_class= n_class, sparse= sparse).to(device)\n",
        "optimizer = torch.optim.Adam(model.parameters(), lr= lr)\n",
        "criterion = nn.CrossEntropyLoss(weight= torch.tensor(weight))\n",
        "# criterion = nn.CrossEntropyLoss()"
      ],
      "execution_count": null,
      "outputs": []
    },
    {
      "cell_type": "markdown",
      "metadata": {
        "id": "f982HlDeWd_v"
      },
      "source": [
        "## Training process"
      ]
    },
    {
      "cell_type": "code",
      "metadata": {
        "id": "2H_7qnoOWWn0",
        "colab": {
          "base_uri": "https://localhost:8080/"
        },
        "outputId": "1f1eb5da-34da-4de3-8e29-f32ae47bc2de"
      },
      "source": [
        "for epoch in range(n_epoch):\n",
        "\n",
        "  model.train()\n",
        "  train_loss= list()\n",
        "  val_loss= list()\n",
        "  train_score = 0\n",
        "  val_score = 0\n",
        "  train_preds, train_targets = [], []\n",
        "  val_preds, val_targets= [], []\n",
        "  train_size = len(train_dataset)\n",
        "  val_size = len(val_dataset)\n",
        "\n",
        "  for i, (X_cat, X_dense, y) in enumerate(train_loader):\n",
        "    optimizer.zero_grad()\n",
        "    output= model(X_cat, X_dense)\n",
        "    loss= criterion(output, y)\n",
        "    loss.backward()\n",
        "    optimizer.step()\n",
        "\n",
        "    _, pred = torch.max(output, dim= 1)\n",
        "    train_preds += pred.tolist()\n",
        "    train_targets += y.tolist()\n",
        "    train_score += sum(pred==y).item()\n",
        "    train_loss.append(loss.item())\n",
        "  \n",
        "  '''eval'''\n",
        "  model.eval()\n",
        "  for i, (X_cat, X_dense, y) in enumerate(val_loader):\n",
        "    with torch.no_grad():\n",
        "      output= model(X_cat, X_dense)\n",
        "    _, pred = torch.max(output, dim= 1)\n",
        "    val_preds += pred.tolist()\n",
        "    val_targets += y.tolist()\n",
        "    val_score += sum(pred==y).item()\n",
        "\n",
        "  print(f'train loss: {round(np.mean(train_loss), 4)}| train accuracy: {round(train_score/train_size, 2)}')\n",
        "  print(f'val accuracy: {round(val_score/val_size, 2)}')\n",
        "  \n",
        "\n",
        "print(f'train loss: {round(np.mean(train_loss), 4)}| train accuracy:\\n {classification_report(train_preds, train_targets, target_names= target_names)}')\n",
        "print(f'val accuracy:\\n {classification_report(val_preds, val_targets, target_names= target_names)}')"
      ],
      "execution_count": null,
      "outputs": [
        {
          "output_type": "stream",
          "text": [
            "train loss: 2.1581| train accuracy: 0.3\n",
            "val accuracy: 0.37\n",
            "train loss: 2.1122| train accuracy: 0.3\n",
            "val accuracy: 0.32\n",
            "train loss: 2.1041| train accuracy: 0.3\n",
            "val accuracy: 0.33\n",
            "train loss: 2.1006| train accuracy: 0.3\n",
            "val accuracy: 0.28\n",
            "train loss: 2.0942| train accuracy: 0.28\n",
            "val accuracy: 0.29\n",
            "train loss: 2.0922| train accuracy: 0.3\n",
            "val accuracy: 0.3\n",
            "train loss: 2.0873| train accuracy: 0.29\n",
            "val accuracy: 0.33\n",
            "train loss: 2.085| train accuracy: 0.3\n",
            "val accuracy: 0.31\n",
            "train loss: 2.0844| train accuracy: 0.3\n",
            "val accuracy: 0.25\n",
            "train loss: 2.0814| train accuracy: 0.29\n",
            "val accuracy: 0.31\n",
            "train loss: 2.0814| train accuracy:\n",
            "               precision    recall  f1-score   support\n",
            "\n",
            "          AU       0.00      0.00      0.00         0\n",
            "          CA       0.00      0.00      0.00         0\n",
            "          DE       0.00      0.00      0.00         0\n",
            "          ES       0.00      0.00      0.00         3\n",
            "          FR       0.48      0.07      0.13     26462\n",
            "          GB       0.00      0.00      0.00         0\n",
            "          IT       0.00      0.03      0.00        79\n",
            "          NL       0.00      0.00      0.00         0\n",
            "          PT       0.00      0.00      0.00         0\n",
            "          US       0.31      0.74      0.44     20822\n",
            "       other       0.41      0.14      0.21     23760\n",
            "\n",
            "    accuracy                           0.29     71126\n",
            "   macro avg       0.11      0.09      0.07     71126\n",
            "weighted avg       0.41      0.29      0.24     71126\n",
            "\n",
            "val accuracy:\n",
            "               precision    recall  f1-score   support\n",
            "\n",
            "          AU       0.00      0.00      0.00         0\n",
            "          CA       0.00      0.00      0.00         0\n",
            "          DE       0.00      0.00      0.00         0\n",
            "          ES       0.00      0.00      0.00         0\n",
            "          FR       0.55      0.07      0.12      7648\n",
            "          GB       0.00      0.00      0.00         0\n",
            "          IT       0.00      0.00      0.00         1\n",
            "          NL       0.00      0.00      0.00         0\n",
            "          PT       0.00      0.00      0.00         0\n",
            "          US       0.35      0.74      0.47      5842\n",
            "       other       0.31      0.15      0.20      4291\n",
            "\n",
            "    accuracy                           0.31     17782\n",
            "   macro avg       0.11      0.09      0.07     17782\n",
            "weighted avg       0.43      0.31      0.26     17782\n",
            "\n"
          ],
          "name": "stdout"
        },
        {
          "output_type": "stream",
          "text": [
            "/usr/local/lib/python3.7/dist-packages/sklearn/metrics/_classification.py:1272: UndefinedMetricWarning: Recall and F-score are ill-defined and being set to 0.0 in labels with no true samples. Use `zero_division` parameter to control this behavior.\n",
            "  _warn_prf(average, modifier, msg_start, len(result))\n"
          ],
          "name": "stderr"
        }
      ]
    },
    {
      "cell_type": "markdown",
      "metadata": {
        "id": "0sxHihkMR-QV"
      },
      "source": [
        "# Test"
      ]
    },
    {
      "cell_type": "code",
      "metadata": {
        "id": "4fmgvyYvSyvB"
      },
      "source": [
        "# test_X_id"
      ],
      "execution_count": null,
      "outputs": []
    },
    {
      "cell_type": "code",
      "metadata": {
        "id": "XSyxUsjx8-0n"
      },
      "source": [
        "model.eval()\n",
        "preds = []\n",
        "for i, (X_cat, X_dense) in enumerate(test_loader):\n",
        "  with torch.no_grad():\n",
        "    output= model(X_cat.to(device), X_dense.to(device))\n",
        "    # print(nn.Sigmoid()(output))\n",
        "  preds += torch.argsort(output, dim= 1, descending= True)[:, :5].numpy().tolist()\n",
        "  # print(preds)\n",
        "  # break"
      ],
      "execution_count": null,
      "outputs": []
    },
    {
      "cell_type": "code",
      "metadata": {
        "id": "Noz9qwIyx-cZ"
      },
      "source": [
        "len(preds) == len(y_id)\n",
        "preds = [enc_fitted.inverse_transform(pred) for pred in preds]"
      ],
      "execution_count": null,
      "outputs": []
    },
    {
      "cell_type": "code",
      "metadata": {
        "id": "HW41CJaDCYkG"
      },
      "source": [
        "sub_df = pd.DataFrame(y_id)\n",
        "sub_df['country'] = preds"
      ],
      "execution_count": null,
      "outputs": []
    },
    {
      "cell_type": "code",
      "metadata": {
        "colab": {
          "base_uri": "https://localhost:8080/",
          "height": 1000
        },
        "id": "7AYGmkq6y5HN",
        "outputId": "28539830-feeb-45c2-ae88-cf18141941b5"
      },
      "source": [
        "sub_df.head(50)"
      ],
      "execution_count": null,
      "outputs": [
        {
          "output_type": "execute_result",
          "data": {
            "text/html": [
              "<div>\n",
              "<style scoped>\n",
              "    .dataframe tbody tr th:only-of-type {\n",
              "        vertical-align: middle;\n",
              "    }\n",
              "\n",
              "    .dataframe tbody tr th {\n",
              "        vertical-align: top;\n",
              "    }\n",
              "\n",
              "    .dataframe thead th {\n",
              "        text-align: right;\n",
              "    }\n",
              "</style>\n",
              "<table border=\"1\" class=\"dataframe\">\n",
              "  <thead>\n",
              "    <tr style=\"text-align: right;\">\n",
              "      <th></th>\n",
              "      <th>id</th>\n",
              "      <th>country</th>\n",
              "    </tr>\n",
              "  </thead>\n",
              "  <tbody>\n",
              "    <tr>\n",
              "      <th>0</th>\n",
              "      <td>5uwns89zht</td>\n",
              "      <td>[US, other, FR, IT, GB]</td>\n",
              "    </tr>\n",
              "    <tr>\n",
              "      <th>1</th>\n",
              "      <td>jtl0dijy2j</td>\n",
              "      <td>[other, US, FR, IT, GB]</td>\n",
              "    </tr>\n",
              "    <tr>\n",
              "      <th>2</th>\n",
              "      <td>xx0ulgorjt</td>\n",
              "      <td>[other, US, FR, IT, ES]</td>\n",
              "    </tr>\n",
              "    <tr>\n",
              "      <th>3</th>\n",
              "      <td>6c6puo6ix0</td>\n",
              "      <td>[other, US, FR, IT, GB]</td>\n",
              "    </tr>\n",
              "    <tr>\n",
              "      <th>4</th>\n",
              "      <td>czqhjk3yfe</td>\n",
              "      <td>[other, FR, US, IT, GB]</td>\n",
              "    </tr>\n",
              "    <tr>\n",
              "      <th>5</th>\n",
              "      <td>szx28ujmhf</td>\n",
              "      <td>[US, other, FR, IT, GB]</td>\n",
              "    </tr>\n",
              "    <tr>\n",
              "      <th>6</th>\n",
              "      <td>guenkfjcbq</td>\n",
              "      <td>[other, US, FR, IT, GB]</td>\n",
              "    </tr>\n",
              "    <tr>\n",
              "      <th>7</th>\n",
              "      <td>tkpq0mlugk</td>\n",
              "      <td>[other, US, FR, IT, GB]</td>\n",
              "    </tr>\n",
              "    <tr>\n",
              "      <th>8</th>\n",
              "      <td>3xtgd5p9dn</td>\n",
              "      <td>[other, US, FR, IT, GB]</td>\n",
              "    </tr>\n",
              "    <tr>\n",
              "      <th>9</th>\n",
              "      <td>md9aj22l5a</td>\n",
              "      <td>[other, FR, US, IT, GB]</td>\n",
              "    </tr>\n",
              "    <tr>\n",
              "      <th>10</th>\n",
              "      <td>gg3eswjxdf</td>\n",
              "      <td>[other, US, FR, IT, CA]</td>\n",
              "    </tr>\n",
              "    <tr>\n",
              "      <th>11</th>\n",
              "      <td>fyomoivygn</td>\n",
              "      <td>[US, other, FR, IT, GB]</td>\n",
              "    </tr>\n",
              "    <tr>\n",
              "      <th>12</th>\n",
              "      <td>iq4kkd5oan</td>\n",
              "      <td>[other, US, FR, ES, GB]</td>\n",
              "    </tr>\n",
              "    <tr>\n",
              "      <th>13</th>\n",
              "      <td>6k1xls6x5j</td>\n",
              "      <td>[other, US, FR, IT, ES]</td>\n",
              "    </tr>\n",
              "    <tr>\n",
              "      <th>14</th>\n",
              "      <td>jodmb2ok1f</td>\n",
              "      <td>[other, US, IT, FR, GB]</td>\n",
              "    </tr>\n",
              "    <tr>\n",
              "      <th>15</th>\n",
              "      <td>eq6fy0m4vc</td>\n",
              "      <td>[other, US, FR, IT, ES]</td>\n",
              "    </tr>\n",
              "    <tr>\n",
              "      <th>16</th>\n",
              "      <td>yq4i7nfh6l</td>\n",
              "      <td>[other, US, FR, IT, GB]</td>\n",
              "    </tr>\n",
              "    <tr>\n",
              "      <th>17</th>\n",
              "      <td>q5pibqdous</td>\n",
              "      <td>[other, US, FR, IT, ES]</td>\n",
              "    </tr>\n",
              "    <tr>\n",
              "      <th>18</th>\n",
              "      <td>i0sc6d3j8s</td>\n",
              "      <td>[US, other, FR, IT, GB]</td>\n",
              "    </tr>\n",
              "    <tr>\n",
              "      <th>19</th>\n",
              "      <td>br5mcrsqzn</td>\n",
              "      <td>[other, US, FR, IT, ES]</td>\n",
              "    </tr>\n",
              "    <tr>\n",
              "      <th>20</th>\n",
              "      <td>rddbczuxx1</td>\n",
              "      <td>[FR, US, IT, other, ES]</td>\n",
              "    </tr>\n",
              "    <tr>\n",
              "      <th>21</th>\n",
              "      <td>glck7hlmzz</td>\n",
              "      <td>[other, US, FR, IT, GB]</td>\n",
              "    </tr>\n",
              "    <tr>\n",
              "      <th>22</th>\n",
              "      <td>sxpkaxep8n</td>\n",
              "      <td>[other, US, FR, ES, IT]</td>\n",
              "    </tr>\n",
              "    <tr>\n",
              "      <th>23</th>\n",
              "      <td>sr4ntmalz2</td>\n",
              "      <td>[other, US, FR, IT, ES]</td>\n",
              "    </tr>\n",
              "    <tr>\n",
              "      <th>24</th>\n",
              "      <td>f6wueq1ccn</td>\n",
              "      <td>[other, US, FR, IT, GB]</td>\n",
              "    </tr>\n",
              "    <tr>\n",
              "      <th>25</th>\n",
              "      <td>ovc6nwn6mj</td>\n",
              "      <td>[US, other, FR, CA, ES]</td>\n",
              "    </tr>\n",
              "    <tr>\n",
              "      <th>26</th>\n",
              "      <td>n10skstp90</td>\n",
              "      <td>[US, FR, other, IT, GB]</td>\n",
              "    </tr>\n",
              "    <tr>\n",
              "      <th>27</th>\n",
              "      <td>5jrbdigmv4</td>\n",
              "      <td>[other, FR, US, IT, GB]</td>\n",
              "    </tr>\n",
              "    <tr>\n",
              "      <th>28</th>\n",
              "      <td>d45nngmojp</td>\n",
              "      <td>[other, US, FR, IT, ES]</td>\n",
              "    </tr>\n",
              "    <tr>\n",
              "      <th>29</th>\n",
              "      <td>y0frb6t1kq</td>\n",
              "      <td>[FR, other, US, IT, GB]</td>\n",
              "    </tr>\n",
              "    <tr>\n",
              "      <th>30</th>\n",
              "      <td>qmu1dyhecs</td>\n",
              "      <td>[US, other, FR, IT, ES]</td>\n",
              "    </tr>\n",
              "    <tr>\n",
              "      <th>31</th>\n",
              "      <td>zh9czv7f70</td>\n",
              "      <td>[US, other, FR, ES, IT]</td>\n",
              "    </tr>\n",
              "    <tr>\n",
              "      <th>32</th>\n",
              "      <td>2016g8ddq0</td>\n",
              "      <td>[other, US, FR, IT, ES]</td>\n",
              "    </tr>\n",
              "    <tr>\n",
              "      <th>33</th>\n",
              "      <td>e3slm56xll</td>\n",
              "      <td>[other, US, FR, GB, ES]</td>\n",
              "    </tr>\n",
              "    <tr>\n",
              "      <th>34</th>\n",
              "      <td>88cbtox128</td>\n",
              "      <td>[other, US, FR, IT, GB]</td>\n",
              "    </tr>\n",
              "    <tr>\n",
              "      <th>35</th>\n",
              "      <td>axonoz3dej</td>\n",
              "      <td>[other, US, FR, IT, GB]</td>\n",
              "    </tr>\n",
              "    <tr>\n",
              "      <th>36</th>\n",
              "      <td>vhds8tixz6</td>\n",
              "      <td>[US, other, FR, IT, GB]</td>\n",
              "    </tr>\n",
              "    <tr>\n",
              "      <th>37</th>\n",
              "      <td>xp1zfu6j6u</td>\n",
              "      <td>[other, US, FR, IT, CA]</td>\n",
              "    </tr>\n",
              "    <tr>\n",
              "      <th>38</th>\n",
              "      <td>uuo66r9x53</td>\n",
              "      <td>[other, US, FR, IT, GB]</td>\n",
              "    </tr>\n",
              "    <tr>\n",
              "      <th>39</th>\n",
              "      <td>kkwypqtlra</td>\n",
              "      <td>[other, FR, US, IT, GB]</td>\n",
              "    </tr>\n",
              "    <tr>\n",
              "      <th>40</th>\n",
              "      <td>l2jsjvniuk</td>\n",
              "      <td>[FR, other, US, IT, GB]</td>\n",
              "    </tr>\n",
              "    <tr>\n",
              "      <th>41</th>\n",
              "      <td>0cvk7jktso</td>\n",
              "      <td>[other, US, FR, IT, ES]</td>\n",
              "    </tr>\n",
              "    <tr>\n",
              "      <th>42</th>\n",
              "      <td>c4q1tm2y1k</td>\n",
              "      <td>[FR, US, other, DE, ES]</td>\n",
              "    </tr>\n",
              "    <tr>\n",
              "      <th>43</th>\n",
              "      <td>vuwfq20pw3</td>\n",
              "      <td>[other, US, FR, IT, ES]</td>\n",
              "    </tr>\n",
              "    <tr>\n",
              "      <th>44</th>\n",
              "      <td>t8hk5t7mcf</td>\n",
              "      <td>[US, other, FR, IT, GB]</td>\n",
              "    </tr>\n",
              "    <tr>\n",
              "      <th>45</th>\n",
              "      <td>p2l7d6qu1u</td>\n",
              "      <td>[other, US, FR, IT, ES]</td>\n",
              "    </tr>\n",
              "    <tr>\n",
              "      <th>46</th>\n",
              "      <td>tvlh11azwo</td>\n",
              "      <td>[FR, US, other, IT, GB]</td>\n",
              "    </tr>\n",
              "    <tr>\n",
              "      <th>47</th>\n",
              "      <td>gemyhv9gb9</td>\n",
              "      <td>[other, US, FR, IT, GB]</td>\n",
              "    </tr>\n",
              "    <tr>\n",
              "      <th>48</th>\n",
              "      <td>hiv4ovzlub</td>\n",
              "      <td>[other, US, FR, GB, IT]</td>\n",
              "    </tr>\n",
              "    <tr>\n",
              "      <th>49</th>\n",
              "      <td>ckmvpcz1s0</td>\n",
              "      <td>[US, FR, other, IT, ES]</td>\n",
              "    </tr>\n",
              "  </tbody>\n",
              "</table>\n",
              "</div>"
            ],
            "text/plain": [
              "            id                  country\n",
              "0   5uwns89zht  [US, other, FR, IT, GB]\n",
              "1   jtl0dijy2j  [other, US, FR, IT, GB]\n",
              "2   xx0ulgorjt  [other, US, FR, IT, ES]\n",
              "3   6c6puo6ix0  [other, US, FR, IT, GB]\n",
              "4   czqhjk3yfe  [other, FR, US, IT, GB]\n",
              "5   szx28ujmhf  [US, other, FR, IT, GB]\n",
              "6   guenkfjcbq  [other, US, FR, IT, GB]\n",
              "7   tkpq0mlugk  [other, US, FR, IT, GB]\n",
              "8   3xtgd5p9dn  [other, US, FR, IT, GB]\n",
              "9   md9aj22l5a  [other, FR, US, IT, GB]\n",
              "10  gg3eswjxdf  [other, US, FR, IT, CA]\n",
              "11  fyomoivygn  [US, other, FR, IT, GB]\n",
              "12  iq4kkd5oan  [other, US, FR, ES, GB]\n",
              "13  6k1xls6x5j  [other, US, FR, IT, ES]\n",
              "14  jodmb2ok1f  [other, US, IT, FR, GB]\n",
              "15  eq6fy0m4vc  [other, US, FR, IT, ES]\n",
              "16  yq4i7nfh6l  [other, US, FR, IT, GB]\n",
              "17  q5pibqdous  [other, US, FR, IT, ES]\n",
              "18  i0sc6d3j8s  [US, other, FR, IT, GB]\n",
              "19  br5mcrsqzn  [other, US, FR, IT, ES]\n",
              "20  rddbczuxx1  [FR, US, IT, other, ES]\n",
              "21  glck7hlmzz  [other, US, FR, IT, GB]\n",
              "22  sxpkaxep8n  [other, US, FR, ES, IT]\n",
              "23  sr4ntmalz2  [other, US, FR, IT, ES]\n",
              "24  f6wueq1ccn  [other, US, FR, IT, GB]\n",
              "25  ovc6nwn6mj  [US, other, FR, CA, ES]\n",
              "26  n10skstp90  [US, FR, other, IT, GB]\n",
              "27  5jrbdigmv4  [other, FR, US, IT, GB]\n",
              "28  d45nngmojp  [other, US, FR, IT, ES]\n",
              "29  y0frb6t1kq  [FR, other, US, IT, GB]\n",
              "30  qmu1dyhecs  [US, other, FR, IT, ES]\n",
              "31  zh9czv7f70  [US, other, FR, ES, IT]\n",
              "32  2016g8ddq0  [other, US, FR, IT, ES]\n",
              "33  e3slm56xll  [other, US, FR, GB, ES]\n",
              "34  88cbtox128  [other, US, FR, IT, GB]\n",
              "35  axonoz3dej  [other, US, FR, IT, GB]\n",
              "36  vhds8tixz6  [US, other, FR, IT, GB]\n",
              "37  xp1zfu6j6u  [other, US, FR, IT, CA]\n",
              "38  uuo66r9x53  [other, US, FR, IT, GB]\n",
              "39  kkwypqtlra  [other, FR, US, IT, GB]\n",
              "40  l2jsjvniuk  [FR, other, US, IT, GB]\n",
              "41  0cvk7jktso  [other, US, FR, IT, ES]\n",
              "42  c4q1tm2y1k  [FR, US, other, DE, ES]\n",
              "43  vuwfq20pw3  [other, US, FR, IT, ES]\n",
              "44  t8hk5t7mcf  [US, other, FR, IT, GB]\n",
              "45  p2l7d6qu1u  [other, US, FR, IT, ES]\n",
              "46  tvlh11azwo  [FR, US, other, IT, GB]\n",
              "47  gemyhv9gb9  [other, US, FR, IT, GB]\n",
              "48  hiv4ovzlub  [other, US, FR, GB, IT]\n",
              "49  ckmvpcz1s0  [US, FR, other, IT, ES]"
            ]
          },
          "metadata": {
            "tags": []
          },
          "execution_count": 236
        }
      ]
    },
    {
      "cell_type": "code",
      "metadata": {
        "id": "bzbcTrkG2QIp"
      },
      "source": [
        "ans = sub_df.explode(column= 'country').set_index('id')\n",
        "ans.to_csv('submission.csv')"
      ],
      "execution_count": null,
      "outputs": []
    },
    {
      "cell_type": "code",
      "metadata": {
        "id": "t_cr0QBq1wHy"
      },
      "source": [
        ""
      ],
      "execution_count": null,
      "outputs": []
    }
  ]
}