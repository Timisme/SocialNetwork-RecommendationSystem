{
  "nbformat": 4,
  "nbformat_minor": 0,
  "metadata": {
    "colab": {
      "name": "MF_HW3.ipynb",
      "provenance": [],
      "collapsed_sections": []
    },
    "kernelspec": {
      "name": "python3",
      "display_name": "Python 3"
    },
    "language_info": {
      "name": "python"
    },
    "accelerator": "GPU"
  },
  "cells": [
    {
      "cell_type": "code",
      "metadata": {
        "id": "73ZWHPbyhQIM"
      },
      "source": [
        "import numpy as np\n",
        "import torch \n",
        "import torch.nn as nn\n",
        "import pandas as pd\n",
        "from sklearn.metrics import mean_squared_error \n",
        "from sklearn.model_selection import KFold"
      ],
      "execution_count": 1,
      "outputs": []
    },
    {
      "cell_type": "code",
      "metadata": {
        "id": "A8hTSQZ6hYlK"
      },
      "source": [
        "path = '/content/drive/MyDrive/python_data/社群網路與推薦系統/hw3/data/Movielens/user_movie.dat'\n",
        "device= 'cuda' if torch.cuda.is_available() else 'cpu'"
      ],
      "execution_count": 2,
      "outputs": []
    },
    {
      "cell_type": "markdown",
      "metadata": {
        "id": "K48_eKR3hegT"
      },
      "source": [
        "# User-Item-Matrix"
      ]
    },
    {
      "cell_type": "code",
      "metadata": {
        "id": "8WFcybnwix0F"
      },
      "source": [
        "def get_filtered_data(path):\n",
        "\n",
        "  names = ['user_id', 'item_id', 'rating']\n",
        "  df = pd.read_csv(path, sep='\\t', names=names, usecols = [i for i in range(3)])\n",
        "  \n",
        "  '''filtering'''\n",
        "  grouped_df = df.groupby(['user_id'])['item_id'].count()\n",
        "  filtered_user_id = grouped_df[grouped_df>3].index\n",
        "  filtered_df = df.set_index('user_id').loc[filtered_user_id].reset_index()\n",
        "  filtered_data= np.array(filtered_df)\n",
        "\n",
        "  return filtered_data"
      ],
      "execution_count": 3,
      "outputs": []
    },
    {
      "cell_type": "code",
      "metadata": {
        "id": "onI1HFyNnrfS"
      },
      "source": [
        "def get_mask(data):\n",
        "  # data 2d array with [n, 3]\n",
        "  mask = torch.zeros(size= (n_user, n_item), dtype= float, device= device)\n",
        "  for info in data:\n",
        "    mask[info[0]-1, info[1]-1] = 1\n",
        "  return mask"
      ],
      "execution_count": 4,
      "outputs": []
    },
    {
      "cell_type": "code",
      "metadata": {
        "id": "FFp4Y-mAkIAj"
      },
      "source": [
        "filtered_data = get_filtered_data(path= path)"
      ],
      "execution_count": 5,
      "outputs": []
    },
    {
      "cell_type": "code",
      "metadata": {
        "id": "LbDhFPVnmb0l"
      },
      "source": [
        "global n_user, n_item, y\n",
        "n_user= filtered_data[:,0].max()\n",
        "n_item= filtered_data[:,1].max()"
      ],
      "execution_count": 6,
      "outputs": []
    },
    {
      "cell_type": "code",
      "metadata": {
        "colab": {
          "base_uri": "https://localhost:8080/"
        },
        "id": "2BO8BiLunGZ5",
        "outputId": "0f559769-02c7-4c9e-ed06-5d722f19d691"
      },
      "source": [
        "y = torch.zeros(size= (n_user, n_item), dtype= float, device= device) \n",
        "for info in filtered_data:\n",
        "  y[info[0]-1, info[1]-1] = info[2]\n",
        "print(y.size())"
      ],
      "execution_count": 7,
      "outputs": [
        {
          "output_type": "stream",
          "text": [
            "torch.Size([943, 1682])\n"
          ],
          "name": "stdout"
        }
      ]
    },
    {
      "cell_type": "markdown",
      "metadata": {
        "id": "bxdxBDjqhxMo"
      },
      "source": [
        "----"
      ]
    },
    {
      "cell_type": "markdown",
      "metadata": {
        "id": "Ei6L810Jhco1"
      },
      "source": [
        "# MF"
      ]
    },
    {
      "cell_type": "code",
      "metadata": {
        "id": "LPYflxgJheB6"
      },
      "source": [
        "class MF(nn.Module):\n",
        "  def __init__(self, n_user, n_item, k, beta):\n",
        "    super(MF, self).__init__()\n",
        "    self.n_user= n_user\n",
        "    self.n_item= n_item\n",
        "    self.beta = beta\n",
        "    \"\"\"parameters | .to(device) creates new tensor so that the params cant be fetched from model.parameters()\"\"\"\n",
        "    self.b = torch.nn.Parameter(torch.zeros(size= (1, 1), dtype= float, device= device))\n",
        "    self.p = torch.nn.Parameter(torch.randn(size= (self.n_user, k), dtype= float, device= device))\n",
        "    self.q = torch.nn.Parameter(torch.randn(size= (self.n_item, k), dtype= float, device= device))\n",
        "    self.b_u = torch.nn.Parameter(torch.zeros(size=(self.n_user, 1), dtype= float, device= device))\n",
        "    self.b_i = torch.nn.Parameter(torch.zeros(size=(self.n_item, 1), dtype= float, device= device)) \n",
        "    # self.params = nn.ParameterList([self.p, self.q, self.b_u, self.b_i])\n",
        "  \n",
        "  def forward(self):\n",
        "    predict = self.b + self.b_u.repeat(1, self.n_item) + self.b_i.t().repeat(self.n_user, 1) + torch.matmul(self.p, self.q.t())\n",
        "    return predict\n",
        "\n",
        "  def loss_function(self, predict, y_mask):\n",
        "\n",
        "    mask_boolean = (y_mask > 0)\n",
        "\n",
        "    sse = torch.sum((torch.masked_select(y, mask_boolean) - torch.masked_select(predict, mask_boolean))**2)\n",
        "    p_norm = torch.norm(self.p, dim= 1).unsqueeze(dim= 1) #[n_user, 1]\n",
        "    q_norm = torch.norm(self.q, dim= 1).unsqueeze(dim= 1) #[n_item, 1]\n",
        "    sum_b_u = torch.sum((torch.masked_select(self.b_u.repeat(1, self.n_item), mask_boolean))**2)\n",
        "    sum_b_i = torch.sum((torch.masked_select(self.b_i.t().repeat(self.n_user, 1), mask_boolean))**2)\n",
        "    sum_b = ((self.b**2) * torch.sum(y_mask)).squeeze(dim= 1)\n",
        "    sum_p_norm = torch.sum((torch.masked_select(p_norm.repeat(1, self.n_item), mask_boolean))**2)\n",
        "    sum_q_norm = torch.sum((torch.masked_select(q_norm.t().repeat(self.n_user, 1), mask_boolean))**2)\n",
        "\n",
        "    # print(sse.size())\n",
        "    # print(sum_b_u.size())\n",
        "    # print(sum_b_i.size())\n",
        "    # print(sum_b.size())\n",
        "    # print(sum_p_norm.size())\n",
        "    # print(sum_q_norm.size())\n",
        "    return 0.5*sse + self.beta * 0.5 * (sum_b_u + sum_b_i + sum_b + sum_p_norm + sum_q_norm)\n",
        "  \n",
        "  def RMSE(self, predict, test_mask): \n",
        "    # test_mask: [n_user, n_item] float\n",
        "    # predict: [n_user, n_item] float\n",
        "\n",
        "    test_mask = (test_mask > 0)\n",
        "\n",
        "    return round(mean_squared_error(torch.masked_select(y, test_mask).detach().cpu(), torch.masked_select(predict, test_mask).detach().cpu(), squared= False), 2)"
      ],
      "execution_count": 8,
      "outputs": []
    },
    {
      "cell_type": "markdown",
      "metadata": {
        "id": "T6vEkW-cpThr"
      },
      "source": [
        "# Training "
      ]
    },
    {
      "cell_type": "code",
      "metadata": {
        "id": "jWupAkwupTUA"
      },
      "source": [
        "lr= 5e-2\n",
        "iteration = 100\n",
        "k= 4\n",
        "beta = 0.001"
      ],
      "execution_count": 14,
      "outputs": []
    },
    {
      "cell_type": "code",
      "metadata": {
        "id": "QPZu15x1pcB8"
      },
      "source": [
        "model = MF(n_user= n_user, n_item= n_item, k=k, beta=beta)\n",
        "optimizer = torch.optim.SGD(model.parameters(), lr=lr)\n",
        "criterion = nn.MSELoss()\n",
        "kf= KFold(n_splits=5)"
      ],
      "execution_count": 15,
      "outputs": []
    },
    {
      "cell_type": "code",
      "metadata": {
        "colab": {
          "base_uri": "https://localhost:8080/",
          "height": 345
        },
        "id": "QN5m3ChYpjMO",
        "outputId": "db8d1aed-ceac-423f-fe86-d739c00c8250"
      },
      "source": [
        "for epoch in range(iteration):\n",
        "  RMSEs = []\n",
        "  for train_indices, test_indices in kf.split(filtered_data):\n",
        "    train_y_mask= get_mask(data= filtered_data[train_indices])\n",
        "    test_y_mask= get_mask(data= filtered_data[test_indices])\n",
        "    \n",
        "    '''training process'''\n",
        "    model.train()\n",
        "    optimizer.zero_grad()\n",
        "    output= model()\n",
        "    # loss = model.loss_function(predict= output, y_mask= train_y_mask)\n",
        "    # print(f'loss: {round(loss.item(), 2)}')\n",
        "    loss = criterion(output, y*train_y_mask)\n",
        "    loss.backward()\n",
        "    optimizer.step()\n",
        "\n",
        "    \"\"\"testing process\"\"\"\n",
        "\n",
        "    rmse = model.RMSE(predict= output, test_mask= test_y_mask)\n",
        "    RMSEs.append(rmse)\n",
        "  \n",
        "  if ((epoch+1)%10) == 0: \n",
        "    print(f'Avg RMSE(test): {np.mean(RMSEs)}')\n",
        "    print(f'loss: {round(loss.item(), 2)}')"
      ],
      "execution_count": 17,
      "outputs": [
        {
          "output_type": "error",
          "ename": "KeyboardInterrupt",
          "evalue": "ignored",
          "traceback": [
            "\u001b[0;31m---------------------------------------------------------------------------\u001b[0m",
            "\u001b[0;31mKeyboardInterrupt\u001b[0m                         Traceback (most recent call last)",
            "\u001b[0;32m<ipython-input-17-55e3ad5add4b>\u001b[0m in \u001b[0;36m<module>\u001b[0;34m()\u001b[0m\n\u001b[1;32m      2\u001b[0m   \u001b[0mRMSEs\u001b[0m \u001b[0;34m=\u001b[0m \u001b[0;34m[\u001b[0m\u001b[0;34m]\u001b[0m\u001b[0;34m\u001b[0m\u001b[0;34m\u001b[0m\u001b[0m\n\u001b[1;32m      3\u001b[0m   \u001b[0;32mfor\u001b[0m \u001b[0mtrain_indices\u001b[0m\u001b[0;34m,\u001b[0m \u001b[0mtest_indices\u001b[0m \u001b[0;32min\u001b[0m \u001b[0mkf\u001b[0m\u001b[0;34m.\u001b[0m\u001b[0msplit\u001b[0m\u001b[0;34m(\u001b[0m\u001b[0mfiltered_data\u001b[0m\u001b[0;34m)\u001b[0m\u001b[0;34m:\u001b[0m\u001b[0;34m\u001b[0m\u001b[0;34m\u001b[0m\u001b[0m\n\u001b[0;32m----> 4\u001b[0;31m     \u001b[0mtrain_y_mask\u001b[0m\u001b[0;34m=\u001b[0m \u001b[0mget_mask\u001b[0m\u001b[0;34m(\u001b[0m\u001b[0mdata\u001b[0m\u001b[0;34m=\u001b[0m \u001b[0mfiltered_data\u001b[0m\u001b[0;34m[\u001b[0m\u001b[0mtrain_indices\u001b[0m\u001b[0;34m]\u001b[0m\u001b[0;34m)\u001b[0m\u001b[0;34m\u001b[0m\u001b[0;34m\u001b[0m\u001b[0m\n\u001b[0m\u001b[1;32m      5\u001b[0m     \u001b[0mtest_y_mask\u001b[0m\u001b[0;34m=\u001b[0m \u001b[0mget_mask\u001b[0m\u001b[0;34m(\u001b[0m\u001b[0mdata\u001b[0m\u001b[0;34m=\u001b[0m \u001b[0mfiltered_data\u001b[0m\u001b[0;34m[\u001b[0m\u001b[0mtest_indices\u001b[0m\u001b[0;34m]\u001b[0m\u001b[0;34m)\u001b[0m\u001b[0;34m\u001b[0m\u001b[0;34m\u001b[0m\u001b[0m\n\u001b[1;32m      6\u001b[0m \u001b[0;34m\u001b[0m\u001b[0m\n",
            "\u001b[0;32m<ipython-input-4-1ea58da1f65f>\u001b[0m in \u001b[0;36mget_mask\u001b[0;34m(data)\u001b[0m\n\u001b[1;32m      3\u001b[0m   \u001b[0mmask\u001b[0m \u001b[0;34m=\u001b[0m \u001b[0mtorch\u001b[0m\u001b[0;34m.\u001b[0m\u001b[0mzeros\u001b[0m\u001b[0;34m(\u001b[0m\u001b[0msize\u001b[0m\u001b[0;34m=\u001b[0m \u001b[0;34m(\u001b[0m\u001b[0mn_user\u001b[0m\u001b[0;34m,\u001b[0m \u001b[0mn_item\u001b[0m\u001b[0;34m)\u001b[0m\u001b[0;34m,\u001b[0m \u001b[0mdtype\u001b[0m\u001b[0;34m=\u001b[0m \u001b[0mfloat\u001b[0m\u001b[0;34m,\u001b[0m \u001b[0mdevice\u001b[0m\u001b[0;34m=\u001b[0m \u001b[0mdevice\u001b[0m\u001b[0;34m)\u001b[0m\u001b[0;34m\u001b[0m\u001b[0;34m\u001b[0m\u001b[0m\n\u001b[1;32m      4\u001b[0m   \u001b[0;32mfor\u001b[0m \u001b[0minfo\u001b[0m \u001b[0;32min\u001b[0m \u001b[0mdata\u001b[0m\u001b[0;34m:\u001b[0m\u001b[0;34m\u001b[0m\u001b[0;34m\u001b[0m\u001b[0m\n\u001b[0;32m----> 5\u001b[0;31m     \u001b[0mmask\u001b[0m\u001b[0;34m[\u001b[0m\u001b[0minfo\u001b[0m\u001b[0;34m[\u001b[0m\u001b[0;36m0\u001b[0m\u001b[0;34m]\u001b[0m\u001b[0;34m-\u001b[0m\u001b[0;36m1\u001b[0m\u001b[0;34m,\u001b[0m \u001b[0minfo\u001b[0m\u001b[0;34m[\u001b[0m\u001b[0;36m1\u001b[0m\u001b[0;34m]\u001b[0m\u001b[0;34m-\u001b[0m\u001b[0;36m1\u001b[0m\u001b[0;34m]\u001b[0m \u001b[0;34m=\u001b[0m \u001b[0;36m1\u001b[0m\u001b[0;34m\u001b[0m\u001b[0;34m\u001b[0m\u001b[0m\n\u001b[0m\u001b[1;32m      6\u001b[0m   \u001b[0;32mreturn\u001b[0m \u001b[0mmask\u001b[0m\u001b[0;34m\u001b[0m\u001b[0;34m\u001b[0m\u001b[0m\n",
            "\u001b[0;31mKeyboardInterrupt\u001b[0m: "
          ]
        }
      ]
    },
    {
      "cell_type": "code",
      "metadata": {
        "id": "l2aeYPRTwTjo"
      },
      "source": [
        ""
      ],
      "execution_count": null,
      "outputs": []
    }
  ]
}