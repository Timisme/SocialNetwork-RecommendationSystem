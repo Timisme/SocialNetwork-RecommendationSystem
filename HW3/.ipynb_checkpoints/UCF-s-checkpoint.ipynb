{
 "cells": [
  {
   "cell_type": "code",
   "execution_count": 1,
   "metadata": {},
   "outputs": [],
   "source": [
    "import numpy as np\n",
    "from scipy import spatial\n",
    "import torch \n",
    "import pandas as pd \n",
    "# torch.manual_seed(0)"
   ]
  },
  {
   "cell_type": "code",
   "execution_count": 2,
   "metadata": {},
   "outputs": [],
   "source": [
    "files = ['Douban_Book', 'Movielens', 'Yelp']"
   ]
  },
  {
   "cell_type": "code",
   "execution_count": 3,
   "metadata": {},
   "outputs": [],
   "source": [
    "with open(f'./data/Douban_Book/user_book.dat') as f:\n",
    "    data = [list(map(int, line.strip().split('\\t'))) for line in f.readlines()]"
   ]
  },
  {
   "cell_type": "markdown",
   "metadata": {},
   "source": [
    "# User-Item matrix \n",
    "\n",
    "CF 的缺點：\n",
    "\n",
    "* 如果沒有用戶的歷史數據就沒辦法做任何推薦\n",
    "* 以及無論 user-based 或 item-based 都需要消耗大量的運算資源\n",
    "* 大部分用戶有評分紀錄的資料都只佔所有資料中的很小一部分，matrix 相當稀疏，很難找到相似的資料\n",
    "* 會有馬太效應，越熱門的物品越容易被推薦，所以通常都會降低熱門物品的權重\n",
    "\n",
    "user-based 考慮的是 user 和 user 之間的相似程度\n",
    "\n",
    "    給定一個用戶 A\n",
    "    計算用戶 A 跟其他所有用戶的相似度\n",
    "    找出最相似的 m 個用戶\n",
    "    再找出這些用戶有評分但是用戶 A 沒有評分的物品（也可以額外限制至少要幾個用戶有評分過）\n",
    "    以「相似用戶的相似度」和「該用戶對該物品的評分」來加權算出用戶 A 對這些未評分物品的評分\n",
    "    最後推薦給 A 評分最高的 n 個物品\n",
    "\n",
    "預測 user_4 對 item_a 的評分 =\n",
    "(user_4_user_1_sim x user_1_item_a_rating + user_4_user_3_sim x user_3_item_a_rating) / (user_4_user_1_sim + user_4_user_3_sim)\n",
    "\n",
    "user-based 的特點：\n",
    "\n",
    "* 適合 user 遠少於 item 的系統，相似度的計算量會較少\n",
    "* item 的時效性強、更多樣的系統，例如新聞、社交網站，適合用 user-based CF\n",
    "* 不容易給出推薦理由\n",
    "* 驚喜度較高"
   ]
  },
  {
   "cell_type": "code",
   "execution_count": 4,
   "metadata": {},
   "outputs": [],
   "source": [
    "# matrix = torch.zeros((13024, 22347), dtype= int)\n",
    "# one_hot_matrix = torch.zeros((13024, 22347), dtype= int)\n",
    "# for info in data:\n",
    "#     matrix[info[0]-1, info[1]-1] = info[2]\n",
    "#     one_hot_matrix[info[0]-1, info[1]-1] = 1"
   ]
  },
  {
   "cell_type": "code",
   "execution_count": 5,
   "metadata": {},
   "outputs": [],
   "source": [
    "# matrix"
   ]
  },
  {
   "cell_type": "markdown",
   "metadata": {},
   "source": [
    "## Filtering & Spliting\n",
    "filtering 部分要改"
   ]
  },
  {
   "cell_type": "code",
   "execution_count": 6,
   "metadata": {},
   "outputs": [],
   "source": [
    "# filtered_matrix = matrix[torch.sum(one_hot_matrix, dim= 1) >= 3]"
   ]
  },
  {
   "cell_type": "code",
   "execution_count": 7,
   "metadata": {},
   "outputs": [],
   "source": [
    "# random_index = torch.randperm(len(filtered_matrix))\n",
    "# train_mat = filtered_matrix[random_index][:0.8*len(filtered_matrix)]\n",
    "# val_mat = filtered_matrix[random_index][:0.8*len(filtered_matrix)]\n",
    "# test_mat = filtered_matrix[random_index][:0.8*len(filtered_matrix)]"
   ]
  },
  {
   "cell_type": "code",
   "execution_count": 8,
   "metadata": {},
   "outputs": [],
   "source": [
    "class CF:\n",
    "    def __init__(self, path= './data/Douban_Book/user_book.dat'):\n",
    "        \n",
    "        \n",
    "        names = ['user_id', 'item_id', 'rating']\n",
    "        df = pd.read_csv(path, sep='\\t', names=names)\n",
    "        \n",
    "        '''filtering'''\n",
    "        grouped_df = df.groupby(['user_id'])['item_id'].count()\n",
    "        filtered_user_id = grouped_df[grouped_df>3].index\n",
    "        filtered_df = df.set_index('user_id').loc[filtered_user_id].reset_index()\n",
    "        \n",
    "        '''user_id to index_id'''\n",
    "        self.user_dict = dict()\n",
    "        for i, user_id in enumerate(filtered_user_id):\n",
    "            self.user_dict[user_id] = i \n",
    "        \n",
    "        self.n_user= filtered_df['user_id'].unique().shape[0]\n",
    "        self.n_item = filtered_df['item_id'].unique().shape[0]\n",
    "        self.data= np.array(filtered_df)\n",
    "        self.device = 'cuda' if torch.cuda.is_available() else 'cpu'\n",
    "            \n",
    "    def k_fold_data_split(self):\n",
    "        \n",
    "        np.random.shuffle(self.data)\n",
    "        train_data = self.data[:int(0.7*len(data))]\n",
    "        val_data = self.data[int(0.7*len(data)):int(0.8*len(data))]\n",
    "        test_data = self.data[int(0.8*len(data)):]\n",
    "        return train_data, val_data, test_data\n",
    "    \n",
    "    def user_item_matrix(self):\n",
    "        \n",
    "        train_data, val_data, test_data= self.k_fold_data_split()\n",
    "        matrix = torch.zeros((self.n_user, self.n_item), dtype= int)\n",
    "        \n",
    "        for info in train_data:\n",
    "            matrix[self.user_dict[info[0]], info[1]-1] = info[2]\n",
    "            \n",
    "        return matrix\n",
    "    \n",
    "    def similarity_matrix(self, method= 'cosine', kind= 'user', epsilon= 1e-9):\n",
    "        \n",
    "        user_item_matrix = self.user_item_matrix().to(self.device)\n",
    "        similarity_matrix = torch.zeros((self.n_user, self.n_user), dtype= float)\n",
    "        print('ok1')\n",
    "        if method == 'cosine':\n",
    "            \n",
    "            '''slow calc\n",
    "            for user1 in range(0, self.n_user):\n",
    "                for user2 in range(user1, self.n_user):\n",
    "                    similarity = 1 - spatial.distance.cosine(user_item_matrix[user1], user_item_matrix[user2])\n",
    "                    similarity_matrix[user1, user2] = similarity\n",
    "                print('ok')\n",
    "            \n",
    "            return similarity_matrix '''\n",
    "            \n",
    "            '''fast calc'''\n",
    "            # epsilon -> small number for handling dived-by-zero errors\n",
    "            if kind == 'user':\n",
    "                print('ok2')\n",
    "#                 sim = user_item_matrix.dot(user_item_matrix.T) + epsilon\n",
    "                sim = torch.mm(user_item_matrix, user_item_matrix.t()) + epsilon\n",
    "            elif kind == 'item':\n",
    "                sim = user_item_matrix.T.dot(user_item_matrix) + epsilon\n",
    "            print('ok3')\n",
    "            norms = np.array([np.sqrt(np.diagonal(sim))])\n",
    "            return (sim / norms / norms.T)\n",
    "            \n",
    "#     def k_nearest_neighbor(self, user1, k= 10)"
   ]
  },
  {
   "cell_type": "code",
   "execution_count": 9,
   "metadata": {},
   "outputs": [
    {
     "ename": "RuntimeError",
     "evalue": "CUDA out of memory. Tried to allocate 1.88 GiB (GPU 0; 2.00 GiB total capacity; 0 bytes already allocated; 1.65 GiB free; 0 bytes reserved in total by PyTorch)",
     "output_type": "error",
     "traceback": [
      "\u001b[1;31m---------------------------------------------------------------------------\u001b[0m",
      "\u001b[1;31mRuntimeError\u001b[0m                              Traceback (most recent call last)",
      "\u001b[1;32m<ipython-input-9-ff113bf14805>\u001b[0m in \u001b[0;36m<module>\u001b[1;34m\u001b[0m\n\u001b[1;32m----> 1\u001b[1;33m \u001b[0msimi\u001b[0m \u001b[1;33m=\u001b[0m \u001b[0mCF\u001b[0m\u001b[1;33m(\u001b[0m\u001b[1;33m)\u001b[0m\u001b[1;33m.\u001b[0m\u001b[0msimilarity_matrix\u001b[0m\u001b[1;33m(\u001b[0m\u001b[1;33m)\u001b[0m\u001b[1;33m\u001b[0m\u001b[1;33m\u001b[0m\u001b[0m\n\u001b[0m",
      "\u001b[1;32m<ipython-input-8-5b4d3fafa7f4>\u001b[0m in \u001b[0;36msimilarity_matrix\u001b[1;34m(self, method, kind, epsilon)\u001b[0m\n\u001b[0;32m     41\u001b[0m     \u001b[1;32mdef\u001b[0m \u001b[0msimilarity_matrix\u001b[0m\u001b[1;33m(\u001b[0m\u001b[0mself\u001b[0m\u001b[1;33m,\u001b[0m \u001b[0mmethod\u001b[0m\u001b[1;33m=\u001b[0m \u001b[1;34m'cosine'\u001b[0m\u001b[1;33m,\u001b[0m \u001b[0mkind\u001b[0m\u001b[1;33m=\u001b[0m \u001b[1;34m'user'\u001b[0m\u001b[1;33m,\u001b[0m \u001b[0mepsilon\u001b[0m\u001b[1;33m=\u001b[0m \u001b[1;36m1e-9\u001b[0m\u001b[1;33m)\u001b[0m\u001b[1;33m:\u001b[0m\u001b[1;33m\u001b[0m\u001b[1;33m\u001b[0m\u001b[0m\n\u001b[0;32m     42\u001b[0m \u001b[1;33m\u001b[0m\u001b[0m\n\u001b[1;32m---> 43\u001b[1;33m         \u001b[0muser_item_matrix\u001b[0m \u001b[1;33m=\u001b[0m \u001b[0mself\u001b[0m\u001b[1;33m.\u001b[0m\u001b[0muser_item_matrix\u001b[0m\u001b[1;33m(\u001b[0m\u001b[1;33m)\u001b[0m\u001b[1;33m.\u001b[0m\u001b[0mto\u001b[0m\u001b[1;33m(\u001b[0m\u001b[0mself\u001b[0m\u001b[1;33m.\u001b[0m\u001b[0mdevice\u001b[0m\u001b[1;33m)\u001b[0m\u001b[1;33m\u001b[0m\u001b[1;33m\u001b[0m\u001b[0m\n\u001b[0m\u001b[0;32m     44\u001b[0m         \u001b[0msimilarity_matrix\u001b[0m \u001b[1;33m=\u001b[0m \u001b[0mtorch\u001b[0m\u001b[1;33m.\u001b[0m\u001b[0mzeros\u001b[0m\u001b[1;33m(\u001b[0m\u001b[1;33m(\u001b[0m\u001b[0mself\u001b[0m\u001b[1;33m.\u001b[0m\u001b[0mn_user\u001b[0m\u001b[1;33m,\u001b[0m \u001b[0mself\u001b[0m\u001b[1;33m.\u001b[0m\u001b[0mn_user\u001b[0m\u001b[1;33m)\u001b[0m\u001b[1;33m,\u001b[0m \u001b[0mdtype\u001b[0m\u001b[1;33m=\u001b[0m \u001b[0mfloat\u001b[0m\u001b[1;33m)\u001b[0m\u001b[1;33m\u001b[0m\u001b[1;33m\u001b[0m\u001b[0m\n\u001b[0;32m     45\u001b[0m         \u001b[0mprint\u001b[0m\u001b[1;33m(\u001b[0m\u001b[1;34m'ok1'\u001b[0m\u001b[1;33m)\u001b[0m\u001b[1;33m\u001b[0m\u001b[1;33m\u001b[0m\u001b[0m\n",
      "\u001b[1;31mRuntimeError\u001b[0m: CUDA out of memory. Tried to allocate 1.88 GiB (GPU 0; 2.00 GiB total capacity; 0 bytes already allocated; 1.65 GiB free; 0 bytes reserved in total by PyTorch)"
     ]
    }
   ],
   "source": [
    "simi = CF().similarity_matrix()"
   ]
  },
  {
   "cell_type": "code",
   "execution_count": null,
   "metadata": {},
   "outputs": [],
   "source": [
    "names = ['user_id', 'item_id', 'rating']\n",
    "df = pd.read_csv('./data/Douban_Book/user_book.dat', sep='\\t', names=names)"
   ]
  },
  {
   "cell_type": "code",
   "execution_count": null,
   "metadata": {},
   "outputs": [],
   "source": [
    "filtered_df = df.groupby(['user_id'])['item_id'].count()"
   ]
  },
  {
   "cell_type": "code",
   "execution_count": null,
   "metadata": {},
   "outputs": [],
   "source": [
    "filtered_user_id = filtered_df[filtered_df>3].index\n",
    "print(filtered_user_id)"
   ]
  },
  {
   "cell_type": "code",
   "execution_count": null,
   "metadata": {},
   "outputs": [],
   "source": [
    "df.set_index('user_id').loc[filtered_user_id].reset_index()"
   ]
  },
  {
   "cell_type": "code",
   "execution_count": null,
   "metadata": {},
   "outputs": [],
   "source": []
  }
 ],
 "metadata": {
  "kernelspec": {
   "display_name": "Python 3",
   "language": "python",
   "name": "python3"
  },
  "language_info": {
   "codemirror_mode": {
    "name": "ipython",
    "version": 3
   },
   "file_extension": ".py",
   "mimetype": "text/x-python",
   "name": "python",
   "nbconvert_exporter": "python",
   "pygments_lexer": "ipython3",
   "version": "3.7.4"
  },
  "toc": {
   "base_numbering": 1,
   "nav_menu": {},
   "number_sections": true,
   "sideBar": true,
   "skip_h1_title": false,
   "title_cell": "Table of Contents",
   "title_sidebar": "Contents",
   "toc_cell": false,
   "toc_position": {
    "height": "calc(100% - 180px)",
    "left": "10px",
    "top": "150px",
    "width": "165px"
   },
   "toc_section_display": true,
   "toc_window_display": true
  }
 },
 "nbformat": 4,
 "nbformat_minor": 2
}
