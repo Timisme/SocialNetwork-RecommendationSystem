{
  "nbformat": 4,
  "nbformat_minor": 0,
  "metadata": {
    "colab": {
      "name": "DeepFM.ipynb",
      "provenance": [],
      "collapsed_sections": [],
      "toc_visible": true
    },
    "kernelspec": {
      "name": "python3",
      "display_name": "Python 3"
    },
    "language_info": {
      "name": "python"
    },
    "accelerator": "GPU"
  },
  "cells": [
    {
      "cell_type": "markdown",
      "metadata": {
        "id": "cYu5MviBduIy"
      },
      "source": [
        "# 概念\n",
        "\n",
        "1. DeepFM模型包含FM和DNN两部分，FM模型可以抽取low-order特征，DNN可以抽high-order特征。无需Wide&Deep模型人工特征工程。\n",
        "2. 由于输入仅为原始特征，而且FM和DNN共享输入向量特征，DeepFM模型训练速度很快。\n",
        "3. 不同field特征长度不同，但是子网络输出的向量需具有相同维度\n",
        "4. 利用FM模型的隐特征向量V作为网络权重初始化来获得子网络输出向量\n",
        "\n",
        "[架構](https://pic2.zhimg.com/80/v2-a893a331c3556046be1be7771b2cb1a9_720w.jpg)"
      ]
    },
    {
      "cell_type": "code",
      "metadata": {
        "id": "fSFLznpot3Na",
        "colab": {
          "base_uri": "https://localhost:8080/"
        },
        "outputId": "f1ee5603-88e2-4a09-9cc8-f00f08dff57f"
      },
      "source": [
        "import numpy as np\n",
        "import pandas as pd\n",
        "from sklearn.metrics import mean_squared_error \n",
        "from sklearn.model_selection import KFold \n",
        "from sklearn.preprocessing import OneHotEncoder\n",
        "import torch \n",
        "import torch.nn as nn\n",
        "# from torch.nn.functional import binary_cross_entropy\n",
        "torch.manual_seed(0)"
      ],
      "execution_count": 1,
      "outputs": [
        {
          "output_type": "execute_result",
          "data": {
            "text/plain": [
              "<torch._C.Generator at 0x7fa147de5fb0>"
            ]
          },
          "metadata": {
            "tags": []
          },
          "execution_count": 1
        }
      ]
    },
    {
      "cell_type": "code",
      "metadata": {
        "id": "2xc8HzyyT35w"
      },
      "source": [
        "user_item_path = '/content/drive/MyDrive/python_data/社群網路與推薦系統/hw3/data/Movielens/user_movie.dat'\n",
        "device = 'cuda' if torch.cuda.is_available() else 'cpu'"
      ],
      "execution_count": 2,
      "outputs": []
    },
    {
      "cell_type": "markdown",
      "metadata": {
        "id": "I_XtjtUytxmu"
      },
      "source": [
        "# Feature"
      ]
    },
    {
      "cell_type": "code",
      "metadata": {
        "id": "MXuINnnjT4jx"
      },
      "source": [
        "def get_feature(path):\n",
        "  names = ['id', 'feature_id']\n",
        "  df = pd.read_csv(path, sep= '\\t', names= names)\n",
        "  n = int(df['id'].max())\n",
        "  n_feature = int(df['feature_id'].max())\n",
        "  feature_mat = torch.zeros(size= (n, n_feature), dtype= torch.float, device= device)\n",
        "  for i, row in df.iterrows():\n",
        "    feature_mat[int(row['id'])-1, int(row['feature_id'])-1] = 1 \n",
        "  return feature_mat"
      ],
      "execution_count": 3,
      "outputs": []
    },
    {
      "cell_type": "code",
      "metadata": {
        "id": "ingSzfexT4lw"
      },
      "source": [
        "item_feature_mats = []\n",
        "user_feature_mats = []\n",
        "folder = '/content/drive/MyDrive/python_data/社群網路與推薦系統/hw3/data/Movielens/'\n",
        "for file in ['movie_genre']:\n",
        "  path = folder + file + '.dat'\n",
        "  item_feature_mat = get_feature(path= path)\n",
        "  item_feature_mats.append(item_feature_mat)\n",
        "for file in ['user_age', 'user_occupation']:\n",
        "  path = folder + file + '.dat'\n",
        "  user_feature_mat = get_feature(path= path)\n",
        "  user_feature_mats.append(user_feature_mat)"
      ],
      "execution_count": 4,
      "outputs": []
    },
    {
      "cell_type": "code",
      "metadata": {
        "colab": {
          "base_uri": "https://localhost:8080/"
        },
        "id": "q9ccXlEGT4nw",
        "outputId": "17d0056c-b088-4756-8aea-69d95ce958a3"
      },
      "source": [
        "item_feature_mat = torch.cat(item_feature_mats, dim= 1)\n",
        "user_feature_mat = torch.cat(user_feature_mats, dim= 1)\n",
        "print(f'item feature mat: {item_feature_mat.shape}')\n",
        "print(f'user feature mat: {user_feature_mat.shape}')\n",
        "n_user = user_feature_mat.shape[0]\n",
        "n_item = item_feature_mat.shape[0]\n",
        "d = n_item + item_feature_mat.shape[1] + n_user + user_feature_mat.shape[1]\n",
        "print(f'd: {d}')\n",
        "\n",
        "item_feature_len = [mat.shape[1] for mat in item_feature_mats]\n",
        "user_feature_len = [mat.shape[1] for mat in user_feature_mats]"
      ],
      "execution_count": 5,
      "outputs": [
        {
          "output_type": "stream",
          "text": [
            "item feature mat: torch.Size([1682, 18])\n",
            "user feature mat: torch.Size([943, 29])\n",
            "d: 2672\n"
          ],
          "name": "stdout"
        }
      ]
    },
    {
      "cell_type": "code",
      "metadata": {
        "id": "jX0J3VjgT4pg"
      },
      "source": [
        "rows = []\n",
        "y= []\n",
        "with open(user_item_path, 'r') as f:\n",
        "  for line in f.readlines():\n",
        "    user_temp = torch.zeros(size= (1, n_user), dtype= torch.float, device= device)\n",
        "    item_temp = torch.zeros(size= (1, n_item), dtype= torch.float, device= device)\n",
        "    user_id, item_id, rating, _= line.strip().split('\\t')\n",
        "    user_temp[0,int(user_id)-1] = 1\n",
        "    item_temp[0,int(item_id)-1] = 1\n",
        "    row = torch.cat([user_temp, item_temp, user_feature_mat[int(user_id)-1].unsqueeze(dim= 0), item_feature_mat[int(item_id)-1].unsqueeze(dim= 0)], dim= 1)\n",
        "    rows.append(row)\n",
        "    y.append(int(rating))\n",
        "\n",
        "X = torch.cat(rows, dim= 0)\n",
        "y = torch.tensor(y, dtype=torch.float)\n",
        "encoder = OneHotEncoder(sparse= False)\n",
        "y_onehot = encoder.fit_transform(y.view(-1,1))\n",
        "y_onehot = torch.tensor(y_onehot, dtype=torch.float) # tensor"
      ],
      "execution_count": 6,
      "outputs": []
    },
    {
      "cell_type": "code",
      "metadata": {
        "colab": {
          "base_uri": "https://localhost:8080/"
        },
        "id": "3R3c9Rk7cQSq",
        "outputId": "af2f5174-6617-4e40-a4ae-52f1e091c95f"
      },
      "source": [
        "print(f'{X.size()}')\n",
        "print(f'{y.size()}')"
      ],
      "execution_count": 7,
      "outputs": [
        {
          "output_type": "stream",
          "text": [
            "torch.Size([100000, 2672])\n",
            "torch.Size([100000])\n"
          ],
          "name": "stdout"
        }
      ]
    },
    {
      "cell_type": "markdown",
      "metadata": {
        "id": "d0-we_gotxo6"
      },
      "source": [
        "# Model"
      ]
    },
    {
      "cell_type": "code",
      "metadata": {
        "id": "s_rno26hd0TN"
      },
      "source": [
        "class DeepFM(nn.Module):\n",
        "  def __init__(self, fields, k= 5, hidden_dims= [16, 16], dropout= 0.2, n_class= 5):\n",
        "    super(DeepFM, self).__init__()\n",
        "    self.fields = fields \n",
        "    self.k = k \n",
        "    self.hidden_dims = hidden_dims\n",
        "\n",
        "    \"\"\"FM\"\"\"\n",
        "    d = sum(fields)\n",
        "    self.FM_w = nn.Linear(d, 1, bias= False)\n",
        "    self.embedding_ws = nn.ParameterList([nn.Parameter(torch.randn(size= (i, k), dtype=torch.float, device= device)) for i in fields])\n",
        "    \n",
        "    \"\"\"DNN\"\"\"\n",
        "    layers = []\n",
        "    input_dim = k * len(fields)\n",
        "\n",
        "    for hidden_dim in hidden_dims:\n",
        "      layers.append(nn.Linear(input_dim, hidden_dim))\n",
        "      layers.append(nn.BatchNorm1d(hidden_dim))\n",
        "      layers.append(nn.ReLU())\n",
        "      layers.append(nn.Dropout(p=dropout))\n",
        "      input_dim = hidden_dim\n",
        "    \n",
        "    layers.append(nn.Linear(hidden_dims[-1], n_class))\n",
        "    self.dnn = nn.Sequential(*layers)\n",
        "\n",
        "  def Dense_Embedding(self, X):\n",
        "    es = []\n",
        "    start= 0\n",
        "    for i, field in enumerate(self.fields):\n",
        "      # ei = self.embedding_ws[i](X[:, start:start+field]).unsqueeze(dim= 1) # ei: [n, 1, k]\n",
        "      ei = torch.matmul(X[:, start:start+field], self.embedding_ws[i]).unsqueeze(dim= 1) # ei: [n, 1, k]\n",
        "      start += field\n",
        "      es.append(ei)\n",
        "\n",
        "    return torch.cat(es, dim= 1) # [n, n_fields, k]  \n",
        "\n",
        "  \n",
        "  def FM(self, X):\n",
        "\n",
        "    sum_of_square = torch.sum(X, dim= 1)**2 #[n, k]\n",
        "    square_of_sum = torch.sum(X**2, dim= 1)\n",
        "    ix = sum_of_square - square_of_sum    \n",
        "    return 0.5 * torch.sum(ix, dim= 1, keepdim= True)\n",
        "\n",
        "  def DNN(self, X):\n",
        "\n",
        "    X = X.view(-1, self.k * len(self.fields)) # [n, k*n_fields]\n",
        "    X = self.dnn(X)\n",
        "    return X\n",
        "  \n",
        "  def forward(self, X):\n",
        "\n",
        "    dense_X = self.Dense_Embedding(X)\n",
        "    FM_y = self.FM(dense_X)\n",
        "    DNN_y = self.DNN(dense_X)\n",
        "    y = self.FM_w(X) + FM_y + DNN_y\n",
        "\n",
        "    return nn.Sigmoid()(y)"
      ],
      "execution_count": 8,
      "outputs": []
    },
    {
      "cell_type": "markdown",
      "metadata": {
        "id": "PPmI23SUUEwQ"
      },
      "source": [
        "# Training"
      ]
    },
    {
      "cell_type": "code",
      "metadata": {
        "colab": {
          "base_uri": "https://localhost:8080/"
        },
        "id": "u8Kd6D84N1S1",
        "outputId": "7dcb9211-0076-4a7f-c77a-1cac26416fd5"
      },
      "source": [
        "fields = [n_user, n_item] + user_feature_len + item_feature_len\n",
        "print(fields)\n",
        "\n",
        "k = 10\n",
        "hidden_dims = [128, 128, 128]\n",
        "lr = 1e-2\n",
        "n_epoch = 100\n",
        "p = 0.3\n",
        "\n",
        "model = DeepFM(fields= fields, k= k, hidden_dims= hidden_dims, dropout= p).to(device)\n",
        "kf= KFold(n_splits=5)\n",
        "optimizer = torch.optim.Adam(model.parameters(), lr= lr)\n",
        "criterion = nn.BCELoss()"
      ],
      "execution_count": 9,
      "outputs": [
        {
          "output_type": "stream",
          "text": [
            "[943, 1682, 8, 21, 18]\n"
          ],
          "name": "stdout"
        }
      ]
    },
    {
      "cell_type": "code",
      "metadata": {
        "colab": {
          "base_uri": "https://localhost:8080/"
        },
        "id": "zZaDlm6MN7qV",
        "outputId": "ba711ea0-d44c-48aa-a488-e9d897dfc197"
      },
      "source": [
        "for epoch in range(n_epoch):\n",
        "\n",
        "  RMSEs = []\n",
        "  for train_indice, test_indice in kf.split(X):\n",
        "    a = train_indice\n",
        "    train_X, test_X = X[train_indice], X[test_indice]\n",
        "    '''training process'''\n",
        "    model.train()\n",
        "    optimizer.zero_grad()\n",
        "    output = model(X= train_X)\n",
        "    loss = criterion(output.squeeze(dim= 1).cpu(), y_onehot[train_indice])\n",
        "    # loss = criterion(output.cpu(), y[train_indice])\n",
        "    loss.backward()\n",
        "    optimizer.step()\n",
        "    out = output.squeeze(dim= 1).detach().cpu()\n",
        "    out_rank = torch.argmax(out, dim=1)+1\n",
        "    rmse = mean_squared_error(out_rank, y[train_indice], squared= False)\n",
        "    # print(f'training rmse: {round(rmse,2)}')\n",
        "\n",
        "    '''testing process'''\n",
        "    model.eval()\n",
        "    with torch.no_grad():\n",
        "      output = model(X= test_X)\n",
        "      out = output.squeeze(dim= 1).detach().cpu()\n",
        "      out_rank = torch.argmax(out, dim=1)+1\n",
        "      rmse = mean_squared_error(out_rank, y[test_indice], squared= False)\n",
        "      # print(f'test rmse: {round(rmse, 2)}')\n",
        "      RMSEs.append(rmse)  \n",
        "\n",
        "  if ((epoch+1)% 10) == 0:\n",
        "    print(f'epoch: {epoch+1}')\n",
        "    print(f'training loss: {round(loss.item(), 2)}')\n",
        "    print(f'avg RMSEs: {round(np.mean(RMSEs), 2)}')"
      ],
      "execution_count": 10,
      "outputs": [
        {
          "output_type": "stream",
          "text": [
            "epoch: 10\n",
            "training loss: 0.96\n",
            "avg RMSEs: 1.2\n",
            "epoch: 20\n",
            "training loss: 0.63\n",
            "avg RMSEs: 1.2\n",
            "epoch: 30\n",
            "training loss: 0.54\n",
            "avg RMSEs: 1.17\n",
            "epoch: 40\n",
            "training loss: 0.5\n",
            "avg RMSEs: 1.12\n",
            "epoch: 50\n",
            "training loss: 0.46\n",
            "avg RMSEs: 1.06\n",
            "epoch: 60\n",
            "training loss: 0.44\n",
            "avg RMSEs: 1.02\n",
            "epoch: 70\n",
            "training loss: 0.43\n",
            "avg RMSEs: 1.0\n",
            "epoch: 80\n",
            "training loss: 0.42\n",
            "avg RMSEs: 0.99\n",
            "epoch: 90\n",
            "training loss: 0.41\n",
            "avg RMSEs: 0.99\n",
            "epoch: 100\n",
            "training loss: 0.4\n",
            "avg RMSEs: 0.97\n"
          ],
          "name": "stdout"
        }
      ]
    },
    {
      "cell_type": "code",
      "metadata": {
        "colab": {
          "base_uri": "https://localhost:8080/"
        },
        "id": "DxIv1ZE4RNUG",
        "outputId": "af01adcc-88d6-4b06-c226-f718d74c1859"
      },
      "source": [
        "out_rank[:10]"
      ],
      "execution_count": 11,
      "outputs": [
        {
          "output_type": "execute_result",
          "data": {
            "text/plain": [
              "tensor([4, 1, 4, 3, 4, 5, 5, 2, 5, 3])"
            ]
          },
          "metadata": {
            "tags": []
          },
          "execution_count": 11
        }
      ]
    },
    {
      "cell_type": "code",
      "metadata": {
        "colab": {
          "base_uri": "https://localhost:8080/"
        },
        "id": "xBeFtqCTXjsm",
        "outputId": "42ec9fd0-7474-4c21-c8f3-7956058e7423"
      },
      "source": [
        "y[test_indice][:10]"
      ],
      "execution_count": 12,
      "outputs": [
        {
          "output_type": "execute_result",
          "data": {
            "text/plain": [
              "tensor([4., 1., 1., 2., 4., 5., 3., 2., 5., 3.])"
            ]
          },
          "metadata": {
            "tags": []
          },
          "execution_count": 12
        }
      ]
    },
    {
      "cell_type": "code",
      "metadata": {
        "id": "7cddcUJ4XmTB"
      },
      "source": [
        "# for name, param in model.named_parameters():\n",
        "#     if param.requires_grad:\n",
        "#         print(name)"
      ],
      "execution_count": 13,
      "outputs": []
    },
    {
      "cell_type": "code",
      "metadata": {
        "id": "fKVADvHDriqR"
      },
      "source": [
        ""
      ],
      "execution_count": 13,
      "outputs": []
    }
  ]
}