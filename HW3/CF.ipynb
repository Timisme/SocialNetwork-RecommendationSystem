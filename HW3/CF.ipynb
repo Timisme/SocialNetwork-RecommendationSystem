{
  "nbformat": 4,
  "nbformat_minor": 0,
  "metadata": {
    "colab": {
      "name": "CF.ipynb",
      "provenance": [],
      "collapsed_sections": []
    },
    "kernelspec": {
      "name": "python3",
      "display_name": "Python 3"
    },
    "language_info": {
      "name": "python"
    }
  },
  "cells": [
    {
      "cell_type": "code",
      "metadata": {
        "id": "mL1HqUL80ah2"
      },
      "source": [
        "import numpy as np\n",
        "import scipy.spatial\n",
        "import scipy.stats\n",
        "import pandas as pd\n",
        "from sklearn.metrics import mean_squared_error \n",
        "from sklearn.model_selection import KFold"
      ],
      "execution_count": 25,
      "outputs": []
    },
    {
      "cell_type": "code",
      "metadata": {
        "id": "WfHka_d00jKt"
      },
      "source": [
        "path = '/content/drive/MyDrive/python_data/社群網路與推薦系統/hw3/data/Movielens/user_movie.dat'"
      ],
      "execution_count": 5,
      "outputs": []
    },
    {
      "cell_type": "code",
      "metadata": {
        "colab": {
          "base_uri": "https://localhost:8080/"
        },
        "id": "N9coxPQG2tFc",
        "outputId": "1285998a-f019-4b76-ef2e-f920d51be684"
      },
      "source": [
        "names = ['user_id', 'item_id', 'rating', 'time']\n",
        "df = pd.read_csv(path, sep='\\t', names=names).iloc[:, :3]\n",
        "\n",
        "'''filtering'''\n",
        "grouped_df = df.groupby(['user_id'])['item_id'].count()\n",
        "filtered_user_id = grouped_df[grouped_df>3].index\n",
        "filtered_df = df.set_index('user_id').loc[filtered_user_id].reset_index() \n",
        "\n",
        "n_user= filtered_df['user_id'].max()\n",
        "n_item = filtered_df['item_id'].max()\n",
        "data= np.array(filtered_df)\n",
        "print(data.shape)\n",
        "print(f'n_user: {n_user}')"
      ],
      "execution_count": 54,
      "outputs": [
        {
          "output_type": "stream",
          "text": [
            "(100000, 3)\n",
            "n_user: 943\n"
          ],
          "name": "stdout"
        }
      ]
    },
    {
      "cell_type": "code",
      "metadata": {
        "id": "vrusDX_n28pA"
      },
      "source": [
        "matrix = np.zeros(shape= (n_user, n_item), dtype=float)\n",
        "for info in data:\n",
        "  matrix[info[0]-1, info[1]-1] = info[2]"
      ],
      "execution_count": 27,
      "outputs": []
    },
    {
      "cell_type": "markdown",
      "metadata": {
        "id": "-7zPdY9QRoRF"
      },
      "source": [
        "# Function"
      ]
    },
    {
      "cell_type": "code",
      "metadata": {
        "id": "Vpd68v1i1LSz"
      },
      "source": [
        "def similarity(matrix, metric= 'cosine'):\n",
        "  mat = np.zeros(shape= (n_user, n_user), dtype= float)\n",
        "  for i_m, row_m in enumerate(matrix[:n_user]):\n",
        "    # print('ok')\n",
        "    for i_s, row_s in enumerate(matrix[i_m+1:]):\n",
        "      if metric == 'cosine':\n",
        "        mat[i_m][i_s] = 1-scipy.spatial.distance.cosine(matrix[i_m],matrix[i_s])\n",
        "      elif metric == 'spearson':\n",
        "        mat[i_m][i_s] = scipy.stats.pearsonr(matrix[i_m],matrix[i_s])[0]\n",
        "  return mat "
      ],
      "execution_count": 42,
      "outputs": []
    },
    {
      "cell_type": "code",
      "metadata": {
        "id": "BJyxquanSW-V"
      },
      "source": [
        "similarity_matrix = similarity(matrix= matrix, metric= 'cosine')"
      ],
      "execution_count": 45,
      "outputs": []
    },
    {
      "cell_type": "markdown",
      "metadata": {
        "id": "j8RuYcoGRTP1"
      },
      "source": [
        "# Training"
      ]
    },
    {
      "cell_type": "code",
      "metadata": {
        "id": "gP8RVlTBfxmq"
      },
      "source": [
        "k= 20"
      ],
      "execution_count": 73,
      "outputs": []
    },
    {
      "cell_type": "code",
      "metadata": {
        "id": "Vf9shFDeQdbT"
      },
      "source": [
        "kf = KFold(n_splits= 5)"
      ],
      "execution_count": 47,
      "outputs": []
    },
    {
      "cell_type": "code",
      "metadata": {
        "colab": {
          "base_uri": "https://localhost:8080/",
          "height": 292
        },
        "id": "UkAqE5bXQoTq",
        "outputId": "4a161cfb-336f-4149-9154-ba681dbb6b9d"
      },
      "source": [
        "RMSEs= []\n",
        "for train_indices, test_indices in kf.split(data):\n",
        "  print('start round...')\n",
        "  y= []\n",
        "  pred= []\n",
        "  train_data = data[train_indices]\n",
        "  train_user_ids = set([info[0]-1 for info in train_data])\n",
        "  id_simi_dict = dict()\n",
        "  # u = np.mean([info[2] for info in train_data]) # overall mean item rating\n",
        "\n",
        "  '''iterate over each user in test'''\n",
        "  for (test_user_id, test_item_id, rating) in data[test_indices]:\n",
        "    # bu = np.mean([info[2] for info in train_data if info[0]==test_user_id])\n",
        "    # bi = np.mean([info[2] for info in train_data if info[1]==test_item_id])\n",
        "\n",
        "    # top_k_matched_users = similarity(test_user_id, train_matrix)\n",
        "    for train_user_id in train_user_ids: \n",
        "      id_simi_dict[train_user_id] = similarity_matrix[test_user_id-1, train_user_id-1] # 該user 和train_users相似度\n",
        "\n",
        "    top_k_users = sorted(id_simi_dict.items(),key= lambda x: x[1] ,reverse=True)[:k] # list of tuples of (train_user_id, similarity)\n",
        "    simi_r_sum = sum([matrix[info[0]-1, test_item_id-1]*info[1] for info in top_k_users])\n",
        "    simi_sum = sum([info[1] for info in top_k_users])\n",
        "    # print(simi_r_sum/simi_sum)\n",
        "    if simi_sum != 0:\n",
        "      pred.append(simi_r_sum/simi_sum)\n",
        "    else: \n",
        "      pred.append(0)\n",
        "    y.append(rating)\n",
        "\n",
        "  rmse = mean_squared_error(y, pred, squared=False)\n",
        "  RMSEs.append(rmse)\n",
        "print(f'avg RMSE: {np.mean(RMSEs)}')"
      ],
      "execution_count": 80,
      "outputs": [
        {
          "output_type": "stream",
          "text": [
            "start round...\n",
            "start round...\n",
            "start round...\n",
            "start round...\n",
            "start round...\n"
          ],
          "name": "stdout"
        },
        {
          "output_type": "error",
          "ename": "NameError",
          "evalue": "ignored",
          "traceback": [
            "\u001b[0;31m---------------------------------------------------------------------------\u001b[0m",
            "\u001b[0;31mNameError\u001b[0m                                 Traceback (most recent call last)",
            "\u001b[0;32m<ipython-input-80-41a9f0a69a3f>\u001b[0m in \u001b[0;36m<module>\u001b[0;34m()\u001b[0m\n\u001b[1;32m     30\u001b[0m   \u001b[0mrmse\u001b[0m \u001b[0;34m=\u001b[0m \u001b[0mmean_squared_error\u001b[0m\u001b[0;34m(\u001b[0m\u001b[0my\u001b[0m\u001b[0;34m,\u001b[0m \u001b[0mpred\u001b[0m\u001b[0;34m,\u001b[0m \u001b[0msquared\u001b[0m\u001b[0;34m=\u001b[0m\u001b[0;32mFalse\u001b[0m\u001b[0;34m)\u001b[0m\u001b[0;34m\u001b[0m\u001b[0;34m\u001b[0m\u001b[0m\n\u001b[1;32m     31\u001b[0m   \u001b[0mRMSEs\u001b[0m\u001b[0;34m.\u001b[0m\u001b[0mappend\u001b[0m\u001b[0;34m(\u001b[0m\u001b[0mrmse\u001b[0m\u001b[0;34m)\u001b[0m\u001b[0;34m\u001b[0m\u001b[0;34m\u001b[0m\u001b[0m\n\u001b[0;32m---> 32\u001b[0;31m \u001b[0mprint\u001b[0m\u001b[0;34m(\u001b[0m\u001b[0;34mf'avg RMSE: {np.mean(RMESs)}'\u001b[0m\u001b[0;34m)\u001b[0m\u001b[0;34m\u001b[0m\u001b[0;34m\u001b[0m\u001b[0m\n\u001b[0m",
            "\u001b[0;31mNameError\u001b[0m: name 'RMESs' is not defined"
          ]
        }
      ]
    },
    {
      "cell_type": "code",
      "metadata": {
        "colab": {
          "base_uri": "https://localhost:8080/"
        },
        "id": "C8hJ_5VOnUAW",
        "outputId": "44e0424c-0533-45d4-bac4-cd643059abbf"
      },
      "source": [
        "np.mean(RMSEs)"
      ],
      "execution_count": 81,
      "outputs": [
        {
          "output_type": "execute_result",
          "data": {
            "text/plain": [
              "2.1677297293744493"
            ]
          },
          "metadata": {
            "tags": []
          },
          "execution_count": 81
        }
      ]
    },
    {
      "cell_type": "code",
      "metadata": {
        "colab": {
          "base_uri": "https://localhost:8080/"
        },
        "id": "zv5jk1qfe-Vk",
        "outputId": "cd5904ff-23ba-442b-ae36-3af4e932aedf"
      },
      "source": [
        "sorted(id_simi_dict.items(),key= lambda x: x[1] ,reverse=True)[:k]"
      ],
      "execution_count": 71,
      "outputs": [
        {
          "output_type": "execute_result",
          "data": {
            "text/plain": [
              "[(121, 0.298137525989115),\n",
              " (82, 0.28594313179479847),\n",
              " (177, 0.28160649128860515),\n",
              " (160, 0.2665883822764571),\n",
              " (74, 0.26134527045826295),\n",
              " (96, 0.25669354581329706),\n",
              " (6, 0.24793389310824843),\n",
              " (123, 0.24706013659926573),\n",
              " (115, 0.24540007774383865),\n",
              " (10, 0.2422719847046888),\n",
              " (192, 0.2333340524359344),\n",
              " (77, 0.2312772560805495),\n",
              " (16, 0.22790677387819203),\n",
              " (185, 0.2265914954254712),\n",
              " (162, 0.22170469305561036),\n",
              " (2, 0.22063508856773728),\n",
              " (172, 0.2162794626414617),\n",
              " (14, 0.2149292197872401),\n",
              " (139, 0.21469801604867733),\n",
              " (194, 0.21388029884909043)]"
            ]
          },
          "metadata": {
            "tags": []
          },
          "execution_count": 71
        }
      ]
    },
    {
      "cell_type": "code",
      "metadata": {
        "colab": {
          "base_uri": "https://localhost:8080/"
        },
        "id": "y43CP2gBdTUs",
        "outputId": "572db140-fd28-4827-961c-c5d34a17a345"
      },
      "source": [
        " similarity_matrix[1, ][0]"
      ],
      "execution_count": 61,
      "outputs": [
        {
          "output_type": "execute_result",
          "data": {
            "text/plain": [
              "0.16693098386870198"
            ]
          },
          "metadata": {
            "tags": []
          },
          "execution_count": 61
        }
      ]
    },
    {
      "cell_type": "code",
      "metadata": {
        "id": "z2jmxLEsdabH"
      },
      "source": [
        ""
      ],
      "execution_count": null,
      "outputs": []
    }
  ]
}