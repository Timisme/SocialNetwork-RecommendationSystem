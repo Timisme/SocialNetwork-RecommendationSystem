{
  "nbformat": 4,
  "nbformat_minor": 0,
  "metadata": {
    "colab": {
      "name": "CF.ipynb",
      "provenance": [],
      "collapsed_sections": []
    },
    "kernelspec": {
      "name": "python3",
      "display_name": "Python 3"
    },
    "language_info": {
      "name": "python"
    }
  },
  "cells": [
    {
      "cell_type": "code",
      "metadata": {
        "id": "mL1HqUL80ah2"
      },
      "source": [
        "import numpy as np\n",
        "import scipy.spatial\n",
        "import scipy.stats\n",
        "import pandas as pd\n",
        "from sklearn.metrics import mean_squared_error \n",
        "from sklearn.model_selection import KFold"
      ],
      "execution_count": null,
      "outputs": []
    },
    {
      "cell_type": "code",
      "metadata": {
        "id": "WfHka_d00jKt"
      },
      "source": [
        "path = '/content/drive/MyDrive/python_data/社群網路與推薦系統/hw3/data/Movielens/user_movie.dat'"
      ],
      "execution_count": null,
      "outputs": []
    },
    {
      "cell_type": "code",
      "metadata": {
        "colab": {
          "base_uri": "https://localhost:8080/"
        },
        "id": "N9coxPQG2tFc",
        "outputId": "7740f9c0-7442-4342-ffb1-1c22de6bb4a9"
      },
      "source": [
        "names = ['user_id', 'item_id', 'rating', 'time']\n",
        "df = pd.read_csv(path, sep='\\t', names=names).iloc[:, :3]\n",
        "\n",
        "'''filtering'''\n",
        "grouped_df = df.groupby(['user_id'])['item_id'].count()\n",
        "filtered_user_id = grouped_df[grouped_df>3].index\n",
        "filtered_df = df.set_index('user_id').loc[filtered_user_id].reset_index() \n",
        "\n",
        "n_user= filtered_df['user_id'].max()\n",
        "n_item = filtered_df['item_id'].max()\n",
        "data= np.array(filtered_df)\n",
        "print(data.shape)\n",
        "print(f'n_user: {n_user}')"
      ],
      "execution_count": null,
      "outputs": [
        {
          "output_type": "stream",
          "text": [
            "(100000, 3)\n",
            "n_user: 943\n"
          ],
          "name": "stdout"
        }
      ]
    },
    {
      "cell_type": "code",
      "metadata": {
        "id": "vrusDX_n28pA"
      },
      "source": [
        "matrix = np.zeros(shape= (n_user, n_item), dtype=float)\n",
        "for info in data:\n",
        "  matrix[info[0]-1, info[1]-1] = info[2]"
      ],
      "execution_count": null,
      "outputs": []
    },
    {
      "cell_type": "markdown",
      "metadata": {
        "id": "-7zPdY9QRoRF"
      },
      "source": [
        "# Function"
      ]
    },
    {
      "cell_type": "code",
      "metadata": {
        "id": "Vpd68v1i1LSz"
      },
      "source": [
        "def similarity(matrix, metric= 'cosine'):\n",
        "  mat = np.zeros(shape= (n_user, n_user), dtype= float)\n",
        "  for i_m, row_m in enumerate(matrix[:n_user]):\n",
        "    # print('ok')\n",
        "    for i_s, row_s in enumerate(matrix[i_m+1:]):\n",
        "      if metric == 'cosine':\n",
        "        mat[i_m][i_s] = 1-scipy.spatial.distance.cosine(matrix[i_m],matrix[i_s])\n",
        "      elif metric == 'spearson':\n",
        "        mat[i_m][i_s] = scipy.stats.pearsonr(matrix[i_m],matrix[i_s])[0]\n",
        "  return mat "
      ],
      "execution_count": null,
      "outputs": []
    },
    {
      "cell_type": "code",
      "metadata": {
        "id": "BJyxquanSW-V"
      },
      "source": [
        "similarity_matrix = similarity(matrix= matrix, metric= 'cosine')"
      ],
      "execution_count": null,
      "outputs": []
    },
    {
      "cell_type": "markdown",
      "metadata": {
        "id": "j8RuYcoGRTP1"
      },
      "source": [
        "# Training"
      ]
    },
    {
      "cell_type": "code",
      "metadata": {
        "id": "gP8RVlTBfxmq"
      },
      "source": [
        "k= 30"
      ],
      "execution_count": null,
      "outputs": []
    },
    {
      "cell_type": "code",
      "metadata": {
        "id": "Vf9shFDeQdbT"
      },
      "source": [
        "# test_kf = KFold(n_splits=5, shuffle= True, random_state=42)\n",
        "# val_kf = KFold(n_splits=8, shuffle= True, random_state=42)\n",
        "kf= KFold(n_splits=5, shuffle= True, random_state=42)"
      ],
      "execution_count": null,
      "outputs": []
    },
    {
      "cell_type": "code",
      "metadata": {
        "colab": {
          "base_uri": "https://localhost:8080/"
        },
        "id": "UkAqE5bXQoTq",
        "outputId": "b85d2b8f-8a47-4adb-dbfe-d418bd2c08c4"
      },
      "source": [
        "RMSEs= []\n",
        "for train_indice, test_indice in kf.split(data):\n",
        "  print('start round...')\n",
        "  train_data= data[train_indice]\n",
        "  y= []\n",
        "  pred= []\n",
        "  train_user_ids = set([info[0]-1 for info in train_data])\n",
        "  id_simi_dict = dict()\n",
        "  # u = np.mean([info[2] for info in train_data]) # overall mean item rating\n",
        "\n",
        "  '''iterate over each user in test'''\n",
        "  for (test_user_id, test_item_id, rating) in data[test_indice]:\n",
        "    # bu = np.mean([info[2] for info in train_data if info[0]==test_user_id])\n",
        "    # bi = np.mean([info[2] for info in train_data if info[1]==test_item_id])\n",
        "\n",
        "    # top_k_matched_users = similarity(test_user_id, train_matrix)\n",
        "    for train_user_id in train_user_ids: \n",
        "      id_simi_dict[train_user_id] = similarity_matrix[test_user_id-1, train_user_id-1] # 該user 和train_users相似度\n",
        "\n",
        "    top_k_users = sorted(id_simi_dict.items(),key= lambda x: x[1] ,reverse=True)[:k] # list of tuples of (train_user_id, similarity)\n",
        "    simi_r_sum = sum([matrix[info[0]-1, test_item_id-1]*info[1] for info in top_k_users])\n",
        "    simi_sum = sum([info[1] for info in top_k_users])\n",
        "    # print(simi_r_sum/simi_sum)\n",
        "    if simi_sum != 0:\n",
        "      pred.append(simi_r_sum/simi_sum)\n",
        "    else: \n",
        "      pred.append(0)\n",
        "    y.append(rating)\n",
        "\n",
        "  rmse = mean_squared_error(y, pred, squared=False)\n",
        "  RMSEs.append(rmse)\n",
        "print(f'avg RMSE: {np.mean(RMSEs)}')"
      ],
      "execution_count": null,
      "outputs": [
        {
          "output_type": "stream",
          "text": [
            "start round...\n",
            "start round...\n",
            "start round...\n",
            "start round...\n",
            "start round...\n",
            "avg RMSE: 2.127987169704867\n"
          ],
          "name": "stdout"
        }
      ]
    },
    {
      "cell_type": "code",
      "metadata": {
        "colab": {
          "base_uri": "https://localhost:8080/"
        },
        "id": "C8hJ_5VOnUAW",
        "outputId": "94fe6259-dfa3-4ced-c788-f46ca6b97f1e"
      },
      "source": [
        "np.mean(RMSEs)"
      ],
      "execution_count": null,
      "outputs": [
        {
          "output_type": "execute_result",
          "data": {
            "text/plain": [
              "2.127987169704867"
            ]
          },
          "metadata": {
            "tags": []
          },
          "execution_count": 10
        }
      ]
    },
    {
      "cell_type": "code",
      "metadata": {
        "colab": {
          "base_uri": "https://localhost:8080/"
        },
        "id": "zv5jk1qfe-Vk",
        "outputId": "efc52c89-1ef0-4d44-ceb4-523fa3329c5c"
      },
      "source": [
        "\"\"\"\n",
        "Cosine: avg rse: 2.1\n",
        "Spearson：avg rse: 2.25\n",
        "\"\"\""
      ],
      "execution_count": null,
      "outputs": [
        {
          "output_type": "execute_result",
          "data": {
            "application/vnd.google.colaboratory.intrinsic+json": {
              "type": "string"
            },
            "text/plain": [
              "'\\nCosine: avg rse: 2.1\\nSpearson：avg rse: 2.25\\n'"
            ]
          },
          "metadata": {
            "tags": []
          },
          "execution_count": 11
        }
      ]
    },
    {
      "cell_type": "code",
      "metadata": {
        "id": "z2jmxLEsdabH"
      },
      "source": [
        ""
      ],
      "execution_count": null,
      "outputs": []
    }
  ]
}