{
  "nbformat": 4,
  "nbformat_minor": 0,
  "metadata": {
    "colab": {
      "name": "FNN_HW3.ipynb",
      "provenance": [],
      "collapsed_sections": []
    },
    "kernelspec": {
      "name": "python3",
      "display_name": "Python 3"
    },
    "language_info": {
      "name": "python"
    }
  },
  "cells": [
    {
      "cell_type": "markdown",
      "metadata": {
        "id": "4pPI-aEYTomO"
      },
      "source": [
        "# Params:\n",
        "\n",
        "* w0 [1,1]\n",
        "* n: n_fields\n",
        "* zi: [k+1, 1] for ith field\n",
        "* w0_i : [k+1, (endi -starti +1)= d]\n",
        "\n",
        "# 概念\n",
        "* 針對每個field (每組特徵 如user age, user_accupation, 即n_fields = 2)\n",
        "* 針對field i, 用Wi weight matrix將X[starti, endi] embed成 [w, v1, v2, v3.....vk] = zi\n",
        "* 再利用z = [w0, z1, z2, ... zn]做fully-connected layer兩次後做sigmoid函數得y\n"
      ]
    },
    {
      "cell_type": "code",
      "metadata": {
        "id": "csEINp66ROP3"
      },
      "source": [
        "import numpy as np\n",
        "import torch \n",
        "import torch.nn as nn\n",
        "import pandas as pd\n",
        "from sklearn.metrics import mean_squared_error \n",
        "from sklearn.model_selection import KFold "
      ],
      "execution_count": null,
      "outputs": []
    },
    {
      "cell_type": "code",
      "metadata": {
        "id": "m6rvqE3QeBBo"
      },
      "source": [
        "user_item_path = '/content/drive/MyDrive/python_data/社群網路與推薦系統/hw3/data/Movielens/user_movie.dat'\n",
        "device = 'cuda' if torch.cuda.is_available() else 'cpu'"
      ],
      "execution_count": null,
      "outputs": []
    },
    {
      "cell_type": "markdown",
      "metadata": {
        "id": "4eans8kedFMB"
      },
      "source": [
        "# Feature Matrix"
      ]
    },
    {
      "cell_type": "code",
      "metadata": {
        "id": "IJi9GDC1dG2p"
      },
      "source": [
        "def get_feature(path):\n",
        "  names = ['id', 'feature_id']\n",
        "  df = pd.read_csv(path, sep= '\\t', names= names)\n",
        "  n = int(df['id'].max())\n",
        "  n_feature = int(df['feature_id'].max())\n",
        "  feature_mat = torch.zeros(size= (n, n_feature), dtype= float, device= device)\n",
        "  for i, row in df.iterrows():\n",
        "    feature_mat[int(row['id'])-1, int(row['feature_id'])-1] = 1 \n",
        "  return feature_mat"
      ],
      "execution_count": null,
      "outputs": []
    },
    {
      "cell_type": "code",
      "metadata": {
        "id": "wpwObTtYtFux"
      },
      "source": [
        "item_feature_mats = []\n",
        "user_feature_mats = []\n",
        "folder = '/content/drive/MyDrive/python_data/社群網路與推薦系統/hw3/data/Movielens/'\n",
        "for file in ['movie_genre', 'movie_movie(knn)']:\n",
        "  path = folder + file + '.dat'\n",
        "  item_feature_mat = get_feature(path= path)\n",
        "  item_feature_mats.append(item_feature_mat)\n",
        "for file in ['user_age', 'user_occupation']:\n",
        "  path = folder + file + '.dat'\n",
        "  user_feature_mat = get_feature(path= path)\n",
        "  user_feature_mats.append(user_feature_mat)"
      ],
      "execution_count": null,
      "outputs": []
    },
    {
      "cell_type": "code",
      "metadata": {
        "id": "BQAVdZVitHZW"
      },
      "source": [
        "item_feature_mat = torch.cat(item_feature_mats, dim= 1)\n",
        "user_feature_mat = torch.cat(user_feature_mats, dim= 1)\n",
        "print(f'item feature mat: {item_feature_mat.shape}')\n",
        "print(f'user feature mat: {user_feature_mat.shape}')\n",
        "n_user = user_feature_mat.shape[0]\n",
        "n_item = item_feature_mat.shape[0]\n",
        "d = n_item + item_feature_mat.shape[1] + n_user + user_feature_mat.shape[1]\n",
        "print(f'd: {d}')"
      ],
      "execution_count": null,
      "outputs": []
    },
    {
      "cell_type": "code",
      "metadata": {
        "id": "WeRtKxIetJji"
      },
      "source": [
        "rows = []\n",
        "y= []\n",
        "with open(user_item_path, 'r') as f:\n",
        "  for line in f.readlines():\n",
        "    user_temp = torch.zeros(size= (1, n_user), dtype= float, device= device)\n",
        "    item_temp = torch.zeros(size= (1, n_item), dtype= float, device= device)\n",
        "    user_id, item_id, rating, _= line.strip().split('\\t')\n",
        "    user_temp[0,int(user_id)-1] = 1\n",
        "    item_temp[0,int(item_id)-1] = 1\n",
        "    row = torch.cat([user_temp, item_temp, user_feature_mat[int(user_id)-1].unsqueeze(dim= 0), item_feature_mat[int(item_id)-1].unsqueeze(dim= 0)], dim= 1)\n",
        "    rows.append(row)\n",
        "    y.append(int(rating))\n",
        "\n",
        "X = torch.cat(rows, dim= 0)\n",
        "y= torch.tensor(y, dtype=float) # tensor"
      ],
      "execution_count": null,
      "outputs": []
    },
    {
      "cell_type": "markdown",
      "metadata": {
        "id": "HuUjpn-IdHPr"
      },
      "source": [
        "# Model"
      ]
    },
    {
      "cell_type": "code",
      "metadata": {
        "id": "NndTPYE4dH1G"
      },
      "source": [
        "class FeaturesEmbedding(nn.Module):\n",
        "\n",
        "  def __init__(self, field_dims, embed_dim):\n",
        "    super().__init__()\n",
        "    self.embedding = torch.nn.Embedding(sum(field_dims), embed_dim)\n",
        "    self.offsets = np.array((0, *np.cumsum(field_dims)[:-1]), dtype=np.long)\n",
        "    torch.nn.init.xavier_uniform_(self.embedding.weight.data)\n",
        "\n",
        "  def forward(self, x):\n",
        "    \"\"\"\n",
        "    :param x: Long tensor of size ``(batch_size, num_fields)``\n",
        "    \"\"\"\n",
        "    x = x + x.new_tensor(self.offsets).unsqueeze(0)\n",
        "    return self.embedding(x)"
      ],
      "execution_count": null,
      "outputs": []
    },
    {
      "cell_type": "code",
      "metadata": {
        "id": "BmdRV8nadPif"
      },
      "source": [
        "class MultiLayerPerceptron(nn.Module):\n",
        "  def __init__(self, input_dim, embed_dims, dropout, output_layer=True):\n",
        "    super().__init__()\n",
        "    layers = list()\n",
        "    for embed_dim in embed_dims:\n",
        "        layers.append(torch.nn.Linear(input_dim, embed_dim))\n",
        "        layers.append(torch.nn.BatchNorm1d(embed_dim))\n",
        "        layers.append(torch.nn.ReLU())\n",
        "        layers.append(torch.nn.Dropout(p=dropout))\n",
        "        input_dim = embed_dim\n",
        "    if output_layer:\n",
        "        layers.append(torch.nn.Linear(input_dim, 1))\n",
        "    self.mlp = torch.nn.Sequential(*layers)\n",
        "\n",
        "  def forward(self, x):\n",
        "    \"\"\"\n",
        "    :param x: Float tensor of size ``(batch_size, embed_dim)``\n",
        "    \"\"\"\n",
        "    return self.mlp(x)\n"
      ],
      "execution_count": null,
      "outputs": []
    },
    {
      "cell_type": "code",
      "metadata": {
        "id": "1ugukFz1dXFE"
      },
      "source": [
        "class FactorizationSupportedNeuralNetworkModel(nn.Module):\n",
        "  \"\"\"\n",
        "  A pytorch implementation of Neural Factorization Machine.\n",
        "  Reference:\n",
        "      W Zhang, et al. Deep Learning over Multi-field Categorical Data - A Case Study on User Response Prediction, 2016.\n",
        "  \"\"\"\n",
        "\n",
        "  def __init__(self, field_dims, embed_dim, mlp_dims, dropout):\n",
        "    super().__init__()\n",
        "    self.embedding = FeaturesEmbedding(field_dims, embed_dim)\n",
        "    self.embed_output_dim = len(field_dims) * embed_dim\n",
        "    self.mlp = MultiLayerPerceptron(self.embed_output_dim, mlp_dims, dropout)\n",
        "\n",
        "  def forward(self, x):\n",
        "    \"\"\"\n",
        "    :param x: Long tensor of size ``(batch_size, num_fields)``\n",
        "    \"\"\"\n",
        "    embed_x = self.embedding(x)\n",
        "    x = self.mlp(embed_x.view(-1, self.embed_output_dim))\n",
        "    return torch.sigmoid(x.squeeze(1))"
      ],
      "execution_count": null,
      "outputs": []
    },
    {
      "cell_type": "code",
      "metadata": {
        "id": "S1mEIaLNf05J"
      },
      "source": [
        "# class FNN(nn.Module):\n",
        "#   def __init__(self, k, d)"
      ],
      "execution_count": null,
      "outputs": []
    }
  ]
}