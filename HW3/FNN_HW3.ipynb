{
  "nbformat": 4,
  "nbformat_minor": 0,
  "metadata": {
    "colab": {
      "name": "FNN_HW3.ipynb",
      "provenance": [],
      "collapsed_sections": []
    },
    "kernelspec": {
      "name": "python3",
      "display_name": "Python 3"
    },
    "language_info": {
      "name": "python"
    },
    "accelerator": "GPU"
  },
  "cells": [
    {
      "cell_type": "code",
      "metadata": {
        "id": "csEINp66ROP3",
        "colab": {
          "base_uri": "https://localhost:8080/"
        },
        "outputId": "f33da993-6d14-4a86-d3d9-8684640334ed"
      },
      "source": [
        "import numpy as np\n",
        "import torch \n",
        "import torch.nn as nn\n",
        "import pandas as pd\n",
        "from sklearn.metrics import mean_squared_error \n",
        "from sklearn.model_selection import KFold \n",
        "torch.manual_seed(0)"
      ],
      "execution_count": 22,
      "outputs": [
        {
          "output_type": "execute_result",
          "data": {
            "text/plain": [
              "<torch._C.Generator at 0x7f5a4b272a50>"
            ]
          },
          "metadata": {
            "tags": []
          },
          "execution_count": 22
        }
      ]
    },
    {
      "cell_type": "code",
      "metadata": {
        "id": "m6rvqE3QeBBo"
      },
      "source": [
        "user_item_path = '/content/drive/MyDrive/python_data/社群網路與推薦系統/hw3/data/Movielens/user_movie.dat'\n",
        "device = 'cuda' if torch.cuda.is_available() else 'cpu'"
      ],
      "execution_count": 23,
      "outputs": []
    },
    {
      "cell_type": "markdown",
      "metadata": {
        "id": "4eans8kedFMB"
      },
      "source": [
        "# Feature Matrix"
      ]
    },
    {
      "cell_type": "code",
      "metadata": {
        "id": "IJi9GDC1dG2p"
      },
      "source": [
        "def get_feature(path):\n",
        "  names = ['id', 'feature_id']\n",
        "  df = pd.read_csv(path, sep= '\\t', names= names)\n",
        "  n = int(df['id'].max())\n",
        "  n_feature = int(df['feature_id'].max())\n",
        "  feature_mat = torch.zeros(size= (n, n_feature), dtype= torch.float, device= device)\n",
        "  for i, row in df.iterrows():\n",
        "    feature_mat[int(row['id'])-1, int(row['feature_id'])-1] = 1 \n",
        "  return feature_mat"
      ],
      "execution_count": 24,
      "outputs": []
    },
    {
      "cell_type": "code",
      "metadata": {
        "id": "wpwObTtYtFux"
      },
      "source": [
        "item_feature_mats = []\n",
        "user_feature_mats = []\n",
        "folder = '/content/drive/MyDrive/python_data/社群網路與推薦系統/hw3/data/Movielens/'\n",
        "for file in ['movie_genre', 'movie_movie(knn)']:\n",
        "  path = folder + file + '.dat'\n",
        "  item_feature_mat = get_feature(path= path)\n",
        "  item_feature_mats.append(item_feature_mat)\n",
        "for file in ['user_age', 'user_occupation']:\n",
        "  path = folder + file + '.dat'\n",
        "  user_feature_mat = get_feature(path= path)\n",
        "  user_feature_mats.append(user_feature_mat)"
      ],
      "execution_count": 25,
      "outputs": []
    },
    {
      "cell_type": "code",
      "metadata": {
        "id": "BQAVdZVitHZW",
        "colab": {
          "base_uri": "https://localhost:8080/"
        },
        "outputId": "2aa37486-ceae-439a-a3cf-24b95d9730a5"
      },
      "source": [
        "item_feature_mat = torch.cat(item_feature_mats, dim= 1)\n",
        "user_feature_mat = torch.cat(user_feature_mats, dim= 1)\n",
        "print(f'item feature mat: {item_feature_mat.shape}')\n",
        "print(f'user feature mat: {user_feature_mat.shape}')\n",
        "n_user = user_feature_mat.shape[0]\n",
        "n_item = item_feature_mat.shape[0]\n",
        "d = n_item + item_feature_mat.shape[1] + n_user + user_feature_mat.shape[1]\n",
        "print(f'd: {d}')\n",
        "\n",
        "item_feature_len = [mat.shape[1] for mat in item_feature_mats]\n",
        "user_feature_len = [mat.shape[1] for mat in user_feature_mats]"
      ],
      "execution_count": 26,
      "outputs": [
        {
          "output_type": "stream",
          "text": [
            "item feature mat: torch.Size([1682, 19])\n",
            "user feature mat: torch.Size([943, 29])\n",
            "d: 2673\n"
          ],
          "name": "stdout"
        }
      ]
    },
    {
      "cell_type": "code",
      "metadata": {
        "id": "WeRtKxIetJji"
      },
      "source": [
        "rows = []\n",
        "y= []\n",
        "with open(user_item_path, 'r') as f:\n",
        "  for line in f.readlines():\n",
        "    user_temp = torch.zeros(size= (1, n_user), dtype= torch.float, device= device)\n",
        "    item_temp = torch.zeros(size= (1, n_item), dtype= torch.float, device= device)\n",
        "    user_id, item_id, rating, _= line.strip().split('\\t')\n",
        "    user_temp[0,int(user_id)-1] = 1\n",
        "    item_temp[0,int(item_id)-1] = 1\n",
        "    row = torch.cat([user_temp, item_temp, user_feature_mat[int(user_id)-1].unsqueeze(dim= 0), item_feature_mat[int(item_id)-1].unsqueeze(dim= 0)], dim= 1)\n",
        "    rows.append(row)\n",
        "    y.append(int(rating))\n",
        "\n",
        "X = torch.cat(rows, dim= 0)\n",
        "y= torch.tensor(y, dtype=torch.float) # tensor"
      ],
      "execution_count": 27,
      "outputs": []
    },
    {
      "cell_type": "markdown",
      "metadata": {
        "id": "4pPI-aEYTomO"
      },
      "source": [
        "# Params:\n",
        "\n",
        "* w0 [1,1]\n",
        "* n: n_fields\n",
        "* zi: [k+1, 1] for ith field\n",
        "* w0_i : [k+1, (endi -starti +1)]\n",
        "\n",
        "# 概念\n",
        "* 針對每個field (每組特徵 如user age, user_accupation, 即n_fields = 2)\n",
        "* 針對field i, 用Wi weight matrix將X[starti, endi] embed成 [w, v1, v2, v3.....vk] = zi\n",
        "* 再利用z = [w0, z1, z2, ... zn]做fully-connected layer兩次後做sigmoid函數得y\n"
      ]
    },
    {
      "cell_type": "markdown",
      "metadata": {
        "id": "HuUjpn-IdHPr"
      },
      "source": [
        "# Model"
      ]
    },
    {
      "cell_type": "code",
      "metadata": {
        "id": "S1mEIaLNf05J"
      },
      "source": [
        "class FNN(nn.Module):\n",
        "  def __init__(self, k, fields, hidden_dim, p= 0.5):\n",
        "    super(FNN, self).__init__()\n",
        "    self.k = k\n",
        "    self.fields = fields \n",
        "    self.n_fields = len(fields)\n",
        "    self.d = sum(fields)\n",
        "    self.p = p\n",
        "    self.w0 = torch.nn.Parameter(torch.zeros(size= (1,1), dtype= torch.float, device= device))\n",
        "    self.param_list= []\n",
        "    for field in fields:\n",
        "      self.param_list.append(torch.nn.Parameter(torch.randn(size= (field, k+1), dtype= torch.float, device= device)))\n",
        "    self.params = torch.nn.ParameterList(self.param_list.append(self.w0))\n",
        "    self.fc1 = nn.Linear(in_features= (self.n_fields * (k+1)), out_features= hidden_dim, bias= True).to(device, dtype= torch.float)\n",
        "    self.fc2 = nn.Linear(in_features= hidden_dim, out_features= hidden_dim, bias= True).to(device, dtype= torch.float)\n",
        "    self.fc3 = nn.Linear(in_features= hidden_dim, out_features= 1, bias= True).to(device, dtype= torch.float)\n",
        "\n",
        "  def forward(self, x):\n",
        "    \n",
        "    zs = []\n",
        "    count = 0 \n",
        "    for i, field in enumerate(self.fields):\n",
        "      zi = torch.matmul(x[:, count:(count+field)], self.param_list[i]) # zi: [n_sample, k+1]\n",
        "      zs.append(zi)\n",
        "      count += field\n",
        "\n",
        "    z = self.w0 + torch.cat(zs, dim= 1)\n",
        "    z = self.fc1(z)\n",
        "    z = nn.Tanh()(z)\n",
        "    z = nn.Dropout(p= self.p)(z)\n",
        "    z = self.fc2(z)\n",
        "    z = nn.Tanh()(z)\n",
        "    z = nn.Dropout(p= self.p)(z)\n",
        "    z = self.fc3(z)\n",
        "    # z = nn.Sigmoid()(z)\n",
        "    # z = torch.argmax(z, dim= 1)\n",
        "    return z"
      ],
      "execution_count": 79,
      "outputs": []
    },
    {
      "cell_type": "markdown",
      "metadata": {
        "id": "Zb-IxHGoAe9U"
      },
      "source": [
        "-----"
      ]
    },
    {
      "cell_type": "markdown",
      "metadata": {
        "id": "g8XT0fvlAgHP"
      },
      "source": [
        "# Train"
      ]
    },
    {
      "cell_type": "code",
      "metadata": {
        "colab": {
          "base_uri": "https://localhost:8080/"
        },
        "id": "G3AA1jtgAfo-",
        "outputId": "4a3040fa-db41-4dc1-e370-4254d07f928c"
      },
      "source": [
        "fields = [n_user, n_item] + user_feature_len + item_feature_len\n",
        "print(fields)\n",
        "\n",
        "k = 10\n",
        "hidden_dim = 128\n",
        "lr = 1e-2\n",
        "n_epoch = 200\n",
        "p = 0.3\n",
        "\n",
        "model = FNN(k= k, fields= fields, hidden_dim= hidden_dim, p= p)\n",
        "kf= KFold(n_splits=5)\n",
        "optimizer = torch.optim.SGD(model.parameters(), lr= lr)\n",
        "criterion = nn.MSELoss()"
      ],
      "execution_count": 80,
      "outputs": [
        {
          "output_type": "stream",
          "text": [
            "[943, 1682, 8, 21, 18, 1]\n"
          ],
          "name": "stdout"
        }
      ]
    },
    {
      "cell_type": "code",
      "metadata": {
        "colab": {
          "base_uri": "https://localhost:8080/",
          "height": 450
        },
        "id": "fZaiwdHUQWeE",
        "outputId": "b05ba5f9-1ed0-4c5f-99dc-a41ae9b28f07"
      },
      "source": [
        "for epoch in range(n_epoch):\n",
        "\n",
        "  RMSEs = []\n",
        "  for train_indice, test_indice in kf.split(X):\n",
        "    a = train_indice\n",
        "    train_X, test_X = X[train_indice], X[test_indice]\n",
        "    '''training process'''\n",
        "    model.train()\n",
        "    optimizer.zero_grad()\n",
        "    output = model(x= train_X)\n",
        "    loss = criterion(output.squeeze(dim= 1).cpu(), y[train_indice])\n",
        "    # loss = criterion(output.cpu(), y[train_indice])\n",
        "    loss.backward()\n",
        "    optimizer.step()\n",
        "    rmse = mean_squared_error(output.squeeze(dim= 1).detach().cpu(), y[train_indice], squared= False)\n",
        "    # print(f'training rmse: {round(rmse,2)}')\n",
        "\n",
        "    '''testing process'''\n",
        "    model.eval()\n",
        "    with torch.no_grad():\n",
        "      output = model(x= test_X)\n",
        "      rmse = mean_squared_error(output.squeeze(dim= 1).cpu(), y[test_indice], squared= False)\n",
        "      # print(f'test rmse: {round(rmse, 2)}')\n",
        "      RMSEs.append(rmse)  \n",
        "\n",
        "  if ((epoch+1)% 10) == 0:\n",
        "    print(f'epoch: {epoch+1}')\n",
        "    print(f'training loss: {round(loss.item(), 2)}')\n",
        "    print(f'avg RMSEs: {round(np.mean(RMSEs), 2)}')"
      ],
      "execution_count": 81,
      "outputs": [
        {
          "output_type": "stream",
          "text": [
            "epoch: 10\n",
            "training loss: 7.83\n",
            "avg RMSEs: 2.799999952316284\n",
            "epoch: 20\n",
            "training loss: 7.73\n",
            "avg RMSEs: 2.7799999713897705\n",
            "epoch: 30\n",
            "training loss: 7.71\n",
            "avg RMSEs: 2.7699999809265137\n",
            "epoch: 40\n",
            "training loss: 7.7\n",
            "avg RMSEs: 2.7699999809265137\n"
          ],
          "name": "stdout"
        },
        {
          "output_type": "error",
          "ename": "KeyboardInterrupt",
          "evalue": "ignored",
          "traceback": [
            "\u001b[0;31m---------------------------------------------------------------------------\u001b[0m",
            "\u001b[0;31mKeyboardInterrupt\u001b[0m                         Traceback (most recent call last)",
            "\u001b[0;32m<ipython-input-81-27100a4e226e>\u001b[0m in \u001b[0;36m<module>\u001b[0;34m()\u001b[0m\n\u001b[1;32m      4\u001b[0m   \u001b[0;32mfor\u001b[0m \u001b[0mtrain_indice\u001b[0m\u001b[0;34m,\u001b[0m \u001b[0mtest_indice\u001b[0m \u001b[0;32min\u001b[0m \u001b[0mkf\u001b[0m\u001b[0;34m.\u001b[0m\u001b[0msplit\u001b[0m\u001b[0;34m(\u001b[0m\u001b[0mX\u001b[0m\u001b[0;34m)\u001b[0m\u001b[0;34m:\u001b[0m\u001b[0;34m\u001b[0m\u001b[0;34m\u001b[0m\u001b[0m\n\u001b[1;32m      5\u001b[0m     \u001b[0ma\u001b[0m \u001b[0;34m=\u001b[0m \u001b[0mtrain_indice\u001b[0m\u001b[0;34m\u001b[0m\u001b[0;34m\u001b[0m\u001b[0m\n\u001b[0;32m----> 6\u001b[0;31m     \u001b[0mtrain_X\u001b[0m\u001b[0;34m,\u001b[0m \u001b[0mtest_X\u001b[0m \u001b[0;34m=\u001b[0m \u001b[0mX\u001b[0m\u001b[0;34m[\u001b[0m\u001b[0mtrain_indice\u001b[0m\u001b[0;34m]\u001b[0m\u001b[0;34m,\u001b[0m \u001b[0mX\u001b[0m\u001b[0;34m[\u001b[0m\u001b[0mtest_indice\u001b[0m\u001b[0;34m]\u001b[0m\u001b[0;34m\u001b[0m\u001b[0;34m\u001b[0m\u001b[0m\n\u001b[0m\u001b[1;32m      7\u001b[0m     \u001b[0;34m'''training process'''\u001b[0m\u001b[0;34m\u001b[0m\u001b[0;34m\u001b[0m\u001b[0m\n\u001b[1;32m      8\u001b[0m     \u001b[0mmodel\u001b[0m\u001b[0;34m.\u001b[0m\u001b[0mtrain\u001b[0m\u001b[0;34m(\u001b[0m\u001b[0;34m)\u001b[0m\u001b[0;34m\u001b[0m\u001b[0;34m\u001b[0m\u001b[0m\n",
            "\u001b[0;31mKeyboardInterrupt\u001b[0m: "
          ]
        }
      ]
    },
    {
      "cell_type": "code",
      "metadata": {
        "id": "TIrUccE3SEMD"
      },
      "source": [
        "output"
      ],
      "execution_count": null,
      "outputs": []
    },
    {
      "cell_type": "code",
      "metadata": {
        "id": "lG7YoTz2XfH4"
      },
      "source": [
        "y[test_indice]"
      ],
      "execution_count": null,
      "outputs": []
    },
    {
      "cell_type": "code",
      "metadata": {
        "id": "kMylMq5ZZ7VV"
      },
      "source": [
        "model(x=X).shape"
      ],
      "execution_count": null,
      "outputs": []
    },
    {
      "cell_type": "code",
      "metadata": {
        "id": "UOS8Yz9Cdnuy"
      },
      "source": [
        ""
      ],
      "execution_count": null,
      "outputs": []
    }
  ]
}