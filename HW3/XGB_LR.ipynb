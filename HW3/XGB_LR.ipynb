{
  "nbformat": 4,
  "nbformat_minor": 0,
  "metadata": {
    "colab": {
      "name": "XGB_LR_HW3ipynb",
      "provenance": [],
      "collapsed_sections": []
    },
    "kernelspec": {
      "name": "python3",
      "display_name": "Python 3"
    },
    "language_info": {
      "name": "python"
    }
  },
  "cells": [
    {
      "cell_type": "code",
      "metadata": {
        "id": "oZnUYUD0G3hg"
      },
      "source": [
        "import numpy as np\n",
        "import pandas as pd\n",
        "from sklearn.metrics import mean_squared_error \n",
        "from sklearn.model_selection import KFold \n",
        "from sklearn.linear_model.logistic import LogisticRegression\n",
        "from sklearn.preprocessing import OneHotEncoder\n",
        "# import xgboost as xgb\n",
        "from xgboost import XGBClassifier, DMatrix"
      ],
      "execution_count": null,
      "outputs": []
    },
    {
      "cell_type": "code",
      "metadata": {
        "id": "IDXEx8V6G8LI"
      },
      "source": [
        "user_item_path = '/content/drive/MyDrive/python_data/社群網路與推薦系統/hw3/data/Movielens/user_movie.dat'"
      ],
      "execution_count": null,
      "outputs": []
    },
    {
      "cell_type": "code",
      "metadata": {
        "id": "wT4aVQMxG8NK"
      },
      "source": [
        "def get_feature(path):\n",
        "  names = ['id', 'feature_id']\n",
        "  df = pd.read_csv(path, sep= '\\t', names= names)\n",
        "  n = int(df['id'].max())\n",
        "  n_feature = int(df['feature_id'].max())\n",
        "  feature_mat = np.zeros(shape= (n, n_feature), dtype= float)\n",
        "  for i, row in df.iterrows():\n",
        "    feature_mat[int(row['id'])-1, int(row['feature_id'])-1] = 1 \n",
        "  return feature_mat"
      ],
      "execution_count": null,
      "outputs": []
    },
    {
      "cell_type": "code",
      "metadata": {
        "id": "tWSBzVnUG8PU"
      },
      "source": [
        "item_feature_mats = []\n",
        "user_feature_mats = []\n",
        "folder = '/content/drive/MyDrive/python_data/社群網路與推薦系統/hw3/data/Movielens/'\n",
        "for file in ['movie_genre']:\n",
        "  path = folder + file + '.dat'\n",
        "  item_feature_mat = get_feature(path= path)\n",
        "  item_feature_mats.append(item_feature_mat)\n",
        "for file in ['user_age', 'user_occupation']:\n",
        "  path = folder + file + '.dat'\n",
        "  user_feature_mat = get_feature(path= path)\n",
        "  user_feature_mats.append(user_feature_mat)"
      ],
      "execution_count": null,
      "outputs": []
    },
    {
      "cell_type": "code",
      "metadata": {
        "colab": {
          "base_uri": "https://localhost:8080/"
        },
        "id": "SLWPp8ImG8RT",
        "outputId": "8281ff15-c49c-4983-8dda-069617f3e4a1"
      },
      "source": [
        "item_feature_mat = np.concatenate(item_feature_mats, axis= 1)\n",
        "user_feature_mat = np.concatenate(user_feature_mats, axis= 1)\n",
        "print(f'item feature mat: {item_feature_mat.shape}')\n",
        "print(f'user feature mat: {user_feature_mat.shape}')\n",
        "n_user = user_feature_mat.shape[0]\n",
        "n_item = item_feature_mat.shape[0]\n",
        "d = n_item + item_feature_mat.shape[1] + n_user + user_feature_mat.shape[1]\n",
        "print(f'd: {d}')"
      ],
      "execution_count": null,
      "outputs": [
        {
          "output_type": "stream",
          "text": [
            "item feature mat: (1682, 18)\n",
            "user feature mat: (943, 29)\n",
            "d: 2672\n"
          ],
          "name": "stdout"
        }
      ]
    },
    {
      "cell_type": "code",
      "metadata": {
        "colab": {
          "base_uri": "https://localhost:8080/"
        },
        "id": "W21jvsF-G8TR",
        "outputId": "3f580fa2-2128-4e41-9c0f-cb4fbb2c1dca"
      },
      "source": [
        "rows = []\n",
        "y= []\n",
        "with open(user_item_path, 'r') as f:\n",
        "  for line in f.readlines():\n",
        "    user_temp = np.zeros(shape= (1, n_user), dtype= float)\n",
        "    item_temp = np.zeros(shape= (1, n_item), dtype= float)\n",
        "    user_id, item_id, rating, _= line.strip().split('\\t')\n",
        "    user_temp[0,int(user_id)-1] = 1\n",
        "    item_temp[0,int(item_id)-1] = 1\n",
        "    # row = np.concatenate([user_temp, item_temp,  np.expand_dims(user_feature_mat[int(user_id)-1], axis= 0), np.expand_dims(item_feature_mat[int(item_id)-1], axis= 0)], axis= 1)\n",
        "    row = np.concatenate([np.expand_dims(user_feature_mat[int(user_id)-1], axis= 0), np.expand_dims(item_feature_mat[int(item_id)-1], axis= 0)], axis= 1)\n",
        "    rows.append(row)\n",
        "    y.append(int(rating))\n",
        "\n",
        "X = np.concatenate(rows, axis= 0)\n",
        "y = np.array(y)\n",
        "print(f'X shape: {X.shape}')\n",
        "print(f'y shape: {y.shape}')\n",
        "print(f'n_rating: {len(set(y))}')\n",
        "print(y)"
      ],
      "execution_count": null,
      "outputs": [
        {
          "output_type": "stream",
          "text": [
            "X shape: (100000, 47)\n",
            "y shape: (100000,)\n",
            "n_rating: 5\n",
            "[3 3 1 ... 1 2 3]\n"
          ],
          "name": "stdout"
        }
      ]
    },
    {
      "cell_type": "code",
      "metadata": {
        "id": "ANhCRlOWG8VH"
      },
      "source": [
        "class XGB_LR():\n",
        "  def __init__(self, x_train, y_train, x_test, y_test, n_estimator, depth, max_iter):\n",
        "    self.x_train = x_train \n",
        "    self.y_train = y_train\n",
        "    self.x_test = x_test \n",
        "    self.y_test = y_test\n",
        "    self.n_estimator = n_estimator\n",
        "    self.depth = depth \n",
        "    self.max_iter = max_iter\n",
        "  \n",
        "  def XGB(self):\n",
        "    xgb = XGBClassifier(n_estimators= self.n_estimator, max_depth= self.depth, n_jobs= -1, objective= 'multi:softmax', num_class= 5, booster= 'gbtree', random_state= 42)\n",
        "    xgb.fit(self.x_train, self.y_train)\n",
        "    \n",
        "    \"\"\"X：{array-like, sparse matrix} of shape (n_samples, n_features)\"\"\"\n",
        "    output = xgb.apply(self.x_train) # Shape: [n_interaction, n_estimator * n_class]\n",
        "    print(output.shape)\n",
        "    # print(output)\n",
        "\n",
        "    \"\"\"One Hot Encoding\"\"\"\n",
        "    encoder = OneHotEncoder().fit(output)\n",
        "    embedding = encoder.transform(output)\n",
        "    # print(embedding.shape)\n",
        "    # print(embedding)\n",
        "    return xgb, encoder, embedding\n",
        "\n",
        "  def LR(self, enc_x, y):\n",
        "    lr = LogisticRegression(max_iter= self.max_iter, n_jobs= -1, random_state= 42)\n",
        "    lr.fit(enc_x, y)\n",
        "    return lr\n",
        "\n",
        "  def train(self):\n",
        "    xgb, encoder, enc_x = self.XGB()\n",
        "    lr = self.LR(enc_x= enc_x, y= self.y_train)\n",
        "    return xgb, encoder, lr \n",
        "\n",
        "  def test(self):\n",
        "    xgb, encoder, lr = self.train()\n",
        "    xgb_output= xgb.apply(X= self.x_test)\n",
        "    embedding = encoder.transform(xgb_output) \n",
        "    pro = lr.predict_proba(embedding)\n",
        "    return pro"
      ],
      "execution_count": null,
      "outputs": []
    },
    {
      "cell_type": "code",
      "metadata": {
        "id": "0Glee3qoG8Wz"
      },
      "source": [
        "kf = KFold(n_splits=5)\n",
        "RMSEs = []\n",
        "n_estimator= 10\n",
        "depth= 5\n",
        "max_iter = 500"
      ],
      "execution_count": null,
      "outputs": []
    },
    {
      "cell_type": "code",
      "metadata": {
        "id": "BEM7FEJEG8Yu",
        "colab": {
          "base_uri": "https://localhost:8080/"
        },
        "outputId": "97db2de0-13e4-4b6a-e6a5-525c4997d215"
      },
      "source": [
        "RMSEs= []\n",
        "for train_indices, test_indices in kf.split(X):\n",
        "  x_train, y_train = X[train_indices], y[train_indices]\n",
        "  x_test, y_test = X[test_indices], y[test_indices]\n",
        "  model = XGB_LR(x_train= x_train, y_train= y_train, x_test=x_test, y_test= y_test, n_estimator=n_estimator, depth=depth, max_iter= max_iter)\n",
        "  test_prob = model.test()\n",
        "  test_rating = np.argmax(test_prob, axis=1)+1\n",
        "  rmse = mean_squared_error(y_test, test_rating, squared=False)\n",
        "  RMSEs.append(rmse)\n",
        "print(f\"avg rmse: {np.mean(RMSEs)}\")"
      ],
      "execution_count": null,
      "outputs": [
        {
          "output_type": "stream",
          "text": [
            "(80000, 50)\n",
            "(80000, 50)\n",
            "(80000, 50)\n",
            "(80000, 50)\n",
            "(80000, 50)\n",
            "avg rmse: 1.2022092414585606\n"
          ],
          "name": "stdout"
        }
      ]
    },
    {
      "cell_type": "code",
      "metadata": {
        "id": "7AaK1ctNG8aL",
        "colab": {
          "base_uri": "https://localhost:8080/"
        },
        "outputId": "19454da8-5cfc-4515-b0ba-1817e97ac914"
      },
      "source": [
        "test_rating[:20]"
      ],
      "execution_count": null,
      "outputs": [
        {
          "output_type": "execute_result",
          "data": {
            "text/plain": [
              "array([4, 4, 4, 4, 4, 5, 3, 4, 4, 4, 4, 4, 4, 3, 4, 3, 3, 3, 4, 4])"
            ]
          },
          "metadata": {
            "tags": []
          },
          "execution_count": 21
        }
      ]
    },
    {
      "cell_type": "code",
      "metadata": {
        "id": "Hvkni4OcG8b8",
        "colab": {
          "base_uri": "https://localhost:8080/"
        },
        "outputId": "466ed2c3-2dfd-46aa-b755-2c225604c8ba"
      },
      "source": [
        "y_test"
      ],
      "execution_count": null,
      "outputs": [
        {
          "output_type": "execute_result",
          "data": {
            "text/plain": [
              "array([4, 1, 1, ..., 1, 2, 3])"
            ]
          },
          "metadata": {
            "tags": []
          },
          "execution_count": 22
        }
      ]
    },
    {
      "cell_type": "code",
      "metadata": {
        "id": "3bX-0P4tG8dw"
      },
      "source": [
        ""
      ],
      "execution_count": null,
      "outputs": []
    },
    {
      "cell_type": "code",
      "metadata": {
        "id": "6dFR2YZ5G8fw"
      },
      "source": [
        ""
      ],
      "execution_count": null,
      "outputs": []
    },
    {
      "cell_type": "code",
      "metadata": {
        "id": "VVnt2TrJG8hS"
      },
      "source": [
        ""
      ],
      "execution_count": null,
      "outputs": []
    }
  ]
}