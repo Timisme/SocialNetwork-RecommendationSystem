{
  "nbformat": 4,
  "nbformat_minor": 0,
  "metadata": {
    "colab": {
      "name": "MF.ipynb",
      "provenance": [],
      "collapsed_sections": []
    },
    "kernelspec": {
      "name": "python3",
      "display_name": "Python 3"
    },
    "language_info": {
      "name": "python"
    },
    "accelerator": "GPU"
  },
  "cells": [
    {
      "cell_type": "code",
      "metadata": {
        "id": "1qJYiCdIY_xe"
      },
      "source": [
        "import numpy as np\n",
        "import torch \n",
        "import torch.nn as nn\n",
        "import pandas as pd\n",
        "from sklearn.metrics import mean_squared_error \n",
        "from sklearn.model_selection import KFold"
      ],
      "execution_count": null,
      "outputs": []
    },
    {
      "cell_type": "code",
      "metadata": {
        "id": "RSbAIckwb7mz"
      },
      "source": [
        "path = '/content/drive/MyDrive/python_data/社群網路與推薦系統/hw3/data/Movielens/user_movie.dat'\n",
        "# path = '/content/drive/MyDrive/python_data/社群網路與推薦系統/hw3/data/Yelp/user_business.dat'\n",
        "# path = '/content/drive/MyDrive/python_data/社群網路與推薦系統/hw3/data/Douban_Book/user_book.dat'\n",
        "device= 'cuda' if torch.cuda.is_available() else 'cpu'"
      ],
      "execution_count": null,
      "outputs": []
    },
    {
      "cell_type": "code",
      "metadata": {
        "id": "wU4GaCTNcA6H"
      },
      "source": [
        "def get_filtered_data(path):\n",
        "\n",
        "  names = ['user_id', 'item_id', 'rating']\n",
        "  df = pd.read_csv(path, sep='\\t', names=names, usecols = [i for i in range(3)])\n",
        "  \n",
        "  '''filtering'''\n",
        "  grouped_df = df.groupby(['user_id'])['item_id'].count()\n",
        "  filtered_user_id = grouped_df[grouped_df>3].index\n",
        "  filtered_df = df.set_index('user_id').loc[filtered_user_id].reset_index()\n",
        "  filtered_data= np.array(filtered_df)\n",
        "\n",
        "  return filtered_data"
      ],
      "execution_count": null,
      "outputs": []
    },
    {
      "cell_type": "code",
      "metadata": {
        "id": "vOzPKaHXcCPq"
      },
      "source": [
        "def get_mask(data):\n",
        "  # data 2d array with [n, 3]\n",
        "  mask = torch.zeros(size= (n_user, n_item), dtype= float, device= device)\n",
        "  for info in data:\n",
        "    mask[info[0]-1, info[1]-1] = 1\n",
        "  return mask"
      ],
      "execution_count": null,
      "outputs": []
    },
    {
      "cell_type": "code",
      "metadata": {
        "id": "IkGZ3UHmcEHW"
      },
      "source": [
        "filtered_data = get_filtered_data(path= path)"
      ],
      "execution_count": null,
      "outputs": []
    },
    {
      "cell_type": "code",
      "metadata": {
        "id": "xrTnhKu6cHZa"
      },
      "source": [
        "global n_user, n_item, y\n",
        "n_user= filtered_data[:,0].max()\n",
        "n_item= filtered_data[:,1].max()"
      ],
      "execution_count": null,
      "outputs": []
    },
    {
      "cell_type": "code",
      "metadata": {
        "colab": {
          "base_uri": "https://localhost:8080/"
        },
        "id": "BTZF20mGcMfw",
        "outputId": "4d5a27b4-50e5-4128-a9f0-3e9c95a463aa"
      },
      "source": [
        "y = torch.zeros(size= (n_user, n_item), dtype= float, device= device) \n",
        "for info in filtered_data:\n",
        "  y[info[0]-1, info[1]-1] = info[2]\n",
        "print(y.size())"
      ],
      "execution_count": null,
      "outputs": [
        {
          "output_type": "stream",
          "text": [
            "torch.Size([943, 1682])\n"
          ],
          "name": "stdout"
        }
      ]
    },
    {
      "cell_type": "code",
      "metadata": {
        "id": "obVYga0IcVJA"
      },
      "source": [
        "class MF(nn.Module):\n",
        "  def __init__(self, n_user, n_item, k, beta):\n",
        "    super(MF, self).__init__()\n",
        "    self.n_user= n_user\n",
        "    self.n_item= n_item\n",
        "    self.beta = beta\n",
        "    \"\"\"parameters | .to(device) creates new tensor so that the params cant be fetched from model.parameters()\"\"\"\n",
        "    # self.p = torch.nn.Parameter(torch.zeros(size= (self.n_user, k), dtype= float, device= device))\n",
        "    # self.q = torch.nn.Parameter(torch.zeros(size= (self.n_item, k), dtype= float, device= device))\n",
        "\n",
        "    self.p = nn.Linear(self.n_user, k, bias= False)\n",
        "    self.q = nn.Linear(k, self.n_item, bias= False)\n",
        "  def forward(self):\n",
        "\n",
        "    # predict = torch.matmul(self.p, self.q.t())\n",
        "    predict= self.q(self.p.weight.t())\n",
        "    return predict\n",
        "\n",
        "  def loss_function(self, predict, y_mask):\n",
        "\n",
        "    mask_boolean = (y_mask > 0)\n",
        "\n",
        "    sse = torch.sum((torch.masked_select(y, mask_boolean) - torch.masked_select(predict, mask_boolean))**2)\n",
        "    p_sum = torch.sum((self.p.weight.t())**2, dim= (0,1))\n",
        "    q_sum = torch.sum((self.q.weight)**2, dim= (0,1))\n",
        "\n",
        "    return 0.5*sse + self.beta * 0.5 * (p_sum + q_sum)\n",
        "  \n",
        "  def RMSE(self, predict, test_mask): \n",
        "    # test_mask: [n_user, n_item] float\n",
        "    # predict: [n_user, n_item] float\n",
        "\n",
        "    test_mask = (test_mask > 0)\n",
        "\n",
        "    return round(mean_squared_error(torch.masked_select(y, test_mask).detach().cpu(), torch.masked_select(predict, test_mask).detach().cpu(), squared= False), 2)"
      ],
      "execution_count": null,
      "outputs": []
    },
    {
      "cell_type": "code",
      "metadata": {
        "id": "JoRM0V1hldBm"
      },
      "source": [
        "k = 15\n",
        "lr = 1e-2\n",
        "beta = 1\n",
        "n_epoch = 5"
      ],
      "execution_count": null,
      "outputs": []
    },
    {
      "cell_type": "code",
      "metadata": {
        "id": "5Y2wdJuKg5FB"
      },
      "source": [
        "model = MF(n_user, n_item, k=k, beta= beta).to(device)\n",
        "optimizer = torch.optim.Adam(model.parameters(), lr= lr)"
      ],
      "execution_count": null,
      "outputs": []
    },
    {
      "cell_type": "code",
      "metadata": {
        "id": "rXkU6C2diSfU"
      },
      "source": [
        "test_kf = KFold(n_splits=5, shuffle= True, random_state=42)\n",
        "val_kf = KFold(n_splits=8, shuffle= True, random_state=42)"
      ],
      "execution_count": null,
      "outputs": []
    },
    {
      "cell_type": "code",
      "metadata": {
        "colab": {
          "base_uri": "https://localhost:8080/"
        },
        "id": "oH8ElvhNj4Cc",
        "outputId": "62cdf85b-5635-43e7-87d8-04d6b375ba57"
      },
      "source": [
        "RMSE= []\n",
        "for rest_indices, test_indices in test_kf.split(filtered_data):\n",
        "  rest_data = filtered_data[rest_indices]\n",
        "  test_data = filtered_data[test_indices]\n",
        "\n",
        "  for train_indices, val_indices in val_kf.split(rest_data):\n",
        "    train_data= rest_data[train_indices]\n",
        "    val_data= rest_data[val_indices]\n",
        "    \n",
        "    train_mask = get_mask(data= train_data)\n",
        "    val_mask = get_mask(data= val_data)\n",
        "\n",
        "    model.train()\n",
        "    optimizer.zero_grad()\n",
        "\n",
        "    predict = model()\n",
        "    loss = model.loss_function(predict= predict, y_mask= train_mask)\n",
        "    loss.backward()\n",
        "    optimizer.step()\n",
        "  \n",
        "  test_mask = get_mask(test_data)\n",
        "  test_boolean= test_mask > 0\n",
        "  rmse = mean_squared_error(torch.masked_select(y.cpu(), test_boolean), torch.masked_select(predict.cpu(), test_boolean).detach().numpy(), squared=False)\n",
        "  RMSE.append(rmse)\n",
        "  # print(rmse)\n",
        "\n",
        "print(np.mean(RMSE))"
      ],
      "execution_count": null,
      "outputs": [
        {
          "output_type": "stream",
          "text": [
            "2.9933823315415786\n"
          ],
          "name": "stdout"
        }
      ]
    },
    {
      "cell_type": "code",
      "metadata": {
        "id": "eJU18EGrmI4u",
        "colab": {
          "base_uri": "https://localhost:8080/"
        },
        "outputId": "c263f17f-c572-4ab5-e7e7-6ccd06c4e2dd"
      },
      "source": [
        "predict"
      ],
      "execution_count": null,
      "outputs": [
        {
          "output_type": "execute_result",
          "data": {
            "text/plain": [
              "tensor([[ 2.2734,  2.5246,  2.6664,  ..., -0.0056,  1.8282,  1.7275],\n",
              "        [ 1.1893,  0.7871,  1.3439,  ...,  0.6575,  0.5843,  0.5233],\n",
              "        [ 0.8211,  0.4290,  0.8311,  ...,  1.0925,  0.2789,  0.2500],\n",
              "        ...,\n",
              "        [ 1.8179,  1.6734,  1.9919,  ...,  0.3887,  1.0818,  1.0033],\n",
              "        [ 1.9414,  1.8837,  2.1415,  ...,  0.3075,  1.2982,  1.2284],\n",
              "        [ 1.9437,  2.2082,  2.4175,  ..., -0.0625,  1.6775,  1.5792]],\n",
              "       device='cuda:0', grad_fn=<MmBackward>)"
            ]
          },
          "metadata": {
            "tags": []
          },
          "execution_count": 13
        }
      ]
    },
    {
      "cell_type": "code",
      "metadata": {
        "id": "lshPQWCNnHEB",
        "colab": {
          "base_uri": "https://localhost:8080/"
        },
        "outputId": "ed5b3c5d-ff37-4947-a149-4d34076114c7"
      },
      "source": [
        "y"
      ],
      "execution_count": null,
      "outputs": [
        {
          "output_type": "execute_result",
          "data": {
            "text/plain": [
              "tensor([[5., 3., 4.,  ..., 0., 0., 0.],\n",
              "        [4., 0., 0.,  ..., 0., 0., 0.],\n",
              "        [0., 0., 0.,  ..., 0., 0., 0.],\n",
              "        ...,\n",
              "        [5., 0., 0.,  ..., 0., 0., 0.],\n",
              "        [0., 0., 0.,  ..., 0., 0., 0.],\n",
              "        [0., 5., 0.,  ..., 0., 0., 0.]], device='cuda:0', dtype=torch.float64)"
            ]
          },
          "metadata": {
            "tags": []
          },
          "execution_count": 14
        }
      ]
    },
    {
      "cell_type": "code",
      "metadata": {
        "id": "q0-VQHJhFaZq"
      },
      "source": [
        ""
      ],
      "execution_count": null,
      "outputs": []
    }
  ]
}