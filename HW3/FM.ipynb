{
  "nbformat": 4,
  "nbformat_minor": 0,
  "metadata": {
    "colab": {
      "name": "FM_HW3.ipynb",
      "provenance": [],
      "collapsed_sections": []
    },
    "kernelspec": {
      "name": "python3",
      "display_name": "Python 3"
    },
    "language_info": {
      "name": "python"
    },
    "accelerator": "GPU"
  },
  "cells": [
    {
      "cell_type": "code",
      "metadata": {
        "id": "IMQ4r8R8ukVm"
      },
      "source": [
        "import numpy as np\n",
        "import torch \n",
        "import torch.nn as nn\n",
        "import pandas as pd\n",
        "from sklearn.metrics import mean_squared_error \n",
        "from sklearn.model_selection import KFold "
      ],
      "execution_count": 1,
      "outputs": []
    },
    {
      "cell_type": "code",
      "metadata": {
        "id": "ysDgukzDKEMm"
      },
      "source": [
        "user_item_path = '/content/drive/MyDrive/python_data/社群網路與推薦系統/hw3/data/Movielens/user_movie.dat'"
      ],
      "execution_count": 2,
      "outputs": []
    },
    {
      "cell_type": "code",
      "metadata": {
        "id": "DDcUUgaiRGks"
      },
      "source": [
        "device = 'cuda' if torch.cuda.is_available() else 'cpu'"
      ],
      "execution_count": 3,
      "outputs": []
    },
    {
      "cell_type": "markdown",
      "metadata": {
        "id": "eFQS1L0tQi9s"
      },
      "source": [
        "# Preprocessing"
      ]
    },
    {
      "cell_type": "markdown",
      "metadata": {
        "id": "X06Er07dNuLO"
      },
      "source": [
        "## Feature Vector\n",
        "[計算](https://i.imgur.com/YEEtiSU.png)\n",
        "[模型](https://i.imgur.com/C1YiB6Y.png)\n",
        "\n",
        "* 注意filtering"
      ]
    },
    {
      "cell_type": "code",
      "metadata": {
        "id": "qDiRKXhFTRv_"
      },
      "source": [
        "# with open('/content/drive/MyDrive/python_data/社群網路與推薦系統/hw3/data/Movielens/user_movie.dat', 'r') as f:\n",
        "#   for line in f.readlines():\n",
        "#     print(line)"
      ],
      "execution_count": 4,
      "outputs": []
    },
    {
      "cell_type": "code",
      "metadata": {
        "id": "Ysa19LyzN9FF"
      },
      "source": [
        "def get_feature(path):\n",
        "  names = ['id', 'feature_id']\n",
        "  df = pd.read_csv(path, sep= '\\t', names= names)\n",
        "  n = int(df['id'].max())\n",
        "  # print(f'n: {n}')\n",
        "  n_feature = int(df['feature_id'].max())\n",
        "  # print(n_feature)\n",
        "  feature_mat = torch.zeros(size= (n, n_feature), dtype= float, device= device)\n",
        "  for i, row in df.iterrows():\n",
        "    feature_mat[int(row['id'])-1, int(row['feature_id'])-1] = 1 \n",
        "  return feature_mat"
      ],
      "execution_count": 5,
      "outputs": []
    },
    {
      "cell_type": "code",
      "metadata": {
        "id": "uiV6BorFNv8W"
      },
      "source": [
        "item_feature_mats = []\n",
        "user_feature_mats = []\n",
        "folder = '/content/drive/MyDrive/python_data/社群網路與推薦系統/hw3/data/Movielens/'\n",
        "for file in ['movie_genre', 'movie_movie(knn)']:\n",
        "  path = folder + file + '.dat'\n",
        "  item_feature_mat = get_feature(path= path)\n",
        "  item_feature_mats.append(item_feature_mat)\n",
        "for file in ['user_age', 'user_occupation']:\n",
        "  path = folder + file + '.dat'\n",
        "  user_feature_mat = get_feature(path= path)\n",
        "  user_feature_mats.append(user_feature_mat)"
      ],
      "execution_count": 6,
      "outputs": []
    },
    {
      "cell_type": "code",
      "metadata": {
        "id": "ICrHt1uYOCZ4",
        "colab": {
          "base_uri": "https://localhost:8080/"
        },
        "outputId": "62967aa5-f783-4186-c663-1b8f58c09384"
      },
      "source": [
        "item_feature_mat = torch.cat(item_feature_mats, dim= 1)\n",
        "user_feature_mat = torch.cat(user_feature_mats, dim= 1)\n",
        "print(f'item feature mat: {item_feature_mat.shape}')\n",
        "print(f'user feature mat: {user_feature_mat.shape}')\n",
        "n_user = user_feature_mat.shape[0]\n",
        "n_item = item_feature_mat.shape[0]\n",
        "d = n_item + item_feature_mat.shape[1] + n_user + user_feature_mat.shape[1]\n",
        "print(f'd: {d}')"
      ],
      "execution_count": 7,
      "outputs": [
        {
          "output_type": "stream",
          "text": [
            "item feature mat: torch.Size([1682, 19])\n",
            "user feature mat: torch.Size([943, 29])\n",
            "d: 2673\n"
          ],
          "name": "stdout"
        }
      ]
    },
    {
      "cell_type": "markdown",
      "metadata": {
        "id": "0j0--B4E8FLT"
      },
      "source": [
        "## 建立X"
      ]
    },
    {
      "cell_type": "code",
      "metadata": {
        "id": "NMSSyShv8IXU"
      },
      "source": [
        "rows = []\n",
        "y= []\n",
        "with open(user_item_path, 'r') as f:\n",
        "  for line in f.readlines():\n",
        "    user_temp = torch.zeros(size= (1, n_user), dtype= float, device= device)\n",
        "    item_temp = torch.zeros(size= (1, n_item), dtype= float, device= device)\n",
        "    user_id, item_id, rating, _= line.strip().split('\\t')\n",
        "    user_temp[0,int(user_id)-1] = 1\n",
        "    item_temp[0,int(item_id)-1] = 1\n",
        "    row = torch.cat([user_temp, item_temp, user_feature_mat[int(user_id)-1].unsqueeze(dim= 0), item_feature_mat[int(item_id)-1].unsqueeze(dim= 0)], dim= 1)\n",
        "    rows.append(row)\n",
        "    y.append(int(rating))\n",
        "\n",
        "X = torch.cat(rows, dim= 0)\n",
        "y= torch.tensor(y, dtype=float) # tensor"
      ],
      "execution_count": 8,
      "outputs": []
    },
    {
      "cell_type": "code",
      "metadata": {
        "colab": {
          "base_uri": "https://localhost:8080/"
        },
        "id": "hYJBWt9aUcfN",
        "outputId": "6aeee98b-9b42-4fe7-851f-2952f9368991"
      },
      "source": [
        "print(f'X size: {X.size()}')"
      ],
      "execution_count": 9,
      "outputs": [
        {
          "output_type": "stream",
          "text": [
            "X size: torch.Size([100000, 2673])\n"
          ],
          "name": "stdout"
        }
      ]
    },
    {
      "cell_type": "markdown",
      "metadata": {
        "id": "T7VkSvHiKimE"
      },
      "source": [
        "## User item Matrix"
      ]
    },
    {
      "cell_type": "code",
      "metadata": {
        "id": "UIlZasiYKivb"
      },
      "source": [
        "class user_item_matrix():\n",
        "  def __init__(self, path):\n",
        "    names = ['user_id', 'item_id', 'rating']\n",
        "    df = pd.read_csv(path, sep='\\t', names=names)\n",
        "    \n",
        "    '''filtering'''\n",
        "    grouped_df = df.groupby(['user_id'])['item_id'].count()\n",
        "    filtered_user_id = grouped_df[grouped_df>3].index\n",
        "    filtered_df = df.set_index('user_id').loc[filtered_user_id].reset_index()\n",
        "    \n",
        "    '''user_id to index_id'''\n",
        "    self.user_dict = dict()\n",
        "    for i, user_id in enumerate(filtered_user_id):\n",
        "        self.user_dict[user_id] = i \n",
        "    \n",
        "    self.n_user= filtered_df['user_id'].unique().shape[0]\n",
        "    self.n_item = filtered_df['item_id'].unique().shape[0]\n",
        "    self.data= [[self.user_dict[info[0]], info[1], info[2]] for info in np.array(filtered_df)]\n",
        "    self.device = 'cuda' if torch.cuda.is_available() else 'cpu'\n",
        "\n",
        "  def k_fold_data_split(self):\n",
        "    \n",
        "    np.random.shuffle(self.data)\n",
        "    train_data = self.data[:int(0.7*len(self.data))]\n",
        "    val_data = self.data[int(0.7*len(self.data)):int(0.8*len(self.data))]\n",
        "    test_data = self.data[int(0.8*len(self.data)):]\n",
        "    return train_data, val_data, test_data\n",
        "\n",
        "  def get_user_item_matrix(self):\n",
        "    \n",
        "    train_data, val_data, test_data= self.k_fold_data_split()\n",
        "    matrix = torch.zeros((self.n_user, self.n_item), dtype= float, device= self.device)\n",
        "    test_matrix = torch.zeros((self.n_user, self.n_item), dtype= float, device= self.device)\n",
        "    # mask_matrix = torch.zeros((self.n_user, self.n_item), dtype= float).to(self.device)\n",
        "    for info in train_data:\n",
        "      matrix[info[0], info[1]-1] = info[2]\n",
        "    for info in test_data:\n",
        "      test_matrix[info[0], info[1]-1] = info[2]\n",
        "    return matrix, test_matrix"
      ],
      "execution_count": 10,
      "outputs": []
    },
    {
      "cell_type": "markdown",
      "metadata": {
        "id": "qM22hk62KGeg"
      },
      "source": [
        "# Factorization Machine \n",
        "\n",
        "* Generalization表現應較好\n",
        "\n",
        "[Discussion](https://i.imgur.com/igROGcx.png)"
      ]
    },
    {
      "cell_type": "code",
      "metadata": {
        "id": "HOWJlkWZKIwB"
      },
      "source": [
        "class FM(nn.Module):\n",
        "  def __init__(self, d, k):\n",
        "    super(FM, self).__init__()\n",
        "    \"\"\"\n",
        "    d: n_features\n",
        "    k: n_latent features \n",
        "    \"\"\"\n",
        "    \"\"\"params\"\"\"\n",
        "    self.w0 = nn.Parameter(torch.zeros(size= (1,1), dtype= float, device= device))\n",
        "    self.w = nn.Parameter(torch.zeros(size= (d, 1), dtype= float, device= device))\n",
        "    self.v = nn.Parameter(torch.randn(size= (d, k), dtype= float, device= device))\n",
        "    # self.params = nn.ParameterList([self.w0, self.w, self.v])\n",
        "\n",
        "  def forward(self, X):\n",
        "    '''X: [n, d]'''\n",
        "    square_of_sum = (torch.matmul(X, self.v))**2  # [n, k]\n",
        "    sum_of_square = torch.matmul(X**2, self.v**2) # [n, k]\n",
        "    y = self.w0 + torch.matmul(X, self.w) + 0.5*(torch.sum((square_of_sum-sum_of_square), dim= 1).unsqueeze(dim= 1))\n",
        "    return y \n"
      ],
      "execution_count": 11,
      "outputs": []
    },
    {
      "cell_type": "code",
      "metadata": {
        "id": "mWfeOYy1CjqL"
      },
      "source": [
        "model = FM(d= d, k= 3)"
      ],
      "execution_count": 12,
      "outputs": []
    },
    {
      "cell_type": "code",
      "metadata": {
        "id": "-HK1eaDwC2QT"
      },
      "source": [
        "# model(X= X)"
      ],
      "execution_count": 13,
      "outputs": []
    },
    {
      "cell_type": "markdown",
      "metadata": {
        "id": "nWgbobhHHcAp"
      },
      "source": [
        "# Data Preparision & Training\n",
        "* 5 fold cross validation "
      ]
    },
    {
      "cell_type": "code",
      "metadata": {
        "id": "qQbIHz94GfSl"
      },
      "source": [
        "kf = KFold(n_splits=5)\n",
        "RMSEs = []"
      ],
      "execution_count": 14,
      "outputs": []
    },
    {
      "cell_type": "code",
      "metadata": {
        "id": "xeKcx5ELXunn"
      },
      "source": [
        "lr = 5e-2\n",
        "n_epoch = 150\n",
        "optimizer = torch.optim.SGD(model.parameters(), lr= lr)\n",
        "criterion = nn.MSELoss()"
      ],
      "execution_count": 15,
      "outputs": []
    },
    {
      "cell_type": "code",
      "metadata": {
        "colab": {
          "base_uri": "https://localhost:8080/"
        },
        "id": "KjaJYeIfJyQI",
        "outputId": "1e3648be-f4ff-44d1-d334-cbce407b974f"
      },
      "source": [
        "for epoch in range(n_epoch):\n",
        "  for train_indice, test_indice in kf.split(X):\n",
        "    a = train_indice\n",
        "    train_X, test_X = X[train_indice], X[test_indice]\n",
        "    '''training process'''\n",
        "    model.train()\n",
        "    optimizer.zero_grad()\n",
        "    output = model(X= train_X)\n",
        "    loss = criterion(output.squeeze(dim= 1).cpu(), y[train_indice])\n",
        "    loss.backward()\n",
        "    optimizer.step()\n",
        "    rmse = mean_squared_error(output.squeeze(dim= 1).detach().cpu(), y[train_indice], squared= False)\n",
        "    # print(f'training rmse: {round(rmse,2)}')\n",
        "\n",
        "    '''testing process'''\n",
        "    model.eval()\n",
        "    with torch.no_grad():\n",
        "      output = model(X= test_X)\n",
        "      rmse = mean_squared_error(output.squeeze(dim= 1).cpu(), y[test_indice], squared= False)\n",
        "      # print(f'test rmse: {round(rmse, 2)}')\n",
        "      RMSEs.append(rmse)  \n",
        "\n",
        "  if ((epoch+1)% 10) == 0:\n",
        "    print(f'epoch: {epoch+1}')\n",
        "    print(f'avg RMSEs: {round(np.mean(RMSEs), 2)}')"
      ],
      "execution_count": 16,
      "outputs": [
        {
          "output_type": "stream",
          "text": [
            "epoch: 10\n",
            "avg RMSEs: 3.15\n",
            "epoch: 20\n",
            "avg RMSEs: 2.7\n",
            "epoch: 30\n",
            "avg RMSEs: 2.48\n",
            "epoch: 40\n",
            "avg RMSEs: 2.36\n",
            "epoch: 50\n",
            "avg RMSEs: 2.27\n",
            "epoch: 60\n",
            "avg RMSEs: 2.21\n",
            "epoch: 70\n",
            "avg RMSEs: 2.16\n",
            "epoch: 80\n",
            "avg RMSEs: 2.11\n",
            "epoch: 90\n",
            "avg RMSEs: 2.08\n",
            "epoch: 100\n",
            "avg RMSEs: 2.05\n",
            "epoch: 110\n",
            "avg RMSEs: 2.02\n",
            "epoch: 120\n",
            "avg RMSEs: 2.0\n",
            "epoch: 130\n",
            "avg RMSEs: 1.98\n",
            "epoch: 140\n",
            "avg RMSEs: 1.96\n",
            "epoch: 150\n",
            "avg RMSEs: 1.94\n"
          ],
          "name": "stdout"
        }
      ]
    },
    {
      "cell_type": "code",
      "metadata": {
        "colab": {
          "base_uri": "https://localhost:8080/"
        },
        "id": "jmC2PauDYoMf",
        "outputId": "7185d4a6-efb3-4484-e0d6-62c069168274"
      },
      "source": [
        "model(X= test_X)"
      ],
      "execution_count": 17,
      "outputs": [
        {
          "output_type": "execute_result",
          "data": {
            "text/plain": [
              "tensor([[4.3780],\n",
              "        [2.0370],\n",
              "        [2.1454],\n",
              "        ...,\n",
              "        [2.6915],\n",
              "        [2.9283],\n",
              "        [4.3591]], device='cuda:0', dtype=torch.float64,\n",
              "       grad_fn=<AddBackward0>)"
            ]
          },
          "metadata": {
            "tags": []
          },
          "execution_count": 17
        }
      ]
    },
    {
      "cell_type": "code",
      "metadata": {
        "colab": {
          "base_uri": "https://localhost:8080/"
        },
        "id": "GkLAfoJJcBvV",
        "outputId": "f954e0af-35a8-49dd-98e9-85ec3fbddff0"
      },
      "source": [
        "y[test_indice]"
      ],
      "execution_count": 18,
      "outputs": [
        {
          "output_type": "execute_result",
          "data": {
            "text/plain": [
              "tensor([4., 1., 1.,  ..., 1., 2., 3.], dtype=torch.float64)"
            ]
          },
          "metadata": {
            "tags": []
          },
          "execution_count": 18
        }
      ]
    },
    {
      "cell_type": "code",
      "metadata": {
        "id": "6Tk_aO7KcHQ8"
      },
      "source": [
        ""
      ],
      "execution_count": 18,
      "outputs": []
    }
  ]
}