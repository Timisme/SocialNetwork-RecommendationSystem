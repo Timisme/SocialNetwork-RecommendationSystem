{
  "nbformat": 4,
  "nbformat_minor": 0,
  "metadata": {
    "accelerator": "GPU",
    "colab": {
      "name": "LinkPrediction_HW2.ipynb",
      "provenance": [],
      "collapsed_sections": [],
      "toc_visible": true
    },
    "kernelspec": {
      "display_name": "Python 3",
      "name": "python3"
    },
    "language_info": {
      "name": "python"
    }
  },
  "cells": [
    {
      "cell_type": "code",
      "metadata": {
        "id": "EkNTb4iP_noe",
        "colab": {
          "base_uri": "https://localhost:8080/"
        },
        "outputId": "9a33ff4f-7f05-4c53-c1d4-877e57a9ebad"
      },
      "source": [
        "import torch\n",
        "print(torch.__version__)\n",
        "if torch.__version__.split('+')[0] == '1.8.1':\n",
        "  version = '1.8.0'\n",
        "else:\n",
        "  version = torch.__version__.split('+')[0]\n",
        "print(version)"
      ],
      "execution_count": 1,
      "outputs": [
        {
          "output_type": "stream",
          "text": [
            "1.8.1+cu101\n",
            "1.8.0\n"
          ],
          "name": "stdout"
        }
      ]
    },
    {
      "cell_type": "code",
      "metadata": {
        "colab": {
          "base_uri": "https://localhost:8080/"
        },
        "id": "4a-vdq4L1gzJ",
        "outputId": "e706ba95-85ec-4a44-ea11-d83a34514e26"
      },
      "source": [
        "!pip install torch-scatter -f https://pytorch-geometric.com/whl/torch-{version}+cu101.html\n",
        "!pip install torch-sparse -f https://pytorch-geometric.com/whl/torch-{version}+cu101.html\n",
        "!pip install torch-cluster -f https://pytorch-geometric.com/whl/torch-{version}+cu101.html\n",
        "!pip install torch-spline-conv -f https://pytorch-geometric.com/whl/torch-{version}+cu101.html\n",
        "!pip install torch-geometric"
      ],
      "execution_count": 2,
      "outputs": [
        {
          "output_type": "stream",
          "text": [
            "Looking in links: https://pytorch-geometric.com/whl/torch-1.8.0+cu101.html\n",
            "Requirement already satisfied: torch-scatter in /usr/local/lib/python3.7/dist-packages (2.0.6)\n",
            "Looking in links: https://pytorch-geometric.com/whl/torch-1.8.0+cu101.html\n",
            "Requirement already satisfied: torch-sparse in /usr/local/lib/python3.7/dist-packages (0.6.9)\n",
            "Requirement already satisfied: scipy in /usr/local/lib/python3.7/dist-packages (from torch-sparse) (1.4.1)\n",
            "Requirement already satisfied: numpy>=1.13.3 in /usr/local/lib/python3.7/dist-packages (from scipy->torch-sparse) (1.19.5)\n",
            "Looking in links: https://pytorch-geometric.com/whl/torch-1.8.0+cu101.html\n",
            "Requirement already satisfied: torch-cluster in /usr/local/lib/python3.7/dist-packages (1.5.9)\n",
            "Looking in links: https://pytorch-geometric.com/whl/torch-1.8.0+cu101.html\n",
            "Requirement already satisfied: torch-spline-conv in /usr/local/lib/python3.7/dist-packages (1.2.1)\n",
            "Requirement already satisfied: torch-geometric in /usr/local/lib/python3.7/dist-packages (1.6.3)\n",
            "Requirement already satisfied: networkx in /usr/local/lib/python3.7/dist-packages (from torch-geometric) (2.5)\n",
            "Requirement already satisfied: googledrivedownloader in /usr/local/lib/python3.7/dist-packages (from torch-geometric) (0.4)\n",
            "Requirement already satisfied: numpy in /usr/local/lib/python3.7/dist-packages (from torch-geometric) (1.19.5)\n",
            "Requirement already satisfied: tqdm in /usr/local/lib/python3.7/dist-packages (from torch-geometric) (4.41.1)\n",
            "Requirement already satisfied: ase in /usr/local/lib/python3.7/dist-packages (from torch-geometric) (3.21.1)\n",
            "Requirement already satisfied: jinja2 in /usr/local/lib/python3.7/dist-packages (from torch-geometric) (2.11.3)\n",
            "Requirement already satisfied: h5py in /usr/local/lib/python3.7/dist-packages (from torch-geometric) (2.10.0)\n",
            "Requirement already satisfied: requests in /usr/local/lib/python3.7/dist-packages (from torch-geometric) (2.23.0)\n",
            "Requirement already satisfied: pandas in /usr/local/lib/python3.7/dist-packages (from torch-geometric) (1.1.5)\n",
            "Requirement already satisfied: rdflib in /usr/local/lib/python3.7/dist-packages (from torch-geometric) (5.0.0)\n",
            "Requirement already satisfied: torch in /usr/local/lib/python3.7/dist-packages (from torch-geometric) (1.8.1+cu101)\n",
            "Requirement already satisfied: scikit-learn in /usr/local/lib/python3.7/dist-packages (from torch-geometric) (0.22.2.post1)\n",
            "Requirement already satisfied: numba in /usr/local/lib/python3.7/dist-packages (from torch-geometric) (0.51.2)\n",
            "Requirement already satisfied: python-louvain in /usr/local/lib/python3.7/dist-packages (from torch-geometric) (0.15)\n",
            "Requirement already satisfied: scipy in /usr/local/lib/python3.7/dist-packages (from torch-geometric) (1.4.1)\n",
            "Requirement already satisfied: decorator>=4.3.0 in /usr/local/lib/python3.7/dist-packages (from networkx->torch-geometric) (4.4.2)\n",
            "Requirement already satisfied: matplotlib>=2.0.0 in /usr/local/lib/python3.7/dist-packages (from ase->torch-geometric) (3.2.2)\n",
            "Requirement already satisfied: MarkupSafe>=0.23 in /usr/local/lib/python3.7/dist-packages (from jinja2->torch-geometric) (1.1.1)\n",
            "Requirement already satisfied: six in /usr/local/lib/python3.7/dist-packages (from h5py->torch-geometric) (1.15.0)\n",
            "Requirement already satisfied: certifi>=2017.4.17 in /usr/local/lib/python3.7/dist-packages (from requests->torch-geometric) (2020.12.5)\n",
            "Requirement already satisfied: chardet<4,>=3.0.2 in /usr/local/lib/python3.7/dist-packages (from requests->torch-geometric) (3.0.4)\n",
            "Requirement already satisfied: idna<3,>=2.5 in /usr/local/lib/python3.7/dist-packages (from requests->torch-geometric) (2.10)\n",
            "Requirement already satisfied: urllib3!=1.25.0,!=1.25.1,<1.26,>=1.21.1 in /usr/local/lib/python3.7/dist-packages (from requests->torch-geometric) (1.24.3)\n",
            "Requirement already satisfied: python-dateutil>=2.7.3 in /usr/local/lib/python3.7/dist-packages (from pandas->torch-geometric) (2.8.1)\n",
            "Requirement already satisfied: pytz>=2017.2 in /usr/local/lib/python3.7/dist-packages (from pandas->torch-geometric) (2018.9)\n",
            "Requirement already satisfied: pyparsing in /usr/local/lib/python3.7/dist-packages (from rdflib->torch-geometric) (2.4.7)\n",
            "Requirement already satisfied: isodate in /usr/local/lib/python3.7/dist-packages (from rdflib->torch-geometric) (0.6.0)\n",
            "Requirement already satisfied: typing-extensions in /usr/local/lib/python3.7/dist-packages (from torch->torch-geometric) (3.7.4.3)\n",
            "Requirement already satisfied: joblib>=0.11 in /usr/local/lib/python3.7/dist-packages (from scikit-learn->torch-geometric) (1.0.1)\n",
            "Requirement already satisfied: setuptools in /usr/local/lib/python3.7/dist-packages (from numba->torch-geometric) (54.2.0)\n",
            "Requirement already satisfied: llvmlite<0.35,>=0.34.0.dev0 in /usr/local/lib/python3.7/dist-packages (from numba->torch-geometric) (0.34.0)\n",
            "Requirement already satisfied: kiwisolver>=1.0.1 in /usr/local/lib/python3.7/dist-packages (from matplotlib>=2.0.0->ase->torch-geometric) (1.3.1)\n",
            "Requirement already satisfied: cycler>=0.10 in /usr/local/lib/python3.7/dist-packages (from matplotlib>=2.0.0->ase->torch-geometric) (0.10.0)\n"
          ],
          "name": "stdout"
        }
      ]
    },
    {
      "cell_type": "code",
      "metadata": {
        "id": "wzSAOM2x1j5G"
      },
      "source": [
        "from torch_geometric.data import Data, DataLoader\n",
        "from torch_geometric.utils import degree\n",
        "import warnings\n",
        "warnings.filterwarnings(\"ignore\")\n",
        "import csv\n",
        "import pandas as pd \n",
        "import copy\n",
        "import matplotlib.pyplot as plt"
      ],
      "execution_count": 3,
      "outputs": []
    },
    {
      "cell_type": "markdown",
      "metadata": {
        "id": "_t6baLVS1u5G"
      },
      "source": [
        "# Read Data"
      ]
    },
    {
      "cell_type": "code",
      "metadata": {
        "id": "UFQj4pnL2fwX"
      },
      "source": [
        "def data_generator(folder = 'dataset1'):\n",
        "  \n",
        "  train_df = pd.read_csv(f'/content/drive/MyDrive/python_data/社群網路與推薦系統/hw2/{folder}/train.csv')\n",
        "  test_df = pd.read_csv(f'/content/drive/MyDrive/python_data/社群網路與推薦系統/hw2/{folder}/test.csv')\n",
        "  content_df = pd.read_csv(f'/content/drive/MyDrive/python_data/社群網路與推薦系統/hw2/{folder}/content.csv', delimiter='\\t', header= None, index_col=[0])\n",
        "\n",
        "  self_train_df = train_df[train_df['to']==train_df['from']]\n",
        "  print(len(self_train_df))\n",
        "  train_df = train_df[train_df['to']!=train_df['from']]\n",
        "\n",
        "  self_test_df = test_df[test_df['to']==test_df['from']]\n",
        "  original_test_df = copy.deepcopy(test_df)\n",
        "  test_df = test_df[test_df['to']!=test_df['from']]\n",
        "\n",
        "  pos_train_df = train_df[train_df['label']== 1]\n",
        "  neg_train_df = train_df[train_df['label']== 0]\n",
        "  print(f'pos len: {len(pos_train_df)}, neg len: {len(neg_train_df)}')\n",
        "  train_pos_edge_index= torch.tensor(pos_train_df[['from', 'to']].to_numpy().transpose(), dtype= torch.long)\n",
        "  train_neg_edge_index= torch.tensor(neg_train_df[['from', 'to']].to_numpy().transpose(), dtype= torch.long)\n",
        "  # print(train_pos_edge_index.shape)\n",
        "  # print(train_neg_edge_index.shape)\n",
        "  x_feature = content_df.sort_index(ascending=True).to_numpy()\n",
        "  print(x_feature.shape)\n",
        "\n",
        "  data = Data(x= x_feature, edge_index=train_pos_edge_index)\n",
        "  data.num_nodes = x_feature.shape[0]\n",
        "  print(data.num_nodes)\n",
        "\n",
        "  test_edge_index = torch.tensor(test_df[['from', 'to']].to_numpy().transpose(), dtype= torch.long)\n",
        "\n",
        "  data.train_pos_edge_index = train_pos_edge_index\n",
        "  ata.train_neg_edge_index = train_neg_edge_index\n",
        "  data.test_edge_index = test_edge_index\n",
        "\n",
        "  return data\n"
      ],
      "execution_count": 4,
      "outputs": []
    },
    {
      "cell_type": "code",
      "metadata": {
        "id": "j-318wRA6tfQ"
      },
      "source": [
        "import math\n",
        "import random\n",
        "import os.path as osp\n",
        "from itertools import chain\n",
        "import csv\n",
        "random.seed(42)\n",
        "torch.manual_seed(42)\n",
        "\n",
        "import numpy as np\n",
        "from sklearn.metrics import roc_auc_score\n",
        "from scipy.sparse.csgraph import shortest_path\n",
        "import torch\n",
        "import torch.nn.functional as F\n",
        "from torch.nn import BCEWithLogitsLoss\n",
        "from torch.nn import ModuleList, Linear, Conv1d, MaxPool1d\n",
        "\n",
        "from torch_geometric.nn import GCNConv, global_sort_pool\n",
        "from torch_geometric.data import Data, InMemoryDataset, DataLoader\n",
        "from torch_geometric.utils import negative_sampling, add_self_loops, train_test_split_edges, k_hop_subgraph, to_scipy_sparse_matrix"
      ],
      "execution_count": 5,
      "outputs": []
    },
    {
      "cell_type": "markdown",
      "metadata": {
        "id": "_ZGT_U-G6-l1"
      },
      "source": [
        "# Dataset\n",
        "* train_test_split_edges: Splits the edges of a torch_geometric.data.Data object into positive and negative train/val/test edges, and adds attributes of train_pos_edge_index, train_neg_adj_mask, val_pos_edge_index, val_neg_edge_index, test_pos_edge_index, and test_neg_edge_index to data.\n",
        "* negative sampling: Samples random negative edges of a graph given by edge_index.\n",
        "* k_hop_subgraph: Computes the 𝑘-hop subgraph of edge_index around node node_idx. It returns (1) the nodes involved in the subgraph, (2) the filtered edge_index connectivity, (3) the mapping from node indices in node_idx to their new location, and (4) the edge mask indicating which edges were preserved."
      ]
    },
    {
      "cell_type": "markdown",
      "metadata": {
        "id": "RAAAxBv58b6Q"
      },
      "source": [
        "## Train Test Dataset"
      ]
    },
    {
      "cell_type": "code",
      "metadata": {
        "id": "2slke4pp7AJn"
      },
      "source": [
        "# Paper: Link Prediction Based on Graph Neural Networks (NeurIPS 2018)\n",
        "\n",
        "class SEALDataset(InMemoryDataset):\n",
        "  def __init__(self, data, num_hops, split='train', device= 'cpu', attr= False):\n",
        "    self.data = data\n",
        "    self.num_hops = num_hops\n",
        "    self.device= device\n",
        "    self.split= split\n",
        "    self.test_dataset = None \n",
        "    self.attr = attr\n",
        "    super(SEALDataset, self).__init__('../')\n",
        "    index = ['train', 'test'].index(split)\n",
        "    self.data, self.slices = torch.load(self.processed_paths[index])\n",
        "\n",
        "  @property\n",
        "  def processed_file_names(self):\n",
        "    return ['SEAL_train_data.pt', 'SEAL_test_data.pt']\n",
        "\n",
        "  def process(self):\n",
        "    random.seed(12345)\n",
        "    torch.manual_seed(12345)\n",
        "    \n",
        "    self.__max_z__ = 0\n",
        "\n",
        "    train_pos_list = self.extract_enclosing_subgraphs(\n",
        "        self.data.train_pos_edge_index, self.data['edge_index'], 1)\n",
        "    train_neg_list = self.extract_enclosing_subgraphs(\n",
        "        self.data.train_neg_edge_index, self.data['edge_index'], 0)\n",
        "    \n",
        "    if self.attr:\n",
        "      for data in chain(train_pos_list, train_neg_list):\n",
        "        data.x = torch.cat([torch.tensor(data.x).to(self.device), F.one_hot(data.z, self.__max_z__ + 1).to(torch.float).to(self.device)], axis= 1)\n",
        "    else:\n",
        "      for data in chain(train_pos_list, train_neg_list):\n",
        "        data.x = F.one_hot(data.z, self.__max_z__ + 1).to(torch.float).to(self.device)\n",
        "\n",
        "    torch.save(self.collate(train_pos_list + train_neg_list), self.processed_paths[0])\n",
        "\n",
        "    return None\n",
        "\n",
        "  def extract_enclosing_subgraphs(self, link_index, edge_index, y):\n",
        "    data_list = []\n",
        "    for src, dst in link_index.t().tolist():\n",
        "      sub_nodes, sub_edge_index, mapping, _ = k_hop_subgraph(\n",
        "          [src, dst], self.num_hops, edge_index, relabel_nodes=True)\n",
        "      src, dst = mapping.tolist() # the mapping from node indices in node_idx to their new location\n",
        "\n",
        "      # Remove target link from the subgraph.\n",
        "      mask1 = (sub_edge_index[0] != src) | (sub_edge_index[1] != dst)\n",
        "      mask2 = (sub_edge_index[0] != dst) | (sub_edge_index[1] != src)\n",
        "      sub_edge_index = sub_edge_index[:, mask1 & mask2]\n",
        "\n",
        "      # Calculate node labeling.\n",
        "      z = self.drnl_node_labeling(sub_edge_index, src, dst, num_nodes=sub_nodes.size(0))\n",
        "\n",
        "      data = Data(x=self.data.x[sub_nodes], z=z, edge_index=sub_edge_index, y=y)\n",
        "      data_list.append(data)\n",
        "\n",
        "    return data_list\n",
        "\n",
        "  def drnl_node_labeling(self, edge_index, src, dst, num_nodes=None):\n",
        "    # Double-radius node labeling (DRNL).\n",
        "    src, dst = (dst, src) if src > dst else (src, dst)\n",
        "    adj = to_scipy_sparse_matrix(edge_index, num_nodes=num_nodes).tocsr()\n",
        "\n",
        "    idx = list(range(src)) + list(range(src + 1, adj.shape[0]))\n",
        "    adj_wo_src = adj[idx, :][:, idx]\n",
        "\n",
        "    idx = list(range(dst)) + list(range(dst + 1, adj.shape[0]))\n",
        "    adj_wo_dst = adj[idx, :][:, idx]\n",
        "\n",
        "    dist2src = shortest_path(adj_wo_dst, directed=False, unweighted=True,\n",
        "                              indices=src)\n",
        "    dist2src = np.insert(dist2src, dst, 0, axis=0)\n",
        "    dist2src = torch.from_numpy(dist2src)\n",
        "\n",
        "    dist2dst = shortest_path(adj_wo_src, directed=False, unweighted=True,\n",
        "                              indices=dst - 1)\n",
        "    dist2dst = np.insert(dist2dst, src, 0, axis=0)\n",
        "    dist2dst = torch.from_numpy(dist2dst)\n",
        "\n",
        "    dist = dist2src + dist2dst\n",
        "    dist_over_2, dist_mod_2 = dist // 2, dist % 2\n",
        "\n",
        "    z = 1 + torch.min(dist2src, dist2dst)\n",
        "    z += dist_over_2 * (dist_over_2 + dist_mod_2 - 1)\n",
        "    z[src] = 1.\n",
        "    z[dst] = 1.\n",
        "    z[torch.isnan(z)] = 0.\n",
        "\n",
        "    self.__max_z__ = max(int(z.max()), self.__max_z__)\n",
        "\n",
        "    return z.to(torch.long)"
      ],
      "execution_count": 6,
      "outputs": []
    },
    {
      "cell_type": "markdown",
      "metadata": {
        "id": "gSlmatA5lNEH"
      },
      "source": [
        "## Test Dataset"
      ]
    },
    {
      "cell_type": "code",
      "metadata": {
        "id": "bl8vNMkZaUjh"
      },
      "source": [
        "class TestDataset():\n",
        "  def __init__(self, data, num_hops, device= 'cpu', attr= False):\n",
        "    self.data = data\n",
        "    self.num_hops = num_hops\n",
        "    self.device= device\n",
        "    self.attr= attr\n",
        "\n",
        "  def process(self):\n",
        "    random.seed(12345)\n",
        "    torch.manual_seed(12345)\n",
        "    \n",
        "    self.__max_z__ = 0\n",
        "    \n",
        "    test_list = self.extract_enclosing_subgraphs(\n",
        "        self.data.test_edge_index, self.data['edge_index'])\n",
        "    \n",
        "    if self.attr:\n",
        "      for data in test_list:\n",
        "        data.x = torch.cat([torch.tensor(data.x).to(self.device), F.one_hot(data.z, self.__max_z__ + 1).to(torch.float).to(self.device)], axis= 1)\n",
        "    else:\n",
        "      for data in test_list:\n",
        "        data.x = F.one_hot(data.z, self.__max_z__ + 1).to(torch.float).to(self.device)\n",
        "    \n",
        "    return test_list\n",
        "\n",
        "  def extract_enclosing_subgraphs(self, link_index, edge_index):\n",
        "    data_list = []\n",
        "    for src, dst in link_index.t().tolist():\n",
        "      # print(f'src dst: {src}, {dst}')\n",
        "      sub_nodes, sub_edge_index, mapping, _ = k_hop_subgraph(\n",
        "          [src, dst], self.num_hops, edge_index, relabel_nodes=True, num_nodes= self.data.num_nodes)\n",
        "      src, dst = mapping.tolist() # the mapping from node indices in node_idx to their new location\n",
        "      # print(f'src dst mapped: {src},{dst}')\n",
        "      # Remove target link from the subgraph.\n",
        "      mask1 = (sub_edge_index[0] != src) | (sub_edge_index[1] != dst)\n",
        "      mask2 = (sub_edge_index[0] != dst) | (sub_edge_index[1] != src)\n",
        "      sub_edge_index = sub_edge_index[:, mask1 & mask2]\n",
        "\n",
        "      # Calculate node labeling.\n",
        "      z = self.drnl_node_labeling(sub_edge_index, src, dst, num_nodes=sub_nodes.size(0))\n",
        "\n",
        "      data = Data(x=self.data.x[sub_nodes], z=z, edge_index=sub_edge_index)\n",
        "      data_list.append(data)\n",
        "\n",
        "    return data_list\n",
        "\n",
        "  def drnl_node_labeling(self, edge_index, src, dst, num_nodes=None):\n",
        "    # Double-radius node labeling (DRNL).\n",
        "    src, dst = (dst, src) if src > dst else (src, dst)\n",
        "    adj = to_scipy_sparse_matrix(edge_index, num_nodes=num_nodes).tocsr()\n",
        "\n",
        "    idx = list(range(src)) + list(range(src + 1, adj.shape[0]))\n",
        "    adj_wo_src = adj[idx, :][:, idx]\n",
        "\n",
        "    idx = list(range(dst)) + list(range(dst + 1, adj.shape[0]))\n",
        "    adj_wo_dst = adj[idx, :][:, idx]\n",
        "\n",
        "    dist2src = shortest_path(adj_wo_dst, directed=False, unweighted=True,\n",
        "                              indices=src)\n",
        "    dist2src = np.insert(dist2src, dst, 0, axis=0)\n",
        "    dist2src = torch.from_numpy(dist2src)\n",
        "\n",
        "    dist2dst = shortest_path(adj_wo_src, directed=False, unweighted=True,\n",
        "                              indices=dst - 1)\n",
        "    dist2dst = np.insert(dist2dst, src, 0, axis=0)\n",
        "    dist2dst = torch.from_numpy(dist2dst)\n",
        "\n",
        "    dist = dist2src + dist2dst\n",
        "    dist_over_2, dist_mod_2 = dist // 2, dist % 2\n",
        "\n",
        "    z = 1 + torch.min(dist2src, dist2dst)\n",
        "    z += dist_over_2 * (dist_over_2 + dist_mod_2 - 1)\n",
        "    z[src] = 1.\n",
        "    z[dst] = 1.\n",
        "    z[torch.isnan(z)] = 0.\n",
        "\n",
        "    self.__max_z__ = max(int(z.max()), self.__max_z__)\n",
        "\n",
        "    return z.to(torch.long)"
      ],
      "execution_count": 7,
      "outputs": []
    },
    {
      "cell_type": "markdown",
      "metadata": {
        "id": "zuIdjEcP1w5k"
      },
      "source": [
        "# Model"
      ]
    },
    {
      "cell_type": "code",
      "metadata": {
        "id": "wkcjepLh1yVw"
      },
      "source": [
        "class DGCNN(torch.nn.Module):\n",
        "    def __init__(self, hidden_channels, num_layers, GNN=GCNConv, k=0.6):\n",
        "        super(DGCNN, self).__init__()\n",
        "\n",
        "        if k < 1:  # Transform percentile to number.\n",
        "            num_nodes = sorted([data.num_nodes for data in train_dataset])\n",
        "            k = num_nodes[int(math.ceil(k * len(num_nodes))) - 1]\n",
        "            k = max(10, k)\n",
        "        self.k = int(k)\n",
        "\n",
        "        self.convs = ModuleList()\n",
        "        self.convs.append(GNN(train_dataset.num_features, hidden_channels))\n",
        "        for i in range(0, num_layers - 1):\n",
        "            self.convs.append(GNN(hidden_channels, hidden_channels))\n",
        "        self.convs.append(GNN(hidden_channels, 1))\n",
        "\n",
        "        conv1d_channels = [16, 32]\n",
        "        total_latent_dim = hidden_channels * num_layers + 1\n",
        "        conv1d_kws = [total_latent_dim, 5]\n",
        "        self.conv1 = Conv1d(1, conv1d_channels[0], conv1d_kws[0],\n",
        "                            conv1d_kws[0])\n",
        "        self.maxpool1d = MaxPool1d(2, 2)\n",
        "        self.conv2 = Conv1d(conv1d_channels[0], conv1d_channels[1],\n",
        "                            conv1d_kws[1], 1)\n",
        "        dense_dim = int((self.k - 2) / 2 + 1)\n",
        "        dense_dim = (dense_dim - conv1d_kws[1] + 1) * conv1d_channels[1]\n",
        "        self.lin1 = Linear(dense_dim, 128)\n",
        "        self.lin2 = Linear(128, 1)\n",
        "\n",
        "    def forward(self, x, edge_index, batch):\n",
        "        # print(f'x shape: {x.shape}')\n",
        "        xs = [x]\n",
        "        for conv in self.convs:\n",
        "            xs += [torch.tanh(conv(xs[-1], edge_index))]\n",
        "        x = torch.cat(xs[1:], dim=-1)\n",
        "\n",
        "        # Global pooling.\n",
        "        x = global_sort_pool(x, batch, self.k)\n",
        "        x = x.unsqueeze(1)  # [num_graphs, 1, k * hidden]\n",
        "        x = F.relu(self.conv1(x))\n",
        "        x = self.maxpool1d(x)\n",
        "        x = F.relu(self.conv2(x))\n",
        "        x = x.view(x.size(0), -1)  # [num_graphs, dense_dim]\n",
        "\n",
        "        # MLP.\n",
        "        x = F.relu(self.lin1(x))\n",
        "        x = F.dropout(x, p=0.5, training=self.training)\n",
        "        x = self.lin2(x)\n",
        "        return x"
      ],
      "execution_count": 52,
      "outputs": []
    },
    {
      "cell_type": "markdown",
      "metadata": {
        "id": "wL5ozIjs7F3V"
      },
      "source": [
        "# Train & Test"
      ]
    },
    {
      "cell_type": "code",
      "metadata": {
        "id": "fMcrVCbtBCWV"
      },
      "source": [
        "def train():\n",
        "  \n",
        "  model.train()\n",
        "\n",
        "  y_pred, y_true = [], []\n",
        "  total_loss = 0\n",
        "  for data in train_loader:\n",
        "      data = data.to(device)\n",
        "      optimizer.zero_grad()\n",
        "      logits = model(data.x, data.edge_index, data.batch)\n",
        "      loss = BCEWithLogitsLoss()(logits.view(-1), data.y.to(torch.float))\n",
        "      loss.backward()\n",
        "      optimizer.step()\n",
        "      total_loss += loss.item() * data.num_graphs\n",
        "      y_pred.append(logits.view(-1).detach().cpu())\n",
        "      y_true.append(data.y.view(-1).detach().cpu().to(torch.float))\n",
        "\n",
        "  return total_loss / len(train_dataset), roc_auc_score(torch.cat(y_true), torch.cat(y_pred))\n",
        "\n",
        "\n",
        "def test(loader):\n",
        "  global model\n",
        "  model.eval()\n",
        "\n",
        "  with torch.no_grad():\n",
        "    y_pred, y_true = [], []\n",
        "    for data in loader:\n",
        "        data = data.to(device)\n",
        "        logits = model(data.x, data.edge_index, data.batch)\n",
        "        y_pred.append(logits.view(-1).cpu())\n",
        "        y_true.append(data.y.view(-1).cpu().to(torch.float))\n",
        "\n",
        "  return roc_auc_score(torch.cat(y_true), torch.cat(y_pred))"
      ],
      "execution_count": 53,
      "outputs": []
    },
    {
      "cell_type": "code",
      "metadata": {
        "id": "7QArlMV4UiDY"
      },
      "source": [
        "def logits_p(logit):\n",
        "  return 2.71828**logit / (1 + 2.71828**logit)"
      ],
      "execution_count": 54,
      "outputs": []
    },
    {
      "cell_type": "markdown",
      "metadata": {
        "id": "UymZIItiDn8O"
      },
      "source": [
        "# 參數"
      ]
    },
    {
      "cell_type": "code",
      "metadata": {
        "id": "1WKt0GQdDrFZ"
      },
      "source": [
        "num_hops= 2\n",
        "batch_size= 32\n",
        "hidden_channels= 64\n",
        "num_layers= 3\n",
        "lr= 1e-4\n",
        "num_epoch = 30\n",
        "attr= True\n",
        "device = 'cuda' if torch.cuda.is_available() else 'cpu'"
      ],
      "execution_count": 89,
      "outputs": []
    },
    {
      "cell_type": "code",
      "metadata": {
        "id": "Ib0cbbZETySp"
      },
      "source": [
        "def main(folder = 'dataset1'):\n",
        "  \n",
        "  train_df = pd.read_csv(f'/content/drive/MyDrive/python_data/社群網路與推薦系統/hw2/{folder}/train.csv')\n",
        "  test_df = pd.read_csv(f'/content/drive/MyDrive/python_data/社群網路與推薦系統/hw2/{folder}/test.csv')\n",
        "  content_df = pd.read_csv(f'/content/drive/MyDrive/python_data/社群網路與推薦系統/hw2/{folder}/content.csv', delimiter='\\t', header= None, index_col=[0])\n",
        "\n",
        "  self_train_df = train_df[train_df['to']==train_df['from']]\n",
        "  print(len(self_train_df))\n",
        "  train_df = train_df[train_df['to']!=train_df['from']]\n",
        "\n",
        "  self_test_df = test_df[test_df['to']==test_df['from']]\n",
        "  original_test_df = copy.deepcopy(test_df)\n",
        "  test_df = test_df[test_df['to']!=test_df['from']]\n",
        "\n",
        "  pos_train_df = train_df[train_df['label']== 1]\n",
        "  neg_train_df = train_df[train_df['label']== 0]\n",
        "  print(f'pos len: {len(pos_train_df)}, neg len: {len(neg_train_df)}')\n",
        "  train_pos_edge_index= torch.tensor(pos_train_df[['from', 'to']].to_numpy().transpose(), dtype= torch.long)\n",
        "  train_neg_edge_index= torch.tensor(neg_train_df[['from', 'to']].to_numpy().transpose(), dtype= torch.long)\n",
        "  # print(train_pos_edge_index.shape)\n",
        "  # print(train_neg_edge_index.shape)\n",
        "  x_feature = content_df.sort_index(ascending=True).to_numpy()\n",
        "  print(x_feature.shape)\n",
        "\n",
        "  data = Data(x= x_feature, edge_index=train_pos_edge_index)\n",
        "  data.num_nodes = x_feature.shape[0]\n",
        "  print(data.num_nodes)\n",
        "\n",
        "  test_edge_index = torch.tensor(test_df[['from', 'to']].to_numpy().transpose(), dtype= torch.long)\n",
        "\n",
        "  data.train_pos_edge_index = train_pos_edge_index\n",
        "  data.train_neg_edge_index = train_neg_edge_index\n",
        "  data.test_edge_index = test_edge_index\n",
        "\n",
        "  global train_dataset\n",
        "  global train_loader\n",
        "  global model\n",
        "  global optimizer\n",
        "\n",
        "  train_dataset = SEALDataset(data, num_hops= num_hops, split='train', device= device, attr= attr)\n",
        "  test_dataset = TestDataset(data, num_hops=num_hops, device= device, attr= attr).process()\n",
        "\n",
        "  train_loader = DataLoader(train_dataset, batch_size=batch_size, shuffle=True)\n",
        "  test_loader = DataLoader(test_dataset, batch_size=1)\n",
        "\n",
        "  model = DGCNN(hidden_channels=hidden_channels, num_layers=num_layers).to(device)\n",
        "  optimizer = torch.optim.Adam(params=model.parameters(), lr=lr)\n",
        "\n",
        "  train_auc_list = []\n",
        "  for epoch in range(1, num_epoch+1):\n",
        "    loss, train_auc = train()\n",
        "    train_auc_list.append(train_auc)\n",
        "    print(f'Epoch: {epoch:02d}, Loss: {loss:.3f}, Train: {train_auc:.3f}')\n",
        "  \n",
        "  outputs = []\n",
        "  model.eval()\n",
        "  with torch.no_grad():\n",
        "    for data in test_loader: \n",
        "      data = data.to(device)\n",
        "      logits = model(data.x, data.edge_index, data.batch)\n",
        "      outputs.append(logits_p(logits.cpu().item()))\n",
        "  len(outputs) == len(test_df)\n",
        "\n",
        "  # outputs\n",
        "  count = 0\n",
        "  with open(f'{folder}_output.csv', 'w') as f: \n",
        "    writer = csv.writer(f)\n",
        "    writer.writerow(['id', 'prob'])\n",
        "    for id in original_test_df['id'].values:\n",
        "      if id in self_test_df['id'].values:\n",
        "        writer.writerow([id, 1])\n",
        "      else:\n",
        "        writer.writerow([id, outputs[count]])\n",
        "        count += 1\n",
        "\n",
        "  return model, train_auc_list"
      ],
      "execution_count": 90,
      "outputs": []
    },
    {
      "cell_type": "markdown",
      "metadata": {
        "id": "K0XNi9xGD7NG"
      },
      "source": [
        "# Run"
      ]
    },
    {
      "cell_type": "code",
      "metadata": {
        "id": "hPBJ-kClD4Gu"
      },
      "source": [
        "# train_auc_list = []\n",
        "# for epoch in range(1, epoch+1):\n",
        "#   loss, train_auc = train()\n",
        "#   train_auc_list.append(train_auc)\n",
        "#   print(f'Epoch: {epoch:02d}, Loss: {loss:.3f}, Train: {train_auc:.3f}')"
      ],
      "execution_count": 91,
      "outputs": []
    },
    {
      "cell_type": "code",
      "metadata": {
        "colab": {
          "base_uri": "https://localhost:8080/"
        },
        "id": "gw9Q4lykU5sX",
        "outputId": "ada81fc4-8e59-491d-cee0-25d57f6398d9"
      },
      "source": [
        "folders = ['dataset1', 'dataset2', 'dataset3']\n",
        "train_auc_lists= []\n",
        "for folder in folders:\n",
        "  model, train_auc_list = main(folder= folder)\n",
        "  train_auc_lists.append(train_auc_list)"
      ],
      "execution_count": 92,
      "outputs": [
        {
          "output_type": "stream",
          "text": [
            "0\n",
            "pos len: 4324, neg len: 4362\n",
            "(2708, 1433)\n",
            "2708\n",
            "Processing...\n",
            "Done!\n",
            "Epoch: 01, Loss: 0.684, Train: 0.600\n",
            "Epoch: 02, Loss: 0.632, Train: 0.695\n",
            "Epoch: 03, Loss: 0.582, Train: 0.741\n",
            "Epoch: 04, Loss: 0.552, Train: 0.766\n",
            "Epoch: 05, Loss: 0.532, Train: 0.786\n",
            "Epoch: 06, Loss: 0.524, Train: 0.796\n",
            "Epoch: 07, Loss: 0.513, Train: 0.806\n",
            "Epoch: 08, Loss: 0.506, Train: 0.815\n",
            "Epoch: 09, Loss: 0.503, Train: 0.817\n",
            "Epoch: 10, Loss: 0.493, Train: 0.827\n",
            "Epoch: 11, Loss: 0.490, Train: 0.830\n",
            "Epoch: 12, Loss: 0.483, Train: 0.836\n",
            "Epoch: 13, Loss: 0.476, Train: 0.843\n",
            "Epoch: 14, Loss: 0.471, Train: 0.847\n",
            "Epoch: 15, Loss: 0.465, Train: 0.852\n",
            "Epoch: 16, Loss: 0.464, Train: 0.854\n",
            "Epoch: 17, Loss: 0.455, Train: 0.861\n",
            "Epoch: 18, Loss: 0.447, Train: 0.865\n",
            "Epoch: 19, Loss: 0.444, Train: 0.868\n",
            "Epoch: 20, Loss: 0.437, Train: 0.874\n",
            "Epoch: 21, Loss: 0.431, Train: 0.877\n",
            "Epoch: 22, Loss: 0.426, Train: 0.882\n",
            "Epoch: 23, Loss: 0.422, Train: 0.884\n",
            "Epoch: 24, Loss: 0.417, Train: 0.887\n",
            "Epoch: 25, Loss: 0.406, Train: 0.893\n",
            "Epoch: 26, Loss: 0.407, Train: 0.892\n",
            "Epoch: 27, Loss: 0.397, Train: 0.898\n",
            "Epoch: 28, Loss: 0.395, Train: 0.900\n",
            "Epoch: 29, Loss: 0.388, Train: 0.904\n",
            "Epoch: 30, Loss: 0.383, Train: 0.907\n",
            "106\n",
            "pos len: 3630, neg len: 3808\n",
            "(3312, 3703)\n",
            "3312\n",
            "Processing...\n",
            "Done!\n",
            "Epoch: 01, Loss: 0.686, Train: 0.553\n",
            "Epoch: 02, Loss: 0.651, Train: 0.654\n",
            "Epoch: 03, Loss: 0.622, Train: 0.704\n",
            "Epoch: 04, Loss: 0.595, Train: 0.735\n",
            "Epoch: 05, Loss: 0.569, Train: 0.763\n",
            "Epoch: 06, Loss: 0.545, Train: 0.786\n",
            "Epoch: 07, Loss: 0.532, Train: 0.799\n",
            "Epoch: 08, Loss: 0.516, Train: 0.815\n",
            "Epoch: 09, Loss: 0.501, Train: 0.828\n",
            "Epoch: 10, Loss: 0.483, Train: 0.844\n",
            "Epoch: 11, Loss: 0.463, Train: 0.861\n",
            "Epoch: 12, Loss: 0.442, Train: 0.877\n",
            "Epoch: 13, Loss: 0.417, Train: 0.894\n",
            "Epoch: 14, Loss: 0.390, Train: 0.910\n",
            "Epoch: 15, Loss: 0.364, Train: 0.922\n",
            "Epoch: 16, Loss: 0.342, Train: 0.931\n",
            "Epoch: 17, Loss: 0.322, Train: 0.939\n",
            "Epoch: 18, Loss: 0.305, Train: 0.945\n",
            "Epoch: 19, Loss: 0.287, Train: 0.951\n",
            "Epoch: 20, Loss: 0.273, Train: 0.956\n",
            "Epoch: 21, Loss: 0.260, Train: 0.960\n",
            "Epoch: 22, Loss: 0.246, Train: 0.964\n",
            "Epoch: 23, Loss: 0.234, Train: 0.968\n",
            "Epoch: 24, Loss: 0.224, Train: 0.970\n",
            "Epoch: 25, Loss: 0.214, Train: 0.973\n",
            "Epoch: 26, Loss: 0.204, Train: 0.975\n",
            "Epoch: 27, Loss: 0.203, Train: 0.976\n",
            "Epoch: 28, Loss: 0.193, Train: 0.978\n",
            "Epoch: 29, Loss: 0.189, Train: 0.978\n",
            "Epoch: 30, Loss: 0.182, Train: 0.980\n",
            "70\n",
            "pos len: 1203, neg len: 1299\n",
            "(877, 1703)\n",
            "877\n",
            "Processing...\n",
            "Done!\n",
            "Epoch: 01, Loss: 0.690, Train: 0.570\n",
            "Epoch: 02, Loss: 0.670, Train: 0.690\n",
            "Epoch: 03, Loss: 0.642, Train: 0.709\n",
            "Epoch: 04, Loss: 0.615, Train: 0.716\n",
            "Epoch: 05, Loss: 0.590, Train: 0.743\n",
            "Epoch: 06, Loss: 0.575, Train: 0.756\n",
            "Epoch: 07, Loss: 0.560, Train: 0.775\n",
            "Epoch: 08, Loss: 0.549, Train: 0.790\n",
            "Epoch: 09, Loss: 0.534, Train: 0.809\n",
            "Epoch: 10, Loss: 0.525, Train: 0.812\n",
            "Epoch: 11, Loss: 0.510, Train: 0.829\n",
            "Epoch: 12, Loss: 0.497, Train: 0.841\n",
            "Epoch: 13, Loss: 0.479, Train: 0.854\n",
            "Epoch: 14, Loss: 0.471, Train: 0.858\n",
            "Epoch: 15, Loss: 0.457, Train: 0.866\n",
            "Epoch: 16, Loss: 0.447, Train: 0.874\n",
            "Epoch: 17, Loss: 0.432, Train: 0.881\n",
            "Epoch: 18, Loss: 0.423, Train: 0.889\n",
            "Epoch: 19, Loss: 0.410, Train: 0.894\n",
            "Epoch: 20, Loss: 0.403, Train: 0.899\n",
            "Epoch: 21, Loss: 0.390, Train: 0.906\n",
            "Epoch: 22, Loss: 0.389, Train: 0.906\n",
            "Epoch: 23, Loss: 0.377, Train: 0.912\n",
            "Epoch: 24, Loss: 0.374, Train: 0.912\n",
            "Epoch: 25, Loss: 0.363, Train: 0.919\n",
            "Epoch: 26, Loss: 0.358, Train: 0.921\n",
            "Epoch: 27, Loss: 0.351, Train: 0.925\n",
            "Epoch: 28, Loss: 0.345, Train: 0.929\n",
            "Epoch: 29, Loss: 0.331, Train: 0.934\n",
            "Epoch: 30, Loss: 0.323, Train: 0.937\n"
          ],
          "name": "stdout"
        }
      ]
    },
    {
      "cell_type": "code",
      "metadata": {
        "colab": {
          "base_uri": "https://localhost:8080/",
          "height": 281
        },
        "id": "RHxPLvSOR4j5",
        "outputId": "aea9d28b-2824-4528-b87b-8b7a7437da7e"
      },
      "source": [
        "plt.plot(list(range(1, num_epoch+1)), train_auc_lists[0], label= 'folder1')\n",
        "plt.plot(list(range(1, num_epoch+1)), train_auc_lists[1], label= 'folder2')\n",
        "plt.plot(list(range(1, num_epoch+1)), train_auc_lists[2], label= 'folder3')\n",
        "plt.title(f'Train AUC')\n",
        "plt.legend()\n",
        "plt.show()"
      ],
      "execution_count": 93,
      "outputs": [
        {
          "output_type": "display_data",
          "data": {
            "image/png": "[encoded data removed]",
            "text/plain": [
              "<Figure size 432x288 with 1 Axes>"
            ]
          },
          "metadata": {
            "tags": [],
            "needs_background": "light"
          }
        }
      ]
    },
    {
      "cell_type": "markdown",
      "metadata": {
        "id": "Z3RDdHLeNLgp"
      },
      "source": [
        "## Output"
      ]
    },
    {
      "cell_type": "code",
      "metadata": {
        "id": "GYCbkNwBNNFh"
      },
      "source": [
        "# outputs = []\n",
        "# model.eval()\n",
        "# with torch.no_grad():\n",
        "#   for data in test_loader: \n",
        "#     data = data.to(device)\n",
        "#     logits = model(data.x, data.edge_index, data.batch)\n",
        "#     outputs.append(logits_p(logits.cpu().item()))"
      ],
      "execution_count": 94,
      "outputs": []
    },
    {
      "cell_type": "code",
      "metadata": {
        "id": "EKhcC4SQd31v"
      },
      "source": [
        "# len(outputs) == len(test_df)"
      ],
      "execution_count": 95,
      "outputs": []
    },
    {
      "cell_type": "code",
      "metadata": {
        "id": "9arxLqth_uKm"
      },
      "source": [
        "# # outputs\n",
        "# count = 0\n",
        "# with open(f'{folder}_output.csv', 'w') as f: \n",
        "#   writer = csv.writer(f)\n",
        "#   writer.writerow(['id', 'prob'])\n",
        "#   for id in original_test_df['id'].values:\n",
        "#     if id in self_test_df['id'].values:\n",
        "#       writer.writerow([id, 1])\n",
        "#     else:\n",
        "#       writer.writerow([id, outputs[count]])\n",
        "#       count += 1"
      ],
      "execution_count": 96,
      "outputs": []
    },
    {
      "cell_type": "markdown",
      "metadata": {
        "id": "8c3tLOxKxGwS"
      },
      "source": [
        ""
      ]
    },
    {
      "cell_type": "code",
      "metadata": {
        "id": "5iA_yiQ-xKw2"
      },
      "source": [
        "# import torch_geometric.transforms as T\n",
        "# from torch_geometric.nn import GCNConv, GAE, VGAE\n",
        "# from torch_geometric.utils import train_test_split_edges\n",
        "\n",
        "# data.train_mask = data.val_mask = data.test_mask = data.y = data.batch = None\n",
        "# new_data = train_test_split_edges(data)\n",
        "\n",
        "\n",
        "# class GCNEncoder(torch.nn.Module):\n",
        "#     def __init__(self, in_channels, out_channels):\n",
        "#         super(GCNEncoder, self).__init__()\n",
        "#         self.conv1 = GCNConv(in_channels, 2 * out_channels, cached=True)\n",
        "#         self.conv2 = GCNConv(2 * out_channels, out_channels, cached=True)\n",
        "\n",
        "#     def forward(self, x, edge_index):\n",
        "#         x = self.conv1(x, edge_index).relu()\n",
        "#         return self.conv2(x, edge_index)\n",
        "\n",
        "\n",
        "# class VariationalGCNEncoder(torch.nn.Module):\n",
        "#     def __init__(self, in_channels, out_channels):\n",
        "#         super(VariationalGCNEncoder, self).__init__()\n",
        "#         self.conv1 = GCNConv(in_channels, 2 * out_channels, cached=True)\n",
        "#         self.conv_mu = GCNConv(2 * out_channels, out_channels, cached=True)\n",
        "#         self.conv_logstd = GCNConv(2 * out_channels, out_channels, cached=True)\n",
        "\n",
        "#     def forward(self, x, edge_index):\n",
        "#         x = self.conv1(x, edge_index).relu()\n",
        "#         return self.conv_mu(x, edge_index), self.conv_logstd(x, edge_index)\n",
        "\n",
        "\n",
        "# class LinearEncoder(torch.nn.Module):\n",
        "#     def __init__(self, in_channels, out_channels):\n",
        "#         super(LinearEncoder, self).__init__()\n",
        "#         self.conv = GCNConv(in_channels, out_channels, cached=True)\n",
        "\n",
        "#     def forward(self, x, edge_index):\n",
        "#         return self.conv(x, edge_index)\n",
        "\n",
        "\n",
        "# class VariationalLinearEncoder(torch.nn.Module):\n",
        "#     def __init__(self, in_channels, out_channels):\n",
        "#         super(VariationalLinearEncoder, self).__init__()\n",
        "#         self.conv_mu = GCNConv(in_channels, out_channels, cached=True)\n",
        "#         self.conv_logstd = GCNConv(in_channels, out_channels, cached=True)\n",
        "\n",
        "#     def forward(self, x, edge_index):\n",
        "#         return self.conv_mu(x, edge_index), self.conv_logstd(x, edge_index)"
      ],
      "execution_count": 97,
      "outputs": []
    },
    {
      "cell_type": "code",
      "metadata": {
        "id": "R17tuQMj32fx"
      },
      "source": [
        "# variational= False\n",
        "# out_channels = 32\n",
        "# lr= 1e-2\n",
        "# epoch = 100\n",
        "# num_features = data.x.shape[-1]\n",
        "\n",
        "# # if not args.variational:\n",
        "# #     if not args.linear:\n",
        "# #         model = GAE(GCNEncoder(num_features, out_channels))\n",
        "# #     else:\n",
        "# #         model = GAE(LinearEncoder(num_features, out_channels))\n",
        "# # else:\n",
        "# #     if args.linear:\n",
        "# #         model = VGAE(VariationalLinearEncoder(num_features, out_channels))\n",
        "# #     else:\n",
        "# #         model = VGAE(VariationalGCNEncoder(num_features, out_channels))\n",
        "\n",
        "# if variational: \n",
        "#   model = VGAE(VariationalGCNEncoder(num_features, out_channels))\n",
        "# else:\n",
        "#   model = GAE(GCNEncoder(num_features, out_channels))\n",
        "\n",
        "# device = torch.device('cuda' if torch.cuda.is_available() else 'cpu')\n",
        "# model = model.to(device)\n",
        "# x = torch.tensor(new_data.x).to(device)\n",
        "# x = x.to(torch.float)\n",
        "# train_pos_edge_index = new_data.train_pos_edge_index.to(device).to(torch.long)\n",
        "# optimizer = torch.optim.Adam(model.parameters(), lr=lr)\n",
        "\n",
        "\n",
        "# def train():\n",
        "#     model.train()\n",
        "#     optimizer.zero_grad()\n",
        "#     z = model.encode(x, train_pos_edge_index)\n",
        "#     loss = model.recon_loss(z, train_pos_edge_index)\n",
        "#     if variational:\n",
        "#       loss = loss + (1 / new_data.num_nodes) * model.kl_loss()\n",
        "#     loss.backward()\n",
        "#     optimizer.step()\n",
        "#     return float(loss)\n",
        "\n",
        "\n",
        "# def test(pos_edge_index, neg_edge_index):\n",
        "#     model.eval()\n",
        "#     with torch.no_grad():\n",
        "#         z = model.encode(x, train_pos_edge_index)\n",
        "#         print(z.size())\n",
        "#     return model.test(z, pos_edge_index, neg_edge_index)\n",
        "\n",
        "\n",
        "# for epoch in range(1, epoch + 1):\n",
        "#     loss = train()\n",
        "#     auc, ap = test(new_data.test_pos_edge_index, new_data.test_neg_edge_index)\n",
        "#     print('Epoch: {:03d}, AUC: {:.4f}, AP: {:.4f}'.format(epoch, auc, ap))"
      ],
      "execution_count": 98,
      "outputs": []
    },
    {
      "cell_type": "code",
      "metadata": {
        "id": "rjc4P21zzx0u"
      },
      "source": [
        ""
      ],
      "execution_count": 98,
      "outputs": []
    }
  ]
}